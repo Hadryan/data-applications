{
 "cells": [
  {
   "cell_type": "code",
   "execution_count": 1,
   "metadata": {
    "collapsed": true
   },
   "outputs": [],
   "source": [
    "%matplotlib inline\n",
    "import numpy as np\n",
    "from matplotlib import pyplot as plt"
   ]
  },
  {
   "cell_type": "code",
   "execution_count": 2,
   "metadata": {
    "collapsed": true
   },
   "outputs": [],
   "source": [
    "class ValidationError(Exception):\n",
    "    pass\n",
    "\n",
    "\n",
    "def check_order(*args):\n",
    "    def validate(fields):\n",
    "        for smaller, greater in zip(args[:-1], args[1:]):\n",
    "            if fields[greater] < fields[smaller]:\n",
    "                raise ValidationError(\"%s must not be smaller, than %s\" % (greater, smaller))\n",
    "    return validate\n",
    "\n",
    "\n",
    "def range_validator(name, minimum, maximum):\n",
    "    def validate(fields):\n",
    "        if not minimum <= fields[name] <= maximum:\n",
    "            raise ValidationError(\"%s must be between %s and %s\" % (name, minimum, maximum))\n",
    "    return validate\n",
    "\n",
    "\n",
    "class Field(object):\n",
    "    def __init__(self, name, default=0, help=None, hide=False):\n",
    "        self.name = name\n",
    "        self.default = default\n",
    "        self.help = help or ''\n",
    "        self.hide = hide\n",
    "\n",
    "\n",
    "class Product(object):\n",
    "    @classmethod\n",
    "    def fields(cls):\n",
    "        return []\n",
    "    \n",
    "    @classmethod\n",
    "    def field_dict(cls):\n",
    "        return {f.name: f for f in cls.fields()}\n",
    "\n",
    "    def __init__(self, **kwargs):\n",
    "        self.validate(kwargs)\n",
    "        fields = {f.name: f for f in self.fields()}\n",
    "        self.fields = {f.name: f.default for f in fields.values()}\n",
    "        for name, value in kwargs.items():\n",
    "            if name not in fields:\n",
    "                raise ValueError(\"Field '%s' is not recognized\" % name)\n",
    "            self.fields[name] = value\n",
    "\n",
    "    @classmethod\n",
    "    def validators(cls):\n",
    "        def check_positive(fields):\n",
    "            for name, value in fields.items():\n",
    "                if value <= 0:\n",
    "                    raise ValidationError(\"%s must be positive\" % name)\n",
    "        return [check_positive]\n",
    "\n",
    "    @classmethod\n",
    "    def validate(cls, fields):\n",
    "        for validator in cls.validators():\n",
    "            validator(fields)\n",
    "\n",
    "    def barriers(self):\n",
    "        return []\n",
    "\n",
    "    def payoff(self, spot):\n",
    "        raise NotImplementedError\n",
    "\n",
    "\n",
    "class Forward(Product):\n",
    "    @classmethod\n",
    "    def fields(cls):\n",
    "        return [Field('price', default=100)]\n",
    "\n",
    "    def payoff(self, spot):\n",
    "        return spot - self.fields['price']\n",
    "\n",
    "\n",
    "class VanillaOption(Product):\n",
    "    @classmethod\n",
    "    def fields(cls):\n",
    "        return [Field('strike', default=100)]\n",
    "\n",
    "\n",
    "class Call(VanillaOption):\n",
    "    def payoff(self, spot):\n",
    "        return np.maximum(0.0, spot - self.fields['strike'])\n",
    "\n",
    "\n",
    "class Put(VanillaOption):\n",
    "    def payoff(self, spot):\n",
    "        return np.maximum(0.0, self.fields['strike'] - spot)\n",
    "\n",
    "\n",
    "class LeveragedProduct(Product):\n",
    "    @classmethod\n",
    "    def fields(cls):\n",
    "        return [Field('leverage_ratio', default=1, hide=True)]\n",
    "\n",
    "    @classmethod\n",
    "    def validators(cls):\n",
    "        return super().validators() + [range_validator('leverage_ratio', 0, 2)]\n",
    "    \n",
    "    def leverage(self):\n",
    "        return self.fields['leverage_ratio']\n",
    "\n",
    "\n",
    "class CallSpread(LeveragedProduct):\n",
    "    @classmethod\n",
    "    def fields(cls):\n",
    "        return [Field('long_call', default=100), Field('short_call', default=120)] + super().fields()\n",
    "\n",
    "    @classmethod\n",
    "    def validators(cls):\n",
    "        return super().validators() + [check_order('long_call', 'short_call')]\n",
    "\n",
    "    def payoff(self, spot):\n",
    "        return Call(strike=self.fields['long_call']).payoff(spot) \\\n",
    "            - self.leverage() * Call(strike=self.fields['short_call']).payoff(spot)\n",
    "\n",
    "\n",
    "class PutSpread(LeveragedProduct):\n",
    "    @classmethod\n",
    "    def fields(cls):\n",
    "        return [Field('long_put', default=120), Field('short_put', default=100)] + super().fields()\n",
    "\n",
    "    @classmethod\n",
    "    def validators(cls):\n",
    "        return super().validators() + [check_order('short_put', 'long_put')]\n",
    "\n",
    "    def payoff(self, spot):\n",
    "        return Put(strike=self.fields['long_put']).payoff(spot) \\\n",
    "            - self.leverage() * Put(strike=self.fields['short_put']).payoff(spot)\n",
    "\n",
    "\n",
    "class Collar(Product):\n",
    "    @classmethod\n",
    "    def fields(cls):\n",
    "        return [Field('call_strike', default=120), Field('put_strike', default=100)]\n",
    "\n",
    "    @classmethod\n",
    "    def validators(cls):\n",
    "        return super().validators() + [check_order('put_strike', 'call_strike')]\n",
    "\n",
    "    def payoff(self, spot):\n",
    "        return Call(strike=self.fields['call_strike']).payoff(spot) \\\n",
    "            - Put(strike=self.fields['put_strike']).payoff(spot)\n",
    "\n",
    "\n",
    "class Seagull(Product):\n",
    "    @classmethod\n",
    "    def fields(cls):\n",
    "        return [Field('short_put', default=100), Field('long_call', default=110), Field('upper_strike', default=120)]\n",
    "\n",
    "    @classmethod\n",
    "    def validators(cls):\n",
    "        return super().validators() + [check_order('short_put', 'long_call', 'upper_strike')]\n",
    "\n",
    "    def payoff(self, spot):\n",
    "        return Call(strike=self.fields['long_call']).payoff(spot) \\\n",
    "            - Put(strike=self.fields['short_put']).payoff(spot) \\\n",
    "            - Call(strike=self.fields['upper_strike']).payoff(spot)\n",
    "\n",
    "\n",
    "class EnhancedForward(Product):\n",
    "    @classmethod\n",
    "    def fields(cls):\n",
    "        return [Field('strike', default=100), Field('upper_strike', default=120)]\n",
    "\n",
    "    @classmethod\n",
    "    def validators(cls):\n",
    "        return super().validators() + [check_order('strike', 'upper_strike')]\n",
    "\n",
    "    def payoff(self, spot):\n",
    "        return Forward(price=self.fields['strike']).payoff(spot) \\\n",
    "            - Call(strike=self.fields['upper_strike']).payoff(spot)\n",
    "\n",
    "\n",
    "class BarrierOption(Product):\n",
    "    @classmethod\n",
    "    def barrier_names(cls):\n",
    "        return {'barrier'}\n",
    "\n",
    "    def barriers(self):\n",
    "        barrier_names = self.barrier_names()\n",
    "        return [value for name, value in self.fields.items() if name in barrier_names]\n",
    "\n",
    "\n",
    "class KOForward(LeveragedProduct, BarrierOption):\n",
    "    @classmethod\n",
    "    def fields(cls):\n",
    "        return [Field('strike', default=100), Field('barrier', default=120)] + super().fields()\n",
    "\n",
    "    @classmethod\n",
    "    def validators(cls):\n",
    "        return super().validators() + [check_order('strike', 'barrier')]\n",
    "\n",
    "    def payoff(self, spot):\n",
    "        return (Call(strike=self.fields['strike']).payoff(spot)\n",
    "                - self.leverage() * Put(strike=self.fields['strike']).payoff(spot)) * (\n",
    "            spot < self.fields['barrier'])\n",
    "\n",
    "\n",
    "class ForwardExtra(BarrierOption):\n",
    "    @classmethod\n",
    "    def fields(cls):\n",
    "        return [Field('strike', default=120), Field('barrier', default=100)]\n",
    "\n",
    "    @classmethod\n",
    "    def validators(cls):\n",
    "        return super().validators() + [check_order('barrier', 'strike')]\n",
    "\n",
    "    def payoff(self, spot):\n",
    "        return Forward(price=self.fields['strike']).payoff(spot) \\\n",
    "            * np.logical_or(spot < self.fields['barrier'], self.fields['strike'] < spot)\n",
    "\n",
    "\n",
    "class CollarExtra(BarrierOption):\n",
    "    @classmethod\n",
    "    def fields(cls):\n",
    "        return [Field('call_strike', default=120), Field('put_strike', default=110), Field('barrier', default=100)]\n",
    "\n",
    "    @classmethod\n",
    "    def validators(cls):\n",
    "        return super().validators() + [check_order('barrier', 'put_strike', 'call_strike')]\n",
    "\n",
    "    def payoff(self, spot):\n",
    "        return Collar(call_strike=self.fields['call_strike'], put_strike=self.fields['put_strike']).payoff(spot) \\\n",
    "            * np.logical_or(spot < self.fields['barrier'], self.fields['put_strike'] < spot)"
   ]
  },
  {
   "cell_type": "code",
   "execution_count": 3,
   "metadata": {},
   "outputs": [
    {
     "data": {
      "application/vnd.jupyter.widget-view+json": {
       "model_id": "5766b2754ddd403ea78c44630a1f051e"
      }
     },
     "metadata": {},
     "output_type": "display_data"
    }
   ],
   "source": [
    "from sys import stderr\n",
    "\n",
    "import ipywidgets as widgets\n",
    "from IPython.display import display\n",
    "\n",
    "products = [Forward, Collar, Call, Put, CallSpread, PutSpread, Seagull, EnhancedForward, KOForward, ForwardExtra, CollarExtra]\n",
    "products = {p.__name__: p for p in products}\n",
    "\n",
    "plt.style.use('seaborn-whitegrid')\n",
    "\n",
    "PLOT_SAMPLES = 1000\n",
    "\n",
    "\n",
    "def plot_main(ax, x, y, is_dotted=False):\n",
    "    blue = plt.rcParams['axes.prop_cycle'].by_key()['color'][0]\n",
    "    ax.plot(x, y, lw=3, linestyle=':' if is_dotted else '-', color=blue, zorder=1000, label=\"Payoff\")\n",
    "\n",
    "def plot_payoff(product, size, **kwargs):\n",
    "    try:\n",
    "        product = product(**kwargs)\n",
    "    except ValidationError as ex:\n",
    "        stderr.write('%s\\n'% ex)\n",
    "        return\n",
    "\n",
    "    field_dict = product.field_dict()\n",
    "    min_value = max(kwargs.values())\n",
    "    max_value = 0\n",
    "    for key, value in kwargs.items():\n",
    "        if field_dict[key].hide:\n",
    "            continue\n",
    "        min_value = min(min_value, value)\n",
    "        max_value = max(max_value, value)\n",
    "\n",
    "    spots = np.linspace(min_value - size, max_value + size, PLOT_SAMPLES)\n",
    "\n",
    "    payoff_values = product.payoff(spots)\n",
    "\n",
    "    fig = plt.figure(figsize=(12, 12))\n",
    "    ax = plt.axes()\n",
    "\n",
    "    for key, value in kwargs.items():\n",
    "        if field_dict[key].hide:\n",
    "            continue\n",
    "        ax.axvline(x=value, color='black', linestyle='--', alpha=0.5, label=key, lw=2)\n",
    "        ax.text(value, max(payoff_values), '%s = %s ' % (key, value),\n",
    "                rotation=90, va='top', ha='right', fontsize='x-large', color='black', alpha=0.5)\n",
    "\n",
    "    # Draw discontinuities with dashed lines\n",
    "    blue = plt.rcParams['axes.prop_cycle'].by_key()['color'][0]\n",
    "    last_idx = 0\n",
    "    for barrier in product.barriers():\n",
    "        barrier_lower_idx = np.max(np.argwhere(spots < barrier))\n",
    "        barrier_upper_idx = np.min(np.argwhere(spots > barrier))\n",
    "        assert last_idx <= barrier_lower_idx\n",
    "        plot_main(ax, spots[last_idx:barrier_lower_idx], payoff_values[last_idx:barrier_lower_idx])\n",
    "        plot_main(ax, [barrier, barrier], [payoff_values[barrier_lower_idx], payoff_values[barrier_upper_idx]],\n",
    "                  is_dotted=True)\n",
    "        last_idx = barrier_upper_idx\n",
    "    plot_main(ax, spots[last_idx:], payoff_values[last_idx:])\n",
    "\n",
    "    ax.set_aspect('equal')\n",
    "    ax.set_xlim(min(spots), max(spots))\n",
    "    ax.tick_params(labelsize='x-large')\n",
    "\n",
    "    plt.title('Payoff function for a %s option' % product.__class__.__name__, size='xx-large')\n",
    "    ax.set_xlabel('Spot price at maturity', size='x-large')\n",
    "    ax.set_ylabel('Payoff', size='x-large')\n",
    "\n",
    "    plt.show()\n",
    "\n",
    "def show_widgets():\n",
    "    setup = True\n",
    "    field_widget = []\n",
    "\n",
    "    def print_price(**kwargs):\n",
    "        product = product_widget.value\n",
    "        plot_payoff(product, 20, **kwargs)\n",
    "\n",
    "    def product_changed(product):\n",
    "        fields = {f.name: widgets.FloatText(description=f.name, value=f.default) for f in product.fields()}\n",
    "        if field_widget:\n",
    "            field_widget[0].close()\n",
    "        new_i = widgets.interactive(print_price, **fields)\n",
    "\n",
    "        display(new_i)\n",
    "        field_widget[:] = [new_i]\n",
    "\n",
    "    product_widget = widgets.Select(options=products, description='Product:')\n",
    "\n",
    "    product_i = widgets.interactive(product_changed, product=product_widget)\n",
    "\n",
    "    display(product_i)\n",
    "\n",
    "    setup = False\n",
    "\n",
    "show_widgets()"
   ]
  }
 ],
 "metadata": {
  "kernelspec": {
   "display_name": "Python 3",
   "language": "python",
   "name": "python3"
  },
  "language_info": {
   "codemirror_mode": {
    "name": "ipython",
    "version": 3
   },
   "file_extension": ".py",
   "mimetype": "text/x-python",
   "name": "python",
   "nbconvert_exporter": "python",
   "pygments_lexer": "ipython3",
   "version": "3.6.2"
  },
  "widgets": {
   "application/vnd.jupyter.widget-state+json": {
    "state": {
     "016e9e6a424d42c0b2cf5cc15973f071": {
      "model_module": "jupyter-js-widgets",
      "model_module_version": "~2.1.4",
      "model_name": "LayoutModel",
      "state": {
       "_model_module_version": "~2.1.4",
       "_view_module_version": "~2.1.4"
      }
     },
     "01938a669b13443a92f3646c3c9af2be": {
      "model_module": "jupyter-js-widgets",
      "model_module_version": "~2.1.4",
      "model_name": "LayoutModel",
      "state": {
       "_model_module_version": "~2.1.4",
       "_view_module_version": "~2.1.4"
      }
     },
     "021d745886c94423878110977c6790e5": {
      "model_module": "jupyter-js-widgets",
      "model_module_version": "~2.1.4",
      "model_name": "LayoutModel",
      "state": {
       "_model_module_version": "~2.1.4",
       "_view_module_version": "~2.1.4"
      }
     },
     "07ca7e4c886843518755da93d5fed087": {
      "model_module": "jupyter-js-widgets",
      "model_module_version": "~2.1.4",
      "model_name": "LayoutModel",
      "state": {
       "_model_module_version": "~2.1.4",
       "_view_module_version": "~2.1.4"
      }
     },
     "08991ba7f6ad4477bb0254d83708899b": {
      "model_module": "jupyter-js-widgets",
      "model_module_version": "~2.1.4",
      "model_name": "OutputModel",
      "state": {
       "_dom_classes": [],
       "_model_module": "jupyter-js-widgets",
       "_model_module_version": "~2.1.4",
       "_view_module": "jupyter-js-widgets",
       "_view_module_version": "~2.1.4",
       "layout": "IPY_MODEL_c5a926b5047143afa3fef26566d52306",
       "msg_throttle": 1
      }
     },
     "08ef9b6e530043899a94eab1a92f1305": {
      "model_module": "jupyter-js-widgets",
      "model_module_version": "~2.1.4",
      "model_name": "LayoutModel",
      "state": {
       "_model_module_version": "~2.1.4",
       "_view_module_version": "~2.1.4"
      }
     },
     "0927e213e87e4cb59b613f6dba8ec876": {
      "model_module": "jupyter-js-widgets",
      "model_module_version": "~2.1.4",
      "model_name": "OutputModel",
      "state": {
       "_dom_classes": [],
       "_model_module": "jupyter-js-widgets",
       "_model_module_version": "~2.1.4",
       "_view_module": "jupyter-js-widgets",
       "_view_module_version": "~2.1.4",
       "layout": "IPY_MODEL_1f5278ef82a1439b94a7c6cdc9d7df2f",
       "msg_throttle": 1
      }
     },
     "0e71b23386fd4e4a8b87446d26126076": {
      "model_module": "jupyter-js-widgets",
      "model_module_version": "~2.1.4",
      "model_name": "LayoutModel",
      "state": {
       "_model_module_version": "~2.1.4",
       "_view_module_version": "~2.1.4"
      }
     },
     "0f0e8fa8f2694eac8eaa4855d2e454b6": {
      "model_module": "jupyter-js-widgets",
      "model_module_version": "~2.1.4",
      "model_name": "LayoutModel",
      "state": {
       "_model_module_version": "~2.1.4",
       "_view_module_version": "~2.1.4"
      }
     },
     "0f64a4d76965457fae50415b1df12eb1": {
      "model_module": "jupyter-js-widgets",
      "model_module_version": "~2.1.4",
      "model_name": "FloatTextModel",
      "state": {
       "_model_module_version": "~2.1.4",
       "_view_module_version": "~2.1.4",
       "description": "barrier",
       "layout": "IPY_MODEL_0f0e8fa8f2694eac8eaa4855d2e454b6",
       "value": 100
      }
     },
     "102274bc0a6d42c89e5f9ac0068372dd": {
      "model_module": "jupyter-js-widgets",
      "model_module_version": "~2.1.4",
      "model_name": "LayoutModel",
      "state": {
       "_model_module_version": "~2.1.4",
       "_view_module_version": "~2.1.4"
      }
     },
     "1091703458da42e89d325e161b39ae23": {
      "model_module": "jupyter-js-widgets",
      "model_module_version": "~2.1.4",
      "model_name": "LayoutModel",
      "state": {
       "_model_module_version": "~2.1.4",
       "_view_module_version": "~2.1.4"
      }
     },
     "1138ec3e424e453a8f8caac965a18747": {
      "model_module": "jupyter-js-widgets",
      "model_module_version": "~2.1.4",
      "model_name": "LayoutModel",
      "state": {
       "_model_module_version": "~2.1.4",
       "_view_module_version": "~2.1.4"
      }
     },
     "120eb8de1ba54a55b74e80412cdd90ce": {
      "model_module": "jupyter-js-widgets",
      "model_module_version": "~2.1.4",
      "model_name": "LayoutModel",
      "state": {
       "_model_module_version": "~2.1.4",
       "_view_module_version": "~2.1.4"
      }
     },
     "140c1b0fa57f41879bfd888e50724ac0": {
      "model_module": "jupyter-js-widgets",
      "model_module_version": "~2.1.4",
      "model_name": "FloatTextModel",
      "state": {
       "_model_module_version": "~2.1.4",
       "_view_module_version": "~2.1.4",
       "description": "price",
       "layout": "IPY_MODEL_257bee0342a04ca590408835bf305298",
       "value": 100
      }
     },
     "15d11c7f2c2241fd8dd624df1cc7648f": {
      "model_module": "jupyter-js-widgets",
      "model_module_version": "~2.1.4",
      "model_name": "LayoutModel",
      "state": {
       "_model_module_version": "~2.1.4",
       "_view_module_version": "~2.1.4"
      }
     },
     "160ffff6b2854f028af8a4ba94bc1d5c": {
      "model_module": "jupyter-js-widgets",
      "model_module_version": "~2.1.4",
      "model_name": "LayoutModel",
      "state": {
       "_model_module_version": "~2.1.4",
       "_view_module_version": "~2.1.4"
      }
     },
     "16c71d41546b4f28939d403b2a663928": {
      "model_module": "jupyter-js-widgets",
      "model_module_version": "~2.1.4",
      "model_name": "LayoutModel",
      "state": {
       "_model_module_version": "~2.1.4",
       "_view_module_version": "~2.1.4"
      }
     },
     "179310e309c44c808f40f4398752e4de": {
      "model_module": "jupyter-js-widgets",
      "model_module_version": "~2.1.4",
      "model_name": "LayoutModel",
      "state": {
       "_model_module_version": "~2.1.4",
       "_view_module_version": "~2.1.4"
      }
     },
     "183b70f2c4144724a63de086fad86737": {
      "model_module": "jupyter-js-widgets",
      "model_module_version": "~2.1.4",
      "model_name": "LayoutModel",
      "state": {
       "_model_module_version": "~2.1.4",
       "_view_module_version": "~2.1.4"
      }
     },
     "184a044917184580ab60901220d77f90": {
      "model_module": "jupyter-js-widgets",
      "model_module_version": "~2.1.4",
      "model_name": "LayoutModel",
      "state": {
       "_model_module_version": "~2.1.4",
       "_view_module_version": "~2.1.4"
      }
     },
     "197002919b1641be8ff85754e9d0327e": {
      "model_module": "jupyter-js-widgets",
      "model_module_version": "~2.1.4",
      "model_name": "FloatTextModel",
      "state": {
       "_model_module_version": "~2.1.4",
       "_view_module_version": "~2.1.4",
       "description": "short_put",
       "layout": "IPY_MODEL_d9be4f86f2264d2bb4962402ca34463a",
       "value": 100
      }
     },
     "1acb0a39df3e4b568d06a49f7551cd7f": {
      "model_module": "jupyter-js-widgets",
      "model_module_version": "~2.1.4",
      "model_name": "FloatTextModel",
      "state": {
       "_model_module_version": "~2.1.4",
       "_view_module_version": "~2.1.4",
       "description": "short_put",
       "layout": "IPY_MODEL_81b4af6d6ff84db5ba1efbf6745bb6b1",
       "value": 100
      }
     },
     "1bb8e7949127480a8300722263f9a324": {
      "model_module": "jupyter-js-widgets",
      "model_module_version": "~2.1.4",
      "model_name": "LayoutModel",
      "state": {
       "_model_module_version": "~2.1.4",
       "_view_module_version": "~2.1.4"
      }
     },
     "1c9545eb69394b1cbe842b06d1ea24be": {
      "model_module": "jupyter-js-widgets",
      "model_module_version": "~2.1.4",
      "model_name": "VBoxModel",
      "state": {
       "_dom_classes": [
        "widget-interact"
       ],
       "_model_module_version": "~2.1.4",
       "_view_module_version": "~2.1.4",
       "children": [
        "IPY_MODEL_140c1b0fa57f41879bfd888e50724ac0",
        "IPY_MODEL_297da8a420b741358164bad11e593ff1"
       ],
       "layout": "IPY_MODEL_44a13c37c32d4fddbe686216032a370e"
      }
     },
     "1ed729c2b6d34513bb42af94e6923023": {
      "model_module": "jupyter-js-widgets",
      "model_module_version": "~2.1.4",
      "model_name": "FloatTextModel",
      "state": {
       "_model_module_version": "~2.1.4",
       "_view_module_version": "~2.1.4",
       "description": "strike",
       "layout": "IPY_MODEL_183b70f2c4144724a63de086fad86737",
       "value": 100
      }
     },
     "1f5278ef82a1439b94a7c6cdc9d7df2f": {
      "model_module": "jupyter-js-widgets",
      "model_module_version": "~2.1.4",
      "model_name": "LayoutModel",
      "state": {
       "_model_module_version": "~2.1.4",
       "_view_module_version": "~2.1.4"
      }
     },
     "201f187fd9de4edba1b11df1279afead": {
      "model_module": "jupyter-js-widgets",
      "model_module_version": "~2.1.4",
      "model_name": "OutputModel",
      "state": {
       "_dom_classes": [],
       "_model_module": "jupyter-js-widgets",
       "_model_module_version": "~2.1.4",
       "_view_module": "jupyter-js-widgets",
       "_view_module_version": "~2.1.4",
       "layout": "IPY_MODEL_f3b040792d644f42b83a08843d8e5ecf",
       "msg_throttle": 1
      }
     },
     "214519c1c6ed45fcabddc4f564a56579": {
      "model_module": "jupyter-js-widgets",
      "model_module_version": "~2.1.4",
      "model_name": "FloatTextModel",
      "state": {
       "_model_module_version": "~2.1.4",
       "_view_module_version": "~2.1.4",
       "description": "barrier",
       "layout": "IPY_MODEL_787c851d94ef4759a014612f5bbcce7b",
       "value": 100
      }
     },
     "245e50e3b0ff478db9e527bf0f92c2ad": {
      "model_module": "jupyter-js-widgets",
      "model_module_version": "~2.1.4",
      "model_name": "FloatTextModel",
      "state": {
       "_model_module_version": "~2.1.4",
       "_view_module_version": "~2.1.4",
       "description": "put_strike",
       "layout": "IPY_MODEL_e37cdd93c42a4ca4b562cc477997ff37",
       "value": 110
      }
     },
     "251ba6e46e074d2c9b3eaa8b0a099d2c": {
      "model_module": "jupyter-js-widgets",
      "model_module_version": "~2.1.4",
      "model_name": "LayoutModel",
      "state": {
       "_model_module_version": "~2.1.4",
       "_view_module_version": "~2.1.4"
      }
     },
     "257bee0342a04ca590408835bf305298": {
      "model_module": "jupyter-js-widgets",
      "model_module_version": "~2.1.4",
      "model_name": "LayoutModel",
      "state": {
       "_model_module_version": "~2.1.4",
       "_view_module_version": "~2.1.4"
      }
     },
     "26ca89c8044e4621b805bc3812311e40": {
      "model_module": "jupyter-js-widgets",
      "model_module_version": "~2.1.4",
      "model_name": "LayoutModel",
      "state": {
       "_model_module_version": "~2.1.4",
       "_view_module_version": "~2.1.4"
      }
     },
     "272bc83201e24dfa88d43d380a2339a3": {
      "model_module": "jupyter-js-widgets",
      "model_module_version": "~2.1.4",
      "model_name": "LayoutModel",
      "state": {
       "_model_module_version": "~2.1.4",
       "_view_module_version": "~2.1.4"
      }
     },
     "27f3e42e722a432a9a04c73f0739dec5": {
      "model_module": "jupyter-js-widgets",
      "model_module_version": "~2.1.4",
      "model_name": "LayoutModel",
      "state": {
       "_model_module_version": "~2.1.4",
       "_view_module_version": "~2.1.4"
      }
     },
     "28df6eb0cb1c431e8636985250ddf2ce": {
      "model_module": "jupyter-js-widgets",
      "model_module_version": "~2.1.4",
      "model_name": "OutputModel",
      "state": {
       "_dom_classes": [],
       "_model_module": "jupyter-js-widgets",
       "_model_module_version": "~2.1.4",
       "_view_module": "jupyter-js-widgets",
       "_view_module_version": "~2.1.4",
       "layout": "IPY_MODEL_d25dcd4dcb6c44dc978d93e77678d8dc",
       "msg_throttle": 1
      }
     },
     "2911b10955984236af9ae5826d3da835": {
      "model_module": "jupyter-js-widgets",
      "model_module_version": "~2.1.4",
      "model_name": "FloatTextModel",
      "state": {
       "_model_module_version": "~2.1.4",
       "_view_module_version": "~2.1.4",
       "description": "strike",
       "layout": "IPY_MODEL_cf3427b962ed4e9ea35849707291115e",
       "value": 100
      }
     },
     "293bcde19099437faf3bdc06276d0fea": {
      "model_module": "jupyter-js-widgets",
      "model_module_version": "~2.1.4",
      "model_name": "LayoutModel",
      "state": {
       "_model_module_version": "~2.1.4",
       "_view_module_version": "~2.1.4"
      }
     },
     "297da8a420b741358164bad11e593ff1": {
      "model_module": "jupyter-js-widgets",
      "model_module_version": "~2.1.4",
      "model_name": "OutputModel",
      "state": {
       "_dom_classes": [],
       "_model_module": "jupyter-js-widgets",
       "_model_module_version": "~2.1.4",
       "_view_module": "jupyter-js-widgets",
       "_view_module_version": "~2.1.4",
       "layout": "IPY_MODEL_c3fc49f33f6744d7b35c9dadfb3f1a26",
       "msg_throttle": 1
      }
     },
     "2a4ed45a5f454b098b049f48be82ff2b": {
      "model_module": "jupyter-js-widgets",
      "model_module_version": "~2.1.4",
      "model_name": "OutputModel",
      "state": {
       "_dom_classes": [],
       "_model_module": "jupyter-js-widgets",
       "_model_module_version": "~2.1.4",
       "_view_module": "jupyter-js-widgets",
       "_view_module_version": "~2.1.4",
       "layout": "IPY_MODEL_a40195e2910a41bab92e239a4bf728ba",
       "msg_throttle": 1
      }
     },
     "2c03c7bf4bc247f482becb642f64ff24": {
      "model_module": "jupyter-js-widgets",
      "model_module_version": "~2.1.4",
      "model_name": "OutputModel",
      "state": {
       "_dom_classes": [],
       "_model_module": "jupyter-js-widgets",
       "_model_module_version": "~2.1.4",
       "_view_module": "jupyter-js-widgets",
       "_view_module_version": "~2.1.4",
       "layout": "IPY_MODEL_6d99fc158d844d43aac80053b44d4190",
       "msg_throttle": 1
      }
     },
     "2e093dd5ac4d4fe78d2da19939488f10": {
      "model_module": "jupyter-js-widgets",
      "model_module_version": "~2.1.4",
      "model_name": "FloatTextModel",
      "state": {
       "_model_module_version": "~2.1.4",
       "_view_module_version": "~2.1.4",
       "description": "strike",
       "layout": "IPY_MODEL_6cba01a9275f41b0b11cfbbdb06d9c72",
       "value": 100
      }
     },
     "330ec6efd83747319dcf4484eb8360e9": {
      "model_module": "jupyter-js-widgets",
      "model_module_version": "~2.1.4",
      "model_name": "LayoutModel",
      "state": {
       "_model_module_version": "~2.1.4",
       "_view_module_version": "~2.1.4"
      }
     },
     "3503e0a90614422aa0bfdbaf2c43dc48": {
      "model_module": "jupyter-js-widgets",
      "model_module_version": "~2.1.4",
      "model_name": "OutputModel",
      "state": {
       "_dom_classes": [],
       "_model_module": "jupyter-js-widgets",
       "_model_module_version": "~2.1.4",
       "_view_module": "jupyter-js-widgets",
       "_view_module_version": "~2.1.4",
       "layout": "IPY_MODEL_08ef9b6e530043899a94eab1a92f1305",
       "msg_throttle": 1
      }
     },
     "3589e72abca6453386dee9aa695a1b19": {
      "model_module": "jupyter-js-widgets",
      "model_module_version": "~2.1.4",
      "model_name": "LayoutModel",
      "state": {
       "_model_module_version": "~2.1.4",
       "_view_module_version": "~2.1.4"
      }
     },
     "38e4635d71054a92b2a65fb5687348a4": {
      "model_module": "jupyter-js-widgets",
      "model_module_version": "~2.1.4",
      "model_name": "LayoutModel",
      "state": {
       "_model_module_version": "~2.1.4",
       "_view_module_version": "~2.1.4"
      }
     },
     "3a787934e1d441f7a74956ef1f5e85a2": {
      "model_module": "jupyter-js-widgets",
      "model_module_version": "~2.1.4",
      "model_name": "OutputModel",
      "state": {
       "_dom_classes": [],
       "_model_module": "jupyter-js-widgets",
       "_model_module_version": "~2.1.4",
       "_view_module": "jupyter-js-widgets",
       "_view_module_version": "~2.1.4",
       "layout": "IPY_MODEL_51e6e861448a40709286f4036a337ae7",
       "msg_throttle": 1
      }
     },
     "3d20f0823c61429b80cd42767f31b6e5": {
      "model_module": "jupyter-js-widgets",
      "model_module_version": "~2.1.4",
      "model_name": "FloatTextModel",
      "state": {
       "_model_module_version": "~2.1.4",
       "_view_module_version": "~2.1.4",
       "description": "barrier",
       "layout": "IPY_MODEL_251ba6e46e074d2c9b3eaa8b0a099d2c",
       "value": 120
      }
     },
     "3db6290449c34d8da17786be1448be0c": {
      "model_module": "jupyter-js-widgets",
      "model_module_version": "~2.1.4",
      "model_name": "LayoutModel",
      "state": {
       "_model_module_version": "~2.1.4",
       "_view_module_version": "~2.1.4"
      }
     },
     "40c1cdc3f15441f98615b1ef4422430c": {
      "model_module": "jupyter-js-widgets",
      "model_module_version": "~2.1.4",
      "model_name": "FloatTextModel",
      "state": {
       "_model_module_version": "~2.1.4",
       "_view_module_version": "~2.1.4",
       "description": "barrier",
       "layout": "IPY_MODEL_e8ef0cabb2e84118b4ee14b1c60bb405",
       "value": 100
      }
     },
     "439c7de512cf4a7e98fa7b918eae1a15": {
      "model_module": "jupyter-js-widgets",
      "model_module_version": "~2.1.4",
      "model_name": "LayoutModel",
      "state": {
       "_model_module_version": "~2.1.4",
       "_view_module_version": "~2.1.4"
      }
     },
     "44650cca78c546bfa09b45d9b1fa7efe": {
      "model_module": "jupyter-js-widgets",
      "model_module_version": "~2.1.4",
      "model_name": "LayoutModel",
      "state": {
       "_model_module_version": "~2.1.4",
       "_view_module_version": "~2.1.4"
      }
     },
     "44a13c37c32d4fddbe686216032a370e": {
      "model_module": "jupyter-js-widgets",
      "model_module_version": "~2.1.4",
      "model_name": "LayoutModel",
      "state": {
       "_model_module_version": "~2.1.4",
       "_view_module_version": "~2.1.4"
      }
     },
     "4859729cb33b4d1981f045a6c994c9c6": {
      "model_module": "jupyter-js-widgets",
      "model_module_version": "~2.1.4",
      "model_name": "OutputModel",
      "state": {
       "_dom_classes": [],
       "_model_module": "jupyter-js-widgets",
       "_model_module_version": "~2.1.4",
       "_view_module": "jupyter-js-widgets",
       "_view_module_version": "~2.1.4",
       "layout": "IPY_MODEL_102274bc0a6d42c89e5f9ac0068372dd",
       "msg_throttle": 1
      }
     },
     "485d9a9184514fd6a679c2288b809061": {
      "model_module": "jupyter-js-widgets",
      "model_module_version": "~2.1.4",
      "model_name": "FloatTextModel",
      "state": {
       "_model_module_version": "~2.1.4",
       "_view_module_version": "~2.1.4",
       "description": "price",
       "layout": "IPY_MODEL_ee90cc6ea5ae4998bd80f63bd842b02f",
       "value": 100
      }
     },
     "48b9b49a2b874b71b55a4cccd8dc8e65": {
      "model_module": "jupyter-js-widgets",
      "model_module_version": "~2.1.4",
      "model_name": "SelectModel",
      "state": {
       "_model_module_version": "~2.1.4",
       "_options_labels": [
        "Forward",
        "Collar",
        "Call",
        "Put",
        "CallSpread",
        "PutSpread",
        "Seagull",
        "EnhancedForward",
        "KOForward",
        "ForwardExtra",
        "CollarExtra"
       ],
       "_view_module_version": "~2.1.4",
       "description": "Product:",
       "layout": "IPY_MODEL_b3f8ed8b9ae54c1eb7a18141e49835ca",
       "value": "Forward"
      }
     },
     "4bf349ea2008496d8d6ff3bfa5a77142": {
      "model_module": "jupyter-js-widgets",
      "model_module_version": "~2.1.4",
      "model_name": "LayoutModel",
      "state": {
       "_model_module_version": "~2.1.4",
       "_view_module_version": "~2.1.4"
      }
     },
     "4d342fa423924eb49780a293194b4450": {
      "model_module": "jupyter-js-widgets",
      "model_module_version": "~2.1.4",
      "model_name": "LayoutModel",
      "state": {
       "_model_module_version": "~2.1.4",
       "_view_module_version": "~2.1.4"
      }
     },
     "4e027fbd36454942b3994960f15aa3e1": {
      "model_module": "jupyter-js-widgets",
      "model_module_version": "~2.1.4",
      "model_name": "LayoutModel",
      "state": {
       "_model_module_version": "~2.1.4",
       "_view_module_version": "~2.1.4"
      }
     },
     "4f9e0c0a2970488fb38b525abf5c41b2": {
      "model_module": "jupyter-js-widgets",
      "model_module_version": "~2.1.4",
      "model_name": "LayoutModel",
      "state": {
       "_model_module_version": "~2.1.4",
       "_view_module_version": "~2.1.4"
      }
     },
     "50e97953575842c3bd2e849a2c14d0b0": {
      "model_module": "jupyter-js-widgets",
      "model_module_version": "~2.1.4",
      "model_name": "FloatTextModel",
      "state": {
       "_model_module_version": "~2.1.4",
       "_view_module_version": "~2.1.4",
       "description": "call_strike",
       "layout": "IPY_MODEL_7f6fae6eb01241d79342df6c08f9892e",
       "value": 120
      }
     },
     "5117fdb39f7e45cfa3c02f015f6b8ad9": {
      "model_module": "jupyter-js-widgets",
      "model_module_version": "~2.1.4",
      "model_name": "LayoutModel",
      "state": {
       "_model_module_version": "~2.1.4",
       "_view_module_version": "~2.1.4"
      }
     },
     "51e6e861448a40709286f4036a337ae7": {
      "model_module": "jupyter-js-widgets",
      "model_module_version": "~2.1.4",
      "model_name": "LayoutModel",
      "state": {
       "_model_module_version": "~2.1.4",
       "_view_module_version": "~2.1.4"
      }
     },
     "51fc1a50b1e240a99ebaae19720f5ad6": {
      "model_module": "jupyter-js-widgets",
      "model_module_version": "~2.1.4",
      "model_name": "LayoutModel",
      "state": {
       "_model_module_version": "~2.1.4",
       "_view_module_version": "~2.1.4"
      }
     },
     "5203bdde94b64d47a474e313fa624cd6": {
      "model_module": "jupyter-js-widgets",
      "model_module_version": "~2.1.4",
      "model_name": "OutputModel",
      "state": {
       "_dom_classes": [],
       "_model_module": "jupyter-js-widgets",
       "_model_module_version": "~2.1.4",
       "_view_module": "jupyter-js-widgets",
       "_view_module_version": "~2.1.4",
       "layout": "IPY_MODEL_16c71d41546b4f28939d403b2a663928",
       "msg_throttle": 1
      }
     },
     "5267949f80014e30af4a09131c8ec47b": {
      "model_module": "jupyter-js-widgets",
      "model_module_version": "~2.1.4",
      "model_name": "LayoutModel",
      "state": {
       "_model_module_version": "~2.1.4",
       "_view_module_version": "~2.1.4"
      }
     },
     "53176ce2e9e449b299fbaa7788436b43": {
      "model_module": "jupyter-js-widgets",
      "model_module_version": "~2.1.4",
      "model_name": "FloatTextModel",
      "state": {
       "_model_module_version": "~2.1.4",
       "_view_module_version": "~2.1.4",
       "description": "price",
       "layout": "IPY_MODEL_d66355d57eb04e92a6a22b9b0d05391c",
       "value": 100
      }
     },
     "534f6d47fc974b11a0d541ece3f05a0d": {
      "model_module": "jupyter-js-widgets",
      "model_module_version": "~2.1.4",
      "model_name": "VBoxModel",
      "state": {
       "_dom_classes": [
        "widget-interact"
       ],
       "_model_module_version": "~2.1.4",
       "_view_module_version": "~2.1.4",
       "children": [
        "IPY_MODEL_50e97953575842c3bd2e849a2c14d0b0",
        "IPY_MODEL_8fdde08d02664714a16a29636d169b68",
        "IPY_MODEL_e1fc045645ff4097a796e244c851d33c",
        "IPY_MODEL_08991ba7f6ad4477bb0254d83708899b"
       ],
       "layout": "IPY_MODEL_15d11c7f2c2241fd8dd624df1cc7648f"
      }
     },
     "55be711e6fe540c3a6d26ba8494df338": {
      "model_module": "jupyter-js-widgets",
      "model_module_version": "~2.1.4",
      "model_name": "VBoxModel",
      "state": {
       "_dom_classes": [
        "widget-interact"
       ],
       "_model_module_version": "~2.1.4",
       "_view_module_version": "~2.1.4",
       "children": [
        "IPY_MODEL_e36677e023ad4fa4a29662325563e93a",
        "IPY_MODEL_0927e213e87e4cb59b613f6dba8ec876"
       ],
       "layout": "IPY_MODEL_644cf930116e48888f895c6f16372b0a"
      }
     },
     "55fd130f2404459d86d90b262ef30094": {
      "model_module": "jupyter-js-widgets",
      "model_module_version": "~2.1.4",
      "model_name": "LayoutModel",
      "state": {
       "_model_module_version": "~2.1.4",
       "_view_module_version": "~2.1.4"
      }
     },
     "560b499dc26c4413b945da1e81e7ed1d": {
      "model_module": "jupyter-js-widgets",
      "model_module_version": "~2.1.4",
      "model_name": "OutputModel",
      "state": {
       "_dom_classes": [],
       "_model_module": "jupyter-js-widgets",
       "_model_module_version": "~2.1.4",
       "_view_module": "jupyter-js-widgets",
       "_view_module_version": "~2.1.4",
       "layout": "IPY_MODEL_8c6b484d196e41e3bd811fe99a808c45",
       "msg_throttle": 1
      }
     },
     "56c91c90fe874a04ba6d95a39ca90449": {
      "model_module": "jupyter-js-widgets",
      "model_module_version": "~2.1.4",
      "model_name": "OutputModel",
      "state": {
       "_dom_classes": [],
       "_model_module": "jupyter-js-widgets",
       "_model_module_version": "~2.1.4",
       "_view_module": "jupyter-js-widgets",
       "_view_module_version": "~2.1.4",
       "layout": "IPY_MODEL_5267949f80014e30af4a09131c8ec47b",
       "msg_throttle": 1
      }
     },
     "588313ad68c54908867f6d4e7ce55875": {
      "model_module": "jupyter-js-widgets",
      "model_module_version": "~2.1.4",
      "model_name": "LayoutModel",
      "state": {
       "_model_module_version": "~2.1.4",
       "_view_module_version": "~2.1.4"
      }
     },
     "58c6433ead5549f68e12a876afdf6ddf": {
      "model_module": "jupyter-js-widgets",
      "model_module_version": "~2.1.4",
      "model_name": "VBoxModel",
      "state": {
       "_dom_classes": [
        "widget-interact"
       ],
       "_model_module_version": "~2.1.4",
       "_view_module_version": "~2.1.4",
       "children": [
        "IPY_MODEL_af97fbe6712d4cb6851ff045afec89c4",
        "IPY_MODEL_af25693510e04bd092fb2adea02c125e",
        "IPY_MODEL_8d8715d09de74b3282837070bc1e4da4"
       ],
       "layout": "IPY_MODEL_d938bd62bb84470092acb903c6cd5103"
      }
     },
     "596d5774d16b4a16b5b7abb34a821133": {
      "model_module": "jupyter-js-widgets",
      "model_module_version": "~2.1.4",
      "model_name": "LayoutModel",
      "state": {
       "_model_module_version": "~2.1.4",
       "_view_module_version": "~2.1.4"
      }
     },
     "5d601516e53042daadd85e1b1a9417eb": {
      "model_module": "jupyter-js-widgets",
      "model_module_version": "~2.1.4",
      "model_name": "FloatTextModel",
      "state": {
       "_model_module_version": "~2.1.4",
       "_view_module_version": "~2.1.4",
       "description": "long_call",
       "layout": "IPY_MODEL_ab382e388e1a458d936b3ae436ba4022",
       "value": 110
      }
     },
     "6001a366c15e43c0bbc2522990eb45b7": {
      "model_module": "jupyter-js-widgets",
      "model_module_version": "~2.1.4",
      "model_name": "LayoutModel",
      "state": {
       "_model_module_version": "~2.1.4",
       "_view_module_version": "~2.1.4"
      }
     },
     "60536fd9fc784f2da4ea886c0406c2b5": {
      "model_module": "jupyter-js-widgets",
      "model_module_version": "~2.1.4",
      "model_name": "LayoutModel",
      "state": {
       "_model_module_version": "~2.1.4",
       "_view_module_version": "~2.1.4"
      }
     },
     "605f9f63e61b40a8819d27bcc794d075": {
      "model_module": "jupyter-js-widgets",
      "model_module_version": "~2.1.4",
      "model_name": "FloatTextModel",
      "state": {
       "_model_module_version": "~2.1.4",
       "_view_module_version": "~2.1.4",
       "description": "strike",
       "layout": "IPY_MODEL_ec316604fd26435bb09c8a036320bd3c",
       "value": 120
      }
     },
     "60b1e0416e834d509100b548d8a86e1f": {
      "model_module": "jupyter-js-widgets",
      "model_module_version": "~2.1.4",
      "model_name": "VBoxModel",
      "state": {
       "_dom_classes": [
        "widget-interact"
       ],
       "_model_module_version": "~2.1.4",
       "_view_module_version": "~2.1.4",
       "children": [
        "IPY_MODEL_2e093dd5ac4d4fe78d2da19939488f10",
        "IPY_MODEL_9dfbd82f99734ef39a31183317f107f8",
        "IPY_MODEL_4859729cb33b4d1981f045a6c994c9c6"
       ],
       "layout": "IPY_MODEL_75473798eee84b008f775978069e1a34"
      }
     },
     "61cbdeec33d042c3984cbab451cae8f1": {
      "model_module": "jupyter-js-widgets",
      "model_module_version": "~2.1.4",
      "model_name": "VBoxModel",
      "state": {
       "_dom_classes": [
        "widget-interact"
       ],
       "_model_module_version": "~2.1.4",
       "_view_module_version": "~2.1.4",
       "children": [
        "IPY_MODEL_53176ce2e9e449b299fbaa7788436b43",
        "IPY_MODEL_f1d75ac407794520bc8ccdf3efe892ad"
       ],
       "layout": "IPY_MODEL_6a18ab104572468d84a4c2bf1dfd318a"
      }
     },
     "629ae1b233344ca4be3c6a189fbf5903": {
      "model_module": "jupyter-js-widgets",
      "model_module_version": "~2.1.4",
      "model_name": "FloatTextModel",
      "state": {
       "_model_module_version": "~2.1.4",
       "_view_module_version": "~2.1.4",
       "description": "price",
       "layout": "IPY_MODEL_82f9fae10bb349f984363ba7b9550bef",
       "value": 100
      }
     },
     "644cf930116e48888f895c6f16372b0a": {
      "model_module": "jupyter-js-widgets",
      "model_module_version": "~2.1.4",
      "model_name": "LayoutModel",
      "state": {
       "_model_module_version": "~2.1.4",
       "_view_module_version": "~2.1.4"
      }
     },
     "65ef9849d1e04c959f018969e8aa76f7": {
      "model_module": "jupyter-js-widgets",
      "model_module_version": "~2.1.4",
      "model_name": "SelectModel",
      "state": {
       "_model_module_version": "~2.1.4",
       "_options_labels": [
        "Forward",
        "Collar",
        "Call",
        "Put",
        "CallSpread",
        "PutSpread",
        "Seagull",
        "EnhancedForward",
        "KOForward",
        "ForwardExtra",
        "CollarExtra"
       ],
       "_view_module_version": "~2.1.4",
       "description": "Product:",
       "layout": "IPY_MODEL_016e9e6a424d42c0b2cf5cc15973f071",
       "value": "CollarExtra"
      }
     },
     "6605c1b8b3e74b72a58765b1b12cc676": {
      "model_module": "jupyter-js-widgets",
      "model_module_version": "~2.1.4",
      "model_name": "LayoutModel",
      "state": {
       "_model_module_version": "~2.1.4",
       "_view_module_version": "~2.1.4"
      }
     },
     "663f422243164c3a97d6ab5c6c4cd05a": {
      "model_module": "jupyter-js-widgets",
      "model_module_version": "~2.1.4",
      "model_name": "LayoutModel",
      "state": {
       "_model_module_version": "~2.1.4",
       "_view_module_version": "~2.1.4"
      }
     },
     "669d7cdf30a146fa96fa9b05db83ec0e": {
      "model_module": "jupyter-js-widgets",
      "model_module_version": "~2.1.4",
      "model_name": "OutputModel",
      "state": {
       "_dom_classes": [],
       "_model_module": "jupyter-js-widgets",
       "_model_module_version": "~2.1.4",
       "_view_module": "jupyter-js-widgets",
       "_view_module_version": "~2.1.4",
       "layout": "IPY_MODEL_1bb8e7949127480a8300722263f9a324",
       "msg_throttle": 1
      }
     },
     "6a18ab104572468d84a4c2bf1dfd318a": {
      "model_module": "jupyter-js-widgets",
      "model_module_version": "~2.1.4",
      "model_name": "LayoutModel",
      "state": {
       "_model_module_version": "~2.1.4",
       "_view_module_version": "~2.1.4"
      }
     },
     "6a6ddc9007c34c9580e8407f9a1d2298": {
      "model_module": "jupyter-js-widgets",
      "model_module_version": "~2.1.4",
      "model_name": "OutputModel",
      "state": {
       "_dom_classes": [],
       "_model_module": "jupyter-js-widgets",
       "_model_module_version": "~2.1.4",
       "_view_module": "jupyter-js-widgets",
       "_view_module_version": "~2.1.4",
       "layout": "IPY_MODEL_f21650d6626c4719827db9cc1c5e7729",
       "msg_throttle": 1
      }
     },
     "6ae6de923b594053b44ad090f3aeb050": {
      "model_module": "jupyter-js-widgets",
      "model_module_version": "~2.1.4",
      "model_name": "FloatTextModel",
      "state": {
       "_model_module_version": "~2.1.4",
       "_view_module_version": "~2.1.4",
       "description": "price",
       "layout": "IPY_MODEL_baf84408b4f34f98a1f820736ce95b77",
       "value": 100
      }
     },
     "6cba01a9275f41b0b11cfbbdb06d9c72": {
      "model_module": "jupyter-js-widgets",
      "model_module_version": "~2.1.4",
      "model_name": "LayoutModel",
      "state": {
       "_model_module_version": "~2.1.4",
       "_view_module_version": "~2.1.4"
      }
     },
     "6d99fc158d844d43aac80053b44d4190": {
      "model_module": "jupyter-js-widgets",
      "model_module_version": "~2.1.4",
      "model_name": "LayoutModel",
      "state": {
       "_model_module_version": "~2.1.4",
       "_view_module_version": "~2.1.4"
      }
     },
     "714d9ec06e6c46c2a00a9417a1e3f8fd": {
      "model_module": "jupyter-js-widgets",
      "model_module_version": "~2.1.4",
      "model_name": "VBoxModel",
      "state": {
       "_dom_classes": [
        "widget-interact"
       ],
       "_model_module_version": "~2.1.4",
       "_view_module_version": "~2.1.4",
       "children": [
        "IPY_MODEL_1acb0a39df3e4b568d06a49f7551cd7f",
        "IPY_MODEL_5d601516e53042daadd85e1b1a9417eb",
        "IPY_MODEL_f0888e6fedc54e38a39e0bc0f7ac34b0",
        "IPY_MODEL_c33dce87196b444dba853000161a6c3c"
       ],
       "layout": "IPY_MODEL_a79f77a7e85b453dadf8d71ffdfe73a2"
      }
     },
     "732b3eaeb4824d319530395b2500bbe8": {
      "model_module": "jupyter-js-widgets",
      "model_module_version": "~2.1.4",
      "model_name": "OutputModel",
      "state": {
       "_dom_classes": [],
       "_model_module": "jupyter-js-widgets",
       "_model_module_version": "~2.1.4",
       "_view_module": "jupyter-js-widgets",
       "_view_module_version": "~2.1.4",
       "layout": "IPY_MODEL_810236050e2d4aa489a179cd6efb6933",
       "msg_throttle": 1
      }
     },
     "7344dff672d44de09747ce99fa75e56b": {
      "model_module": "jupyter-js-widgets",
      "model_module_version": "~2.1.4",
      "model_name": "FloatTextModel",
      "state": {
       "_model_module_version": "~2.1.4",
       "_view_module_version": "~2.1.4",
       "description": "price",
       "layout": "IPY_MODEL_38e4635d71054a92b2a65fb5687348a4",
       "value": 100
      }
     },
     "736fc48059324916a2804aded8041147": {
      "model_module": "jupyter-js-widgets",
      "model_module_version": "~2.1.4",
      "model_name": "LayoutModel",
      "state": {
       "_model_module_version": "~2.1.4",
       "_view_module_version": "~2.1.4"
      }
     },
     "7545fe86f6af4851bf945304e0a80220": {
      "model_module": "jupyter-js-widgets",
      "model_module_version": "~2.1.4",
      "model_name": "FloatTextModel",
      "state": {
       "_model_module_version": "~2.1.4",
       "_view_module_version": "~2.1.4",
       "description": "long_call",
       "layout": "IPY_MODEL_27f3e42e722a432a9a04c73f0739dec5",
       "value": 110
      }
     },
     "75473798eee84b008f775978069e1a34": {
      "model_module": "jupyter-js-widgets",
      "model_module_version": "~2.1.4",
      "model_name": "LayoutModel",
      "state": {
       "_model_module_version": "~2.1.4",
       "_view_module_version": "~2.1.4"
      }
     },
     "76ecda729284446b9740d9fd56b77bb2": {
      "model_module": "jupyter-js-widgets",
      "model_module_version": "~2.1.4",
      "model_name": "LayoutModel",
      "state": {
       "_model_module_version": "~2.1.4",
       "_view_module_version": "~2.1.4"
      }
     },
     "787c851d94ef4759a014612f5bbcce7b": {
      "model_module": "jupyter-js-widgets",
      "model_module_version": "~2.1.4",
      "model_name": "LayoutModel",
      "state": {
       "_model_module_version": "~2.1.4",
       "_view_module_version": "~2.1.4"
      }
     },
     "78eab31659a34578972214b1a5f2c783": {
      "model_module": "jupyter-js-widgets",
      "model_module_version": "~2.1.4",
      "model_name": "OutputModel",
      "state": {
       "_dom_classes": [],
       "_model_module": "jupyter-js-widgets",
       "_model_module_version": "~2.1.4",
       "_view_module": "jupyter-js-widgets",
       "_view_module_version": "~2.1.4",
       "layout": "IPY_MODEL_4d342fa423924eb49780a293194b4450",
       "msg_throttle": 1
      }
     },
     "7c1cec9cbc0b4a459e3cd38ae82ffb23": {
      "model_module": "jupyter-js-widgets",
      "model_module_version": "~2.1.4",
      "model_name": "LayoutModel",
      "state": {
       "_model_module_version": "~2.1.4",
       "_view_module_version": "~2.1.4"
      }
     },
     "7c4497512c25468d83c0673378c4f0b4": {
      "model_module": "jupyter-js-widgets",
      "model_module_version": "~2.1.4",
      "model_name": "LayoutModel",
      "state": {
       "_model_module_version": "~2.1.4",
       "_view_module_version": "~2.1.4"
      }
     },
     "7f6fae6eb01241d79342df6c08f9892e": {
      "model_module": "jupyter-js-widgets",
      "model_module_version": "~2.1.4",
      "model_name": "LayoutModel",
      "state": {
       "_model_module_version": "~2.1.4",
       "_view_module_version": "~2.1.4"
      }
     },
     "7f9aac9f365343508e1bd960464ec684": {
      "model_module": "jupyter-js-widgets",
      "model_module_version": "~2.1.4",
      "model_name": "FloatTextModel",
      "state": {
       "_model_module_version": "~2.1.4",
       "_view_module_version": "~2.1.4",
       "description": "strike",
       "layout": "IPY_MODEL_4f9e0c0a2970488fb38b525abf5c41b2",
       "value": 120
      }
     },
     "80c613ef283f4ef48ba1202f87be6c9f": {
      "model_module": "jupyter-js-widgets",
      "model_module_version": "~2.1.4",
      "model_name": "OutputModel",
      "state": {
       "_dom_classes": [],
       "_model_module": "jupyter-js-widgets",
       "_model_module_version": "~2.1.4",
       "_view_module": "jupyter-js-widgets",
       "_view_module_version": "~2.1.4",
       "layout": "IPY_MODEL_1091703458da42e89d325e161b39ae23",
       "msg_throttle": 1
      }
     },
     "810236050e2d4aa489a179cd6efb6933": {
      "model_module": "jupyter-js-widgets",
      "model_module_version": "~2.1.4",
      "model_name": "LayoutModel",
      "state": {
       "_model_module_version": "~2.1.4",
       "_view_module_version": "~2.1.4"
      }
     },
     "81b4af6d6ff84db5ba1efbf6745bb6b1": {
      "model_module": "jupyter-js-widgets",
      "model_module_version": "~2.1.4",
      "model_name": "LayoutModel",
      "state": {
       "_model_module_version": "~2.1.4",
       "_view_module_version": "~2.1.4"
      }
     },
     "827044017f684571bc1b8d4030f57081": {
      "model_module": "jupyter-js-widgets",
      "model_module_version": "~2.1.4",
      "model_name": "FloatTextModel",
      "state": {
       "_model_module_version": "~2.1.4",
       "_view_module_version": "~2.1.4",
       "description": "upper_strike",
       "layout": "IPY_MODEL_8b76f45ba88b4234b97ca4d472b6fa36",
       "value": 120
      }
     },
     "82f9fae10bb349f984363ba7b9550bef": {
      "model_module": "jupyter-js-widgets",
      "model_module_version": "~2.1.4",
      "model_name": "LayoutModel",
      "state": {
       "_model_module_version": "~2.1.4",
       "_view_module_version": "~2.1.4"
      }
     },
     "8333acf3a0384ecdb9daf8baecdf610f": {
      "model_module": "jupyter-js-widgets",
      "model_module_version": "~2.1.4",
      "model_name": "LayoutModel",
      "state": {
       "_model_module_version": "~2.1.4",
       "_view_module_version": "~2.1.4"
      }
     },
     "84960792ed6c4ac9b8c4d4df2e326f00": {
      "model_module": "jupyter-js-widgets",
      "model_module_version": "~2.1.4",
      "model_name": "LayoutModel",
      "state": {
       "_model_module_version": "~2.1.4",
       "_view_module_version": "~2.1.4"
      }
     },
     "8944ade6eb55479285fa765a00531846": {
      "model_module": "jupyter-js-widgets",
      "model_module_version": "~2.1.4",
      "model_name": "LayoutModel",
      "state": {
       "_model_module_version": "~2.1.4",
       "_view_module_version": "~2.1.4"
      }
     },
     "8a0c3b2184d44a54834e12e9cf8357ca": {
      "model_module": "jupyter-js-widgets",
      "model_module_version": "~2.1.4",
      "model_name": "VBoxModel",
      "state": {
       "_dom_classes": [
        "widget-interact"
       ],
       "_model_module_version": "~2.1.4",
       "_view_module_version": "~2.1.4",
       "children": [
        "IPY_MODEL_b5debe020cd24af6a6d593b7d9d2c591",
        "IPY_MODEL_78eab31659a34578972214b1a5f2c783"
       ],
       "layout": "IPY_MODEL_da4a0c3505864c2ba479fa7a15059698"
      }
     },
     "8b76f45ba88b4234b97ca4d472b6fa36": {
      "model_module": "jupyter-js-widgets",
      "model_module_version": "~2.1.4",
      "model_name": "LayoutModel",
      "state": {
       "_model_module_version": "~2.1.4",
       "_view_module_version": "~2.1.4"
      }
     },
     "8c6b484d196e41e3bd811fe99a808c45": {
      "model_module": "jupyter-js-widgets",
      "model_module_version": "~2.1.4",
      "model_name": "LayoutModel",
      "state": {
       "_model_module_version": "~2.1.4",
       "_view_module_version": "~2.1.4"
      }
     },
     "8d8715d09de74b3282837070bc1e4da4": {
      "model_module": "jupyter-js-widgets",
      "model_module_version": "~2.1.4",
      "model_name": "OutputModel",
      "state": {
       "_dom_classes": [],
       "_model_module": "jupyter-js-widgets",
       "_model_module_version": "~2.1.4",
       "_view_module": "jupyter-js-widgets",
       "_view_module_version": "~2.1.4",
       "layout": "IPY_MODEL_984285ae144e4dc1a0b8648af4b9c059",
       "msg_throttle": 1
      }
     },
     "8e03199fa4d34682a36179f358a933d3": {
      "model_module": "jupyter-js-widgets",
      "model_module_version": "~2.1.4",
      "model_name": "LayoutModel",
      "state": {
       "_model_module_version": "~2.1.4",
       "_view_module_version": "~2.1.4"
      }
     },
     "8fdde08d02664714a16a29636d169b68": {
      "model_module": "jupyter-js-widgets",
      "model_module_version": "~2.1.4",
      "model_name": "FloatTextModel",
      "state": {
       "_model_module_version": "~2.1.4",
       "_view_module_version": "~2.1.4",
       "description": "put_strike",
       "layout": "IPY_MODEL_44650cca78c546bfa09b45d9b1fa7efe",
       "value": 110
      }
     },
     "90d252376f3b4763b9eccd37d6b40582": {
      "model_module": "jupyter-js-widgets",
      "model_module_version": "~2.1.4",
      "model_name": "FloatTextModel",
      "state": {
       "_model_module_version": "~2.1.4",
       "_view_module_version": "~2.1.4",
       "description": "barrier",
       "layout": "IPY_MODEL_bb65a5de06cf490dabf33080a55d326a",
       "value": 120
      }
     },
     "9228251af7894dc39128f3e26516f830": {
      "model_module": "jupyter-js-widgets",
      "model_module_version": "~2.1.4",
      "model_name": "LayoutModel",
      "state": {
       "_model_module_version": "~2.1.4",
       "_view_module_version": "~2.1.4"
      }
     },
     "92d70f0e26cd45479a480a59c24e3ca0": {
      "model_module": "jupyter-js-widgets",
      "model_module_version": "~2.1.4",
      "model_name": "LayoutModel",
      "state": {
       "_model_module_version": "~2.1.4",
       "_view_module_version": "~2.1.4"
      }
     },
     "9307069245cd485586d4a62f22a45331": {
      "model_module": "jupyter-js-widgets",
      "model_module_version": "~2.1.4",
      "model_name": "SelectModel",
      "state": {
       "_model_module_version": "~2.1.4",
       "_options_labels": [
        "Forward",
        "Collar",
        "Call",
        "Put",
        "CallSpread",
        "PutSpread",
        "Seagull",
        "EnhancedForward",
        "KOForward",
        "ForwardExtra",
        "CollarExtra"
       ],
       "_view_module_version": "~2.1.4",
       "description": "Product:",
       "layout": "IPY_MODEL_01938a669b13443a92f3646c3c9af2be",
       "value": "KOForward"
      }
     },
     "957b6d6f0ed6437d9b4be7b7028546ff": {
      "model_module": "jupyter-js-widgets",
      "model_module_version": "~2.1.4",
      "model_name": "FloatTextModel",
      "state": {
       "_model_module_version": "~2.1.4",
       "_view_module_version": "~2.1.4",
       "description": "strike",
       "layout": "IPY_MODEL_d03a86d20e094f8680b253325e850034",
       "value": 120
      }
     },
     "9588dbd23c71423daa79523cbc43be0b": {
      "model_module": "jupyter-js-widgets",
      "model_module_version": "~2.1.4",
      "model_name": "FloatTextModel",
      "state": {
       "_model_module_version": "~2.1.4",
       "_view_module_version": "~2.1.4",
       "description": "price",
       "layout": "IPY_MODEL_51fc1a50b1e240a99ebaae19720f5ad6",
       "value": 100
      }
     },
     "9717417d3bbf4236a943ae67361f74fb": {
      "model_module": "jupyter-js-widgets",
      "model_module_version": "~2.1.4",
      "model_name": "OutputModel",
      "state": {
       "_dom_classes": [],
       "_model_module": "jupyter-js-widgets",
       "_model_module_version": "~2.1.4",
       "_view_module": "jupyter-js-widgets",
       "_view_module_version": "~2.1.4",
       "layout": "IPY_MODEL_e164a5b400764514b4c11ba82b137c29",
       "msg_throttle": 1
      }
     },
     "984285ae144e4dc1a0b8648af4b9c059": {
      "model_module": "jupyter-js-widgets",
      "model_module_version": "~2.1.4",
      "model_name": "LayoutModel",
      "state": {
       "_model_module_version": "~2.1.4",
       "_view_module_version": "~2.1.4"
      }
     },
     "9b355278f9054a88b5ede8353a62e399": {
      "model_module": "jupyter-js-widgets",
      "model_module_version": "~2.1.4",
      "model_name": "SelectModel",
      "state": {
       "_model_module_version": "~2.1.4",
       "_options_labels": [
        "Forward",
        "Collar",
        "Call",
        "Put",
        "CallSpread",
        "PutSpread",
        "Seagull",
        "EnhancedForward",
        "KOForward",
        "ForwardExtra",
        "CollarExtra"
       ],
       "_view_module_version": "~2.1.4",
       "description": "Product:",
       "layout": "IPY_MODEL_8e03199fa4d34682a36179f358a933d3",
       "value": "Forward"
      }
     },
     "9ced0e843b6f4685a953b97420edc41d": {
      "model_module": "jupyter-js-widgets",
      "model_module_version": "~2.1.4",
      "model_name": "FloatTextModel",
      "state": {
       "_model_module_version": "~2.1.4",
       "_view_module_version": "~2.1.4",
       "description": "price",
       "layout": "IPY_MODEL_9228251af7894dc39128f3e26516f830",
       "value": 100
      }
     },
     "9dfbd82f99734ef39a31183317f107f8": {
      "model_module": "jupyter-js-widgets",
      "model_module_version": "~2.1.4",
      "model_name": "FloatTextModel",
      "state": {
       "_model_module_version": "~2.1.4",
       "_view_module_version": "~2.1.4",
       "description": "barrier",
       "layout": "IPY_MODEL_26ca89c8044e4621b805bc3812311e40",
       "value": 120
      }
     },
     "a08f76271a154ebd82aff3ed3964f830": {
      "model_module": "jupyter-js-widgets",
      "model_module_version": "~2.1.4",
      "model_name": "LayoutModel",
      "state": {
       "_model_module_version": "~2.1.4",
       "_view_module_version": "~2.1.4"
      }
     },
     "a0c560e022584d2a8bd130f46a83bb89": {
      "model_module": "jupyter-js-widgets",
      "model_module_version": "~2.1.4",
      "model_name": "OutputModel",
      "state": {
       "_dom_classes": [],
       "_model_module": "jupyter-js-widgets",
       "_model_module_version": "~2.1.4",
       "_view_module": "jupyter-js-widgets",
       "_view_module_version": "~2.1.4",
       "layout": "IPY_MODEL_179310e309c44c808f40f4398752e4de",
       "msg_throttle": 1
      }
     },
     "a0d9e667bacd48e2b7f7f4104c51ff61": {
      "model_module": "jupyter-js-widgets",
      "model_module_version": "~2.1.4",
      "model_name": "VBoxModel",
      "state": {
       "_dom_classes": [
        "widget-interact"
       ],
       "_model_module_version": "~2.1.4",
       "_view_module_version": "~2.1.4",
       "children": [
        "IPY_MODEL_9b355278f9054a88b5ede8353a62e399",
        "IPY_MODEL_b95d31644db449c191328b09e1024b72"
       ],
       "layout": "IPY_MODEL_60536fd9fc784f2da4ea886c0406c2b5"
      }
     },
     "a132be1b708a419296e4204821cd5a71": {
      "model_module": "jupyter-js-widgets",
      "model_module_version": "~2.1.4",
      "model_name": "FloatTextModel",
      "state": {
       "_model_module_version": "~2.1.4",
       "_view_module_version": "~2.1.4",
       "description": "barrier",
       "layout": "IPY_MODEL_d6f8a022203144fc960a6e80641e319b",
       "value": 100
      }
     },
     "a2ba4690adcd4f10b9f892894a3f9778": {
      "model_module": "jupyter-js-widgets",
      "model_module_version": "~2.1.4",
      "model_name": "OutputModel",
      "state": {
       "_dom_classes": [],
       "_model_module": "jupyter-js-widgets",
       "_model_module_version": "~2.1.4",
       "_view_module": "jupyter-js-widgets",
       "_view_module_version": "~2.1.4",
       "layout": "IPY_MODEL_8944ade6eb55479285fa765a00531846",
       "msg_throttle": 1
      }
     },
     "a40195e2910a41bab92e239a4bf728ba": {
      "model_module": "jupyter-js-widgets",
      "model_module_version": "~2.1.4",
      "model_name": "LayoutModel",
      "state": {
       "_model_module_version": "~2.1.4",
       "_view_module_version": "~2.1.4"
      }
     },
     "a5a8ac075a8c47d3832f52078758fd98": {
      "model_module": "jupyter-js-widgets",
      "model_module_version": "~2.1.4",
      "model_name": "OutputModel",
      "state": {
       "_dom_classes": [],
       "_model_module": "jupyter-js-widgets",
       "_model_module_version": "~2.1.4",
       "_view_module": "jupyter-js-widgets",
       "_view_module_version": "~2.1.4",
       "layout": "IPY_MODEL_b0d7123ef06f4766a7a37bbfefe48408",
       "msg_throttle": 1
      }
     },
     "a6c8f2ae207543b5990ba94d88b5aa54": {
      "model_module": "jupyter-js-widgets",
      "model_module_version": "~2.1.4",
      "model_name": "LayoutModel",
      "state": {
       "_model_module_version": "~2.1.4",
       "_view_module_version": "~2.1.4"
      }
     },
     "a74b7d1eea4342b0b81ffa158c394161": {
      "model_module": "jupyter-js-widgets",
      "model_module_version": "~2.1.4",
      "model_name": "VBoxModel",
      "state": {
       "_dom_classes": [
        "widget-interact"
       ],
       "_model_module_version": "~2.1.4",
       "_view_module_version": "~2.1.4",
       "children": [
        "IPY_MODEL_9307069245cd485586d4a62f22a45331",
        "IPY_MODEL_3a787934e1d441f7a74956ef1f5e85a2"
       ],
       "layout": "IPY_MODEL_92d70f0e26cd45479a480a59c24e3ca0"
      }
     },
     "a79f77a7e85b453dadf8d71ffdfe73a2": {
      "model_module": "jupyter-js-widgets",
      "model_module_version": "~2.1.4",
      "model_name": "LayoutModel",
      "state": {
       "_model_module_version": "~2.1.4",
       "_view_module_version": "~2.1.4"
      }
     },
     "a89d6a6d513c4df2af18768c57ffbbf8": {
      "model_module": "jupyter-js-widgets",
      "model_module_version": "~2.1.4",
      "model_name": "LayoutModel",
      "state": {
       "_model_module_version": "~2.1.4",
       "_view_module_version": "~2.1.4"
      }
     },
     "ab382e388e1a458d936b3ae436ba4022": {
      "model_module": "jupyter-js-widgets",
      "model_module_version": "~2.1.4",
      "model_name": "LayoutModel",
      "state": {
       "_model_module_version": "~2.1.4",
       "_view_module_version": "~2.1.4"
      }
     },
     "ad865293b19c4c0a9f16fe835c26da13": {
      "model_module": "jupyter-js-widgets",
      "model_module_version": "~2.1.4",
      "model_name": "VBoxModel",
      "state": {
       "_dom_classes": [
        "widget-interact"
       ],
       "_model_module_version": "~2.1.4",
       "_view_module_version": "~2.1.4",
       "children": [
        "IPY_MODEL_2911b10955984236af9ae5826d3da835",
        "IPY_MODEL_d63605679e234f7581589937744480ec",
        "IPY_MODEL_80c613ef283f4ef48ba1202f87be6c9f"
       ],
       "layout": "IPY_MODEL_7c4497512c25468d83c0673378c4f0b4"
      }
     },
     "ae1fa40dbbe74549af9f9ebeb668d5e1": {
      "model_module": "jupyter-js-widgets",
      "model_module_version": "~2.1.4",
      "model_name": "LayoutModel",
      "state": {
       "_model_module_version": "~2.1.4",
       "_view_module_version": "~2.1.4"
      }
     },
     "af25693510e04bd092fb2adea02c125e": {
      "model_module": "jupyter-js-widgets",
      "model_module_version": "~2.1.4",
      "model_name": "FloatTextModel",
      "state": {
       "_model_module_version": "~2.1.4",
       "_view_module_version": "~2.1.4",
       "description": "barrier",
       "layout": "IPY_MODEL_c44268a7225f48e5b56a060fd81b5eec",
       "value": 120
      }
     },
     "af97fbe6712d4cb6851ff045afec89c4": {
      "model_module": "jupyter-js-widgets",
      "model_module_version": "~2.1.4",
      "model_name": "FloatTextModel",
      "state": {
       "_model_module_version": "~2.1.4",
       "_view_module_version": "~2.1.4",
       "description": "strike",
       "layout": "IPY_MODEL_184a044917184580ab60901220d77f90",
       "value": 100
      }
     },
     "b0d7123ef06f4766a7a37bbfefe48408": {
      "model_module": "jupyter-js-widgets",
      "model_module_version": "~2.1.4",
      "model_name": "LayoutModel",
      "state": {
       "_model_module_version": "~2.1.4",
       "_view_module_version": "~2.1.4"
      }
     },
     "b3f8ed8b9ae54c1eb7a18141e49835ca": {
      "model_module": "jupyter-js-widgets",
      "model_module_version": "~2.1.4",
      "model_name": "LayoutModel",
      "state": {
       "_model_module_version": "~2.1.4",
       "_view_module_version": "~2.1.4"
      }
     },
     "b5debe020cd24af6a6d593b7d9d2c591": {
      "model_module": "jupyter-js-widgets",
      "model_module_version": "~2.1.4",
      "model_name": "SelectModel",
      "state": {
       "_model_module_version": "~2.1.4",
       "_options_labels": [
        "Forward",
        "Collar",
        "Call",
        "Put",
        "CallSpread",
        "PutSpread",
        "Seagull",
        "EnhancedForward",
        "KOForward",
        "ForwardExtra",
        "CollarExtra"
       ],
       "_view_module_version": "~2.1.4",
       "description": "Product:",
       "layout": "IPY_MODEL_330ec6efd83747319dcf4484eb8360e9",
       "value": "KOForward"
      }
     },
     "b95d31644db449c191328b09e1024b72": {
      "model_module": "jupyter-js-widgets",
      "model_module_version": "~2.1.4",
      "model_name": "OutputModel",
      "state": {
       "_dom_classes": [],
       "_model_module": "jupyter-js-widgets",
       "_model_module_version": "~2.1.4",
       "_view_module": "jupyter-js-widgets",
       "_view_module_version": "~2.1.4",
       "layout": "IPY_MODEL_07ca7e4c886843518755da93d5fed087",
       "msg_throttle": 1
      }
     },
     "ba3d148dfd9c430b8f86baa83d9726a0": {
      "model_module": "jupyter-js-widgets",
      "model_module_version": "~2.1.4",
      "model_name": "OutputModel",
      "state": {
       "_dom_classes": [],
       "_model_module": "jupyter-js-widgets",
       "_model_module_version": "~2.1.4",
       "_view_module": "jupyter-js-widgets",
       "_view_module_version": "~2.1.4",
       "layout": "IPY_MODEL_55fd130f2404459d86d90b262ef30094",
       "msg_throttle": 1
      }
     },
     "ba704bd1b3a4451898f20b7a132dcc54": {
      "model_module": "jupyter-js-widgets",
      "model_module_version": "~2.1.4",
      "model_name": "FloatTextModel",
      "state": {
       "_model_module_version": "~2.1.4",
       "_view_module_version": "~2.1.4",
       "description": "strike",
       "layout": "IPY_MODEL_1138ec3e424e453a8f8caac965a18747",
       "value": 100
      }
     },
     "baf84408b4f34f98a1f820736ce95b77": {
      "model_module": "jupyter-js-widgets",
      "model_module_version": "~2.1.4",
      "model_name": "LayoutModel",
      "state": {
       "_model_module_version": "~2.1.4",
       "_view_module_version": "~2.1.4"
      }
     },
     "bb65a5de06cf490dabf33080a55d326a": {
      "model_module": "jupyter-js-widgets",
      "model_module_version": "~2.1.4",
      "model_name": "LayoutModel",
      "state": {
       "_model_module_version": "~2.1.4",
       "_view_module_version": "~2.1.4"
      }
     },
     "bccc26313c15485596f89b1b263692c0": {
      "model_module": "jupyter-js-widgets",
      "model_module_version": "~2.1.4",
      "model_name": "VBoxModel",
      "state": {
       "_dom_classes": [
        "widget-interact"
       ],
       "_model_module_version": "~2.1.4",
       "_view_module_version": "~2.1.4",
       "children": [
        "IPY_MODEL_65ef9849d1e04c959f018969e8aa76f7",
        "IPY_MODEL_a0c560e022584d2a8bd130f46a83bb89"
       ],
       "layout": "IPY_MODEL_736fc48059324916a2804aded8041147"
      }
     },
     "c1cb97af026d45e390de8e9e20423e50": {
      "model_module": "jupyter-js-widgets",
      "model_module_version": "~2.1.4",
      "model_name": "VBoxModel",
      "state": {
       "_dom_classes": [
        "widget-interact"
       ],
       "_model_module_version": "~2.1.4",
       "_view_module_version": "~2.1.4",
       "children": [
        "IPY_MODEL_c6e700cec83c41e295271334eba522ea",
        "IPY_MODEL_6a6ddc9007c34c9580e8407f9a1d2298"
       ],
       "layout": "IPY_MODEL_160ffff6b2854f028af8a4ba94bc1d5c"
      }
     },
     "c33dce87196b444dba853000161a6c3c": {
      "model_module": "jupyter-js-widgets",
      "model_module_version": "~2.1.4",
      "model_name": "OutputModel",
      "state": {
       "_dom_classes": [],
       "_model_module": "jupyter-js-widgets",
       "_model_module_version": "~2.1.4",
       "_view_module": "jupyter-js-widgets",
       "_view_module_version": "~2.1.4",
       "layout": "IPY_MODEL_439c7de512cf4a7e98fa7b918eae1a15",
       "msg_throttle": 1
      }
     },
     "c3fc49f33f6744d7b35c9dadfb3f1a26": {
      "model_module": "jupyter-js-widgets",
      "model_module_version": "~2.1.4",
      "model_name": "LayoutModel",
      "state": {
       "_model_module_version": "~2.1.4",
       "_view_module_version": "~2.1.4"
      }
     },
     "c44268a7225f48e5b56a060fd81b5eec": {
      "model_module": "jupyter-js-widgets",
      "model_module_version": "~2.1.4",
      "model_name": "LayoutModel",
      "state": {
       "_model_module_version": "~2.1.4",
       "_view_module_version": "~2.1.4"
      }
     },
     "c5a926b5047143afa3fef26566d52306": {
      "model_module": "jupyter-js-widgets",
      "model_module_version": "~2.1.4",
      "model_name": "LayoutModel",
      "state": {
       "_model_module_version": "~2.1.4",
       "_view_module_version": "~2.1.4"
      }
     },
     "c6e700cec83c41e295271334eba522ea": {
      "model_module": "jupyter-js-widgets",
      "model_module_version": "~2.1.4",
      "model_name": "SelectModel",
      "state": {
       "_model_module_version": "~2.1.4",
       "_options_labels": [
        "Forward",
        "Collar",
        "Call",
        "Put",
        "CallSpread",
        "PutSpread",
        "Seagull",
        "EnhancedForward",
        "KOForward",
        "ForwardExtra",
        "CollarExtra"
       ],
       "_view_module_version": "~2.1.4",
       "description": "Product:",
       "layout": "IPY_MODEL_4bf349ea2008496d8d6ff3bfa5a77142",
       "value": "KOForward"
      }
     },
     "ca955ff91b834ac2a5bd4c8633ad60b4": {
      "model_module": "jupyter-js-widgets",
      "model_module_version": "~2.1.4",
      "model_name": "OutputModel",
      "state": {
       "_dom_classes": [],
       "_model_module": "jupyter-js-widgets",
       "_model_module_version": "~2.1.4",
       "_view_module": "jupyter-js-widgets",
       "_view_module_version": "~2.1.4",
       "layout": "IPY_MODEL_6605c1b8b3e74b72a58765b1b12cc676",
       "msg_throttle": 1
      }
     },
     "cf3427b962ed4e9ea35849707291115e": {
      "model_module": "jupyter-js-widgets",
      "model_module_version": "~2.1.4",
      "model_name": "LayoutModel",
      "state": {
       "_model_module_version": "~2.1.4",
       "_view_module_version": "~2.1.4"
      }
     },
     "d03a86d20e094f8680b253325e850034": {
      "model_module": "jupyter-js-widgets",
      "model_module_version": "~2.1.4",
      "model_name": "LayoutModel",
      "state": {
       "_model_module_version": "~2.1.4",
       "_view_module_version": "~2.1.4"
      }
     },
     "d25dcd4dcb6c44dc978d93e77678d8dc": {
      "model_module": "jupyter-js-widgets",
      "model_module_version": "~2.1.4",
      "model_name": "LayoutModel",
      "state": {
       "_model_module_version": "~2.1.4",
       "_view_module_version": "~2.1.4"
      }
     },
     "d3a2e924f0b64c2e840380934b809ad3": {
      "model_module": "jupyter-js-widgets",
      "model_module_version": "~2.1.4",
      "model_name": "SelectModel",
      "state": {
       "_model_module_version": "~2.1.4",
       "_options_labels": [
        "Forward",
        "Collar",
        "Call",
        "Put",
        "CallSpread",
        "PutSpread",
        "Seagull",
        "EnhancedForward",
        "KOForward",
        "ForwardExtra",
        "CollarExtra"
       ],
       "_view_module_version": "~2.1.4",
       "description": "Product:",
       "layout": "IPY_MODEL_d8eadb68be8f4a28b3c3d92590401295",
       "value": "Forward"
      }
     },
     "d5973de4c99e4ce5b8a04c453af736d2": {
      "model_module": "jupyter-js-widgets",
      "model_module_version": "~2.1.4",
      "model_name": "VBoxModel",
      "state": {
       "_dom_classes": [
        "widget-interact"
       ],
       "_model_module_version": "~2.1.4",
       "_view_module_version": "~2.1.4",
       "children": [
        "IPY_MODEL_9ced0e843b6f4685a953b97420edc41d",
        "IPY_MODEL_28df6eb0cb1c431e8636985250ddf2ce"
       ],
       "layout": "IPY_MODEL_7c1cec9cbc0b4a459e3cd38ae82ffb23"
      }
     },
     "d63605679e234f7581589937744480ec": {
      "model_module": "jupyter-js-widgets",
      "model_module_version": "~2.1.4",
      "model_name": "FloatTextModel",
      "state": {
       "_model_module_version": "~2.1.4",
       "_view_module_version": "~2.1.4",
       "description": "barrier",
       "layout": "IPY_MODEL_272bc83201e24dfa88d43d380a2339a3",
       "value": 120
      }
     },
     "d66355d57eb04e92a6a22b9b0d05391c": {
      "model_module": "jupyter-js-widgets",
      "model_module_version": "~2.1.4",
      "model_name": "LayoutModel",
      "state": {
       "_model_module_version": "~2.1.4",
       "_view_module_version": "~2.1.4"
      }
     },
     "d6f8a022203144fc960a6e80641e319b": {
      "model_module": "jupyter-js-widgets",
      "model_module_version": "~2.1.4",
      "model_name": "LayoutModel",
      "state": {
       "_model_module_version": "~2.1.4",
       "_view_module_version": "~2.1.4"
      }
     },
     "d8eadb68be8f4a28b3c3d92590401295": {
      "model_module": "jupyter-js-widgets",
      "model_module_version": "~2.1.4",
      "model_name": "LayoutModel",
      "state": {
       "_model_module_version": "~2.1.4",
       "_view_module_version": "~2.1.4"
      }
     },
     "d937e12af2c341708dc01e8296e1bf19": {
      "model_module": "jupyter-js-widgets",
      "model_module_version": "~2.1.4",
      "model_name": "LayoutModel",
      "state": {
       "_model_module_version": "~2.1.4",
       "_view_module_version": "~2.1.4"
      }
     },
     "d938bd62bb84470092acb903c6cd5103": {
      "model_module": "jupyter-js-widgets",
      "model_module_version": "~2.1.4",
      "model_name": "LayoutModel",
      "state": {
       "_model_module_version": "~2.1.4",
       "_view_module_version": "~2.1.4"
      }
     },
     "d9be4f86f2264d2bb4962402ca34463a": {
      "model_module": "jupyter-js-widgets",
      "model_module_version": "~2.1.4",
      "model_name": "LayoutModel",
      "state": {
       "_model_module_version": "~2.1.4",
       "_view_module_version": "~2.1.4"
      }
     },
     "da4a0c3505864c2ba479fa7a15059698": {
      "model_module": "jupyter-js-widgets",
      "model_module_version": "~2.1.4",
      "model_name": "LayoutModel",
      "state": {
       "_model_module_version": "~2.1.4",
       "_view_module_version": "~2.1.4"
      }
     },
     "e164a5b400764514b4c11ba82b137c29": {
      "model_module": "jupyter-js-widgets",
      "model_module_version": "~2.1.4",
      "model_name": "LayoutModel",
      "state": {
       "_model_module_version": "~2.1.4",
       "_view_module_version": "~2.1.4"
      }
     },
     "e1fc045645ff4097a796e244c851d33c": {
      "model_module": "jupyter-js-widgets",
      "model_module_version": "~2.1.4",
      "model_name": "FloatTextModel",
      "state": {
       "_model_module_version": "~2.1.4",
       "_view_module_version": "~2.1.4",
       "description": "barrier",
       "layout": "IPY_MODEL_4e027fbd36454942b3994960f15aa3e1",
       "value": 100
      }
     },
     "e36677e023ad4fa4a29662325563e93a": {
      "model_module": "jupyter-js-widgets",
      "model_module_version": "~2.1.4",
      "model_name": "SelectModel",
      "state": {
       "_model_module_version": "~2.1.4",
       "_options_labels": [
        "Forward",
        "Collar",
        "Call",
        "Put",
        "CallSpread",
        "PutSpread",
        "Seagull",
        "EnhancedForward",
        "KOForward",
        "ForwardExtra",
        "CollarExtra"
       ],
       "_view_module_version": "~2.1.4",
       "description": "Product:",
       "layout": "IPY_MODEL_e75b7bc2b90b420e897dd9bfb945520b",
       "value": "Seagull"
      }
     },
     "e37cdd93c42a4ca4b562cc477997ff37": {
      "model_module": "jupyter-js-widgets",
      "model_module_version": "~2.1.4",
      "model_name": "LayoutModel",
      "state": {
       "_model_module_version": "~2.1.4",
       "_view_module_version": "~2.1.4"
      }
     },
     "e75b7bc2b90b420e897dd9bfb945520b": {
      "model_module": "jupyter-js-widgets",
      "model_module_version": "~2.1.4",
      "model_name": "LayoutModel",
      "state": {
       "_model_module_version": "~2.1.4",
       "_view_module_version": "~2.1.4"
      }
     },
     "e8ef0cabb2e84118b4ee14b1c60bb405": {
      "model_module": "jupyter-js-widgets",
      "model_module_version": "~2.1.4",
      "model_name": "LayoutModel",
      "state": {
       "_model_module_version": "~2.1.4",
       "_view_module_version": "~2.1.4"
      }
     },
     "e9886156142742e8aa5056c452555aae": {
      "model_module": "jupyter-js-widgets",
      "model_module_version": "~2.1.4",
      "model_name": "VBoxModel",
      "state": {
       "_dom_classes": [
        "widget-interact"
       ],
       "_model_module_version": "~2.1.4",
       "_view_module_version": "~2.1.4",
       "children": [
        "IPY_MODEL_d3a2e924f0b64c2e840380934b809ad3",
        "IPY_MODEL_a2ba4690adcd4f10b9f892894a3f9778"
       ],
       "layout": "IPY_MODEL_293bcde19099437faf3bdc06276d0fea"
      }
     },
     "ea82ed2ce95a4efea7831fa306e314f9": {
      "model_module": "jupyter-js-widgets",
      "model_module_version": "~2.1.4",
      "model_name": "OutputModel",
      "state": {
       "_dom_classes": [],
       "_model_module": "jupyter-js-widgets",
       "_model_module_version": "~2.1.4",
       "_view_module": "jupyter-js-widgets",
       "_view_module_version": "~2.1.4",
       "layout": "IPY_MODEL_3db6290449c34d8da17786be1448be0c",
       "msg_throttle": 1
      }
     },
     "ec316604fd26435bb09c8a036320bd3c": {
      "model_module": "jupyter-js-widgets",
      "model_module_version": "~2.1.4",
      "model_name": "LayoutModel",
      "state": {
       "_model_module_version": "~2.1.4",
       "_view_module_version": "~2.1.4"
      }
     },
     "ee90cc6ea5ae4998bd80f63bd842b02f": {
      "model_module": "jupyter-js-widgets",
      "model_module_version": "~2.1.4",
      "model_name": "LayoutModel",
      "state": {
       "_model_module_version": "~2.1.4",
       "_view_module_version": "~2.1.4"
      }
     },
     "eec63d6c1cc04b70a6ea88fcee28a0b2": {
      "model_module": "jupyter-js-widgets",
      "model_module_version": "~2.1.4",
      "model_name": "FloatTextModel",
      "state": {
       "_model_module_version": "~2.1.4",
       "_view_module_version": "~2.1.4",
       "description": "price",
       "layout": "IPY_MODEL_6001a366c15e43c0bbc2522990eb45b7",
       "value": 100
      }
     },
     "f0888e6fedc54e38a39e0bc0f7ac34b0": {
      "model_module": "jupyter-js-widgets",
      "model_module_version": "~2.1.4",
      "model_name": "FloatTextModel",
      "state": {
       "_model_module_version": "~2.1.4",
       "_view_module_version": "~2.1.4",
       "description": "upper_strike",
       "layout": "IPY_MODEL_0e71b23386fd4e4a8b87446d26126076",
       "value": 120
      }
     },
     "f0d5b9d2abd94daeacfb5ebc0fac269b": {
      "model_module": "jupyter-js-widgets",
      "model_module_version": "~2.1.4",
      "model_name": "VBoxModel",
      "state": {
       "_dom_classes": [
        "widget-interact"
       ],
       "_model_module_version": "~2.1.4",
       "_view_module_version": "~2.1.4",
       "children": [
        "IPY_MODEL_48b9b49a2b874b71b55a4cccd8dc8e65",
        "IPY_MODEL_a5a8ac075a8c47d3832f52078758fd98"
       ],
       "layout": "IPY_MODEL_a08f76271a154ebd82aff3ed3964f830"
      }
     },
     "f1d75ac407794520bc8ccdf3efe892ad": {
      "model_module": "jupyter-js-widgets",
      "model_module_version": "~2.1.4",
      "model_name": "OutputModel",
      "state": {
       "_dom_classes": [],
       "_model_module": "jupyter-js-widgets",
       "_model_module_version": "~2.1.4",
       "_view_module": "jupyter-js-widgets",
       "_view_module_version": "~2.1.4",
       "layout": "IPY_MODEL_021d745886c94423878110977c6790e5",
       "msg_throttle": 1
      }
     },
     "f21650d6626c4719827db9cc1c5e7729": {
      "model_module": "jupyter-js-widgets",
      "model_module_version": "~2.1.4",
      "model_name": "LayoutModel",
      "state": {
       "_model_module_version": "~2.1.4",
       "_view_module_version": "~2.1.4"
      }
     },
     "f3b040792d644f42b83a08843d8e5ecf": {
      "model_module": "jupyter-js-widgets",
      "model_module_version": "~2.1.4",
      "model_name": "LayoutModel",
      "state": {
       "_model_module_version": "~2.1.4",
       "_view_module_version": "~2.1.4"
      }
     },
     "f70fd7f32ea44ff4aafc95c8fe1bfcca": {
      "model_module": "jupyter-js-widgets",
      "model_module_version": "~2.1.4",
      "model_name": "LayoutModel",
      "state": {
       "_model_module_version": "~2.1.4",
       "_view_module_version": "~2.1.4"
      }
     },
     "f90b97d99f5140ef895fec09108d56d2": {
      "model_module": "jupyter-js-widgets",
      "model_module_version": "~2.1.4",
      "model_name": "FloatTextModel",
      "state": {
       "_model_module_version": "~2.1.4",
       "_view_module_version": "~2.1.4",
       "description": "call_strike",
       "layout": "IPY_MODEL_d937e12af2c341708dc01e8296e1bf19",
       "value": 120
      }
     }
    },
    "version_major": 1,
    "version_minor": 0
   }
  }
 },
 "nbformat": 4,
 "nbformat_minor": 2
}
