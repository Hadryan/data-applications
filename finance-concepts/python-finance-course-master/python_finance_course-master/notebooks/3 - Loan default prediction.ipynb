{
 "cells": [
  {
   "cell_type": "markdown",
   "metadata": {},
   "source": [
    "Lecturer: Marton Sebok (Based on earlier work of Robert Kabai)"
   ]
  },
  {
   "cell_type": "markdown",
   "metadata": {},
   "source": [
    "# Loan Default prediction\n",
    "Using scikit-learn and historical performance data to predict whether a loan will default."
   ]
  },
  {
   "cell_type": "markdown",
   "metadata": {
    "toc": true
   },
   "source": [
    "<h1>Table of Contents<span class=\"tocSkip\"></span></h1>\n",
    "<div class=\"toc\"><ul class=\"toc-item\"><li><span><a href=\"#Lending-Club-recap\" data-toc-modified-id=\"Lending-Club-recap-1\"><span class=\"toc-item-num\">1&nbsp;&nbsp;</span>Lending Club recap</a></span></li><li><span><a href=\"#Brief-intro-to-classification\" data-toc-modified-id=\"Brief-intro-to-classification-2\"><span class=\"toc-item-num\">2&nbsp;&nbsp;</span>Brief intro to classification</a></span><ul class=\"toc-item\"><li><span><a href=\"#Performance-metrics\" data-toc-modified-id=\"Performance-metrics-2.1\"><span class=\"toc-item-num\">2.1&nbsp;&nbsp;</span>Performance metrics</a></span></li><li><span><a href=\"#General-Supervised-Learning-workflow\" data-toc-modified-id=\"General-Supervised-Learning-workflow-2.2\"><span class=\"toc-item-num\">2.2&nbsp;&nbsp;</span>General Supervised Learning workflow</a></span></li></ul></li><li><span><a href=\"#Load-already-cleaned-data-from-previous-lecture\" data-toc-modified-id=\"Load-already-cleaned-data-from-previous-lecture-3\"><span class=\"toc-item-num\">3&nbsp;&nbsp;</span>Load already cleaned data from previous lecture</a></span><ul class=\"toc-item\"><li><span><a href=\"#Convert-categorical-variables-to-individual-binaries\" data-toc-modified-id=\"Convert-categorical-variables-to-individual-binaries-3.1\"><span class=\"toc-item-num\">3.1&nbsp;&nbsp;</span>Convert categorical variables to individual binaries</a></span></li><li><span><a href=\"#Remove-calculated-features-from-the-data\" data-toc-modified-id=\"Remove-calculated-features-from-the-data-3.2\"><span class=\"toc-item-num\">3.2&nbsp;&nbsp;</span>Remove calculated features from the data</a></span></li></ul></li><li><span><a href=\"#Train-test-split\" data-toc-modified-id=\"Train-test-split-4\"><span class=\"toc-item-num\">4&nbsp;&nbsp;</span>Train-test split</a></span></li><li><span><a href=\"#Logistic-regression\" data-toc-modified-id=\"Logistic-regression-5\"><span class=\"toc-item-num\">5&nbsp;&nbsp;</span>Logistic regression</a></span><ul class=\"toc-item\"><li><span><a href=\"#Logistic-Regression-(Math)\" data-toc-modified-id=\"Logistic-Regression-(Math)-5.1\"><span class=\"toc-item-num\">5.1&nbsp;&nbsp;</span>Logistic Regression (Math)</a></span></li><li><span><a href=\"#Using-Logistic-Regression-from-Scikit-Learn\" data-toc-modified-id=\"Using-Logistic-Regression-from-Scikit-Learn-5.2\"><span class=\"toc-item-num\">5.2&nbsp;&nbsp;</span>Using Logistic Regression from Scikit-Learn</a></span></li><li><span><a href=\"#Why-the-bad-performance?\" data-toc-modified-id=\"Why-the-bad-performance?-5.3\"><span class=\"toc-item-num\">5.3&nbsp;&nbsp;</span>Why the bad performance?</a></span></li><li><span><a href=\"#Exercise:-What-do-you-think-is-the-problem?\" data-toc-modified-id=\"Exercise:-What-do-you-think-is-the-problem?-5.4\"><span class=\"toc-item-num\">5.4&nbsp;&nbsp;</span>Exercise: What do you think is the problem?</a></span></li></ul></li><li><span><a href=\"#Dealing-with-class-imbalance\" data-toc-modified-id=\"Dealing-with-class-imbalance-6\"><span class=\"toc-item-num\">6&nbsp;&nbsp;</span>Dealing with class imbalance</a></span><ul class=\"toc-item\"><li><span><a href=\"#Exercise:-Think-about-what-is-the-simplest-model-that-would-give-~85%-accuracy?-Would-that-be-a-useful-model?\" data-toc-modified-id=\"Exercise:-Think-about-what-is-the-simplest-model-that-would-give-~85%-accuracy?-Would-that-be-a-useful-model?-6.1\"><span class=\"toc-item-num\">6.1&nbsp;&nbsp;</span>Exercise: Think about what is the simplest model that would give ~85% accuracy? Would that be a useful model?</a></span></li><li><span><a href=\"#Downsampling-the-training-set\" data-toc-modified-id=\"Downsampling-the-training-set-6.2\"><span class=\"toc-item-num\">6.2&nbsp;&nbsp;</span>Downsampling the training set</a></span></li></ul></li><li><span><a href=\"#Decision-Tree\" data-toc-modified-id=\"Decision-Tree-7\"><span class=\"toc-item-num\">7&nbsp;&nbsp;</span>Decision Tree</a></span><ul class=\"toc-item\"><li><span><a href=\"#Decision-Trees-(Math)\" data-toc-modified-id=\"Decision-Trees-(Math)-7.1\"><span class=\"toc-item-num\">7.1&nbsp;&nbsp;</span>Decision Trees (Math)</a></span></li><li><span><a href=\"#Visualizing-and-interpreting-a-Decision-Tree\" data-toc-modified-id=\"Visualizing-and-interpreting-a-Decision-Tree-7.2\"><span class=\"toc-item-num\">7.2&nbsp;&nbsp;</span>Visualizing and interpreting a Decision Tree</a></span></li><li><span><a href=\"#Exercise:-Use-predicted-probabilities-with-a-different-threshold\" data-toc-modified-id=\"Exercise:-Use-predicted-probabilities-with-a-different-threshold-7.3\"><span class=\"toc-item-num\">7.3&nbsp;&nbsp;</span>Exercise: Use predicted probabilities with a different threshold</a></span></li><li><span><a href=\"#Exercise:-Vary-the-max-depth-of-the-tree-from-1-to-10\" data-toc-modified-id=\"Exercise:-Vary-the-max-depth-of-the-tree-from-1-to-10-7.4\"><span class=\"toc-item-num\">7.4&nbsp;&nbsp;</span>Exercise: Vary the max depth of the tree from 1 to 10</a></span></li></ul></li></ul></div>"
   ]
  },
  {
   "cell_type": "markdown",
   "metadata": {},
   "source": [
    "## Lending Club recap\n",
    "\n",
    "Lending Club assigns a grade to each loan, representing its riskiness, ie the probability of it defaulting. This grade will also determine the interest rate the borrower has to pay (and what the investor gets). Investors can browse the loans on the platform and build a portfolio of loans. The minimum investment an investor can make is just $25 per loan. Each portion of a loan is called a note and smart investors build a portfolio of notes to spread their risk among many borrowers.\n",
    "\n",
    "![Securitization](img\\lendingclubnotes.png)\n",
    "\n",
    "**Goal: Create a model that predicts the probability of default for the Lending Club dataset.**"
   ]
  },
  {
   "cell_type": "markdown",
   "metadata": {},
   "source": [
    "## Brief intro to classification\n",
    "\n",
    "As mentioned in the previous lecture our final goal is to assess the riskiness of our investments. In this example we will use loan level historical performance data to create a predictive model to make a default prediction for each loan individually. The model will decide whether or not a loan is a good or a bad loan.\n",
    "![Good_or_bad_credit](img\\good_or_bad_credit.png)\n",
    "\n",
    "In the general case we can formulate this question as a classification problem. In classification we observations with multiple features / descriptors (the two axis on the picture below) and two or more categories (the color of the dots in the picture below). We would like to learn what structure/region of the feature space will most likely result in observing which classs.\n",
    "\n",
    "![Classification](img\\classification.png)\n",
    "\n",
    "Let's observe that creating a good separation (decision boundary) is not trivial as there might be an overlap between the regions. In this case using a straight line for a decision boundary would be called a `weak learner`, the black curve would be a `good fit` and the green wiggly line would be a model which overfits the data thus adds too much inportance to individual examples and learning even the noise."
   ]
  },
  {
   "cell_type": "markdown",
   "metadata": {},
   "source": [
    "### Performance metrics"
   ]
  },
  {
   "cell_type": "markdown",
   "metadata": {
    "collapsed": true
   },
   "source": [
    "**Confusion matrix**\n",
    "\n",
    "We can construct a confusion matrix based on the correct and incorrect predictions of our model. Two very important measures are the True Positive Rate and False Positive Rate.\n",
    "\n",
    "![ConfusionMatrix](img\\confusion_matrix.png)\n",
    "\n",
    "**Accuracy**\n",
    "\n",
    "The accuracy of the model is probably the simplest metric we can come up with: it measures the ratio of correctly classified observation to all observations.\n",
    "\n",
    "$$Accuracy = \\frac{TP+TN}{TP+FP+TN+FN} = \\frac{TP+TN}{no. observations} $$\n",
    "\n",
    "**ROC curve**\n",
    "\n",
    "We can construct the ROC curve by varying the decision threshold for predicting class `0` or `1` and drawing the resulting TPR / FPR values. A model with a higher area under the curve (AUC) is considered better.\n",
    "\n",
    "![ROC](img\\roc.png)\n",
    "<center>Image source: https://docs.eyesopen.com/toolkits/cookbook/python/plotting/roc.html</center>"
   ]
  },
  {
   "cell_type": "markdown",
   "metadata": {},
   "source": [
    "### General Supervised Learning workflow\n",
    "\n",
    "The general workflow for supervised learning is as follows:\n",
    "* We gather historical data to build the model on\n",
    "* Split the data into two parts. Use random sampling!\n",
    "    * A later part to train the model on \n",
    "    * A smaller part to evaluate the model's performance on\n",
    "    * Question: what do you think is a good train/test split ratio?\n",
    "* Build the model on the training data without ever touching the test data.\n",
    "* Use the model and evaluate it's performance on the test data. We are basically simulating how the model performs on previously unseen data with unknown label. There are a lot of performance metrics used in the industry depending on the task at hand.\n",
    "* Deploy the model and use it in production for unlabeled data\n",
    "\n",
    "![SuperveisedLearningWorkflow](img\\sup_learning_workflow.png)"
   ]
  },
  {
   "cell_type": "markdown",
   "metadata": {},
   "source": [
    "## Load already cleaned data from previous lecture"
   ]
  },
  {
   "cell_type": "code",
   "execution_count": 82,
   "metadata": {
    "collapsed": true
   },
   "outputs": [],
   "source": [
    "import pandas as pd\n",
    "data = pd.read_pickle('Lendmark_clean.pkl')"
   ]
  },
  {
   "cell_type": "code",
   "execution_count": 83,
   "metadata": {
    "collapsed": true
   },
   "outputs": [],
   "source": [
    "data = data.drop('last_pymnt_amnt', axis=1)"
   ]
  },
  {
   "cell_type": "code",
   "execution_count": 84,
   "metadata": {},
   "outputs": [
    {
     "data": {
      "text/html": [
       "<div>\n",
       "<style>\n",
       "    .dataframe thead tr:only-child th {\n",
       "        text-align: right;\n",
       "    }\n",
       "\n",
       "    .dataframe thead th {\n",
       "        text-align: left;\n",
       "    }\n",
       "\n",
       "    .dataframe tbody tr th {\n",
       "        vertical-align: top;\n",
       "    }\n",
       "</style>\n",
       "<table border=\"1\" class=\"dataframe\">\n",
       "  <thead>\n",
       "    <tr style=\"text-align: right;\">\n",
       "      <th></th>\n",
       "      <th>loan_amnt</th>\n",
       "      <th>term</th>\n",
       "      <th>int_rate</th>\n",
       "      <th>funded_amnt</th>\n",
       "      <th>grade</th>\n",
       "      <th>annual_inc</th>\n",
       "      <th>dti</th>\n",
       "      <th>delinq_2yrs</th>\n",
       "      <th>emp_length</th>\n",
       "      <th>home_ownership</th>\n",
       "      <th>tax_liens</th>\n",
       "      <th>defaulted</th>\n",
       "    </tr>\n",
       "  </thead>\n",
       "  <tbody>\n",
       "    <tr>\n",
       "      <th>0</th>\n",
       "      <td>5000.0</td>\n",
       "      <td>36</td>\n",
       "      <td>10.65</td>\n",
       "      <td>5000.0</td>\n",
       "      <td>2</td>\n",
       "      <td>24000.0</td>\n",
       "      <td>27.65</td>\n",
       "      <td>0.0</td>\n",
       "      <td>10</td>\n",
       "      <td>RENT</td>\n",
       "      <td>0.0</td>\n",
       "      <td>0</td>\n",
       "    </tr>\n",
       "    <tr>\n",
       "      <th>1</th>\n",
       "      <td>2500.0</td>\n",
       "      <td>60</td>\n",
       "      <td>15.27</td>\n",
       "      <td>2500.0</td>\n",
       "      <td>3</td>\n",
       "      <td>30000.0</td>\n",
       "      <td>1.00</td>\n",
       "      <td>0.0</td>\n",
       "      <td>0</td>\n",
       "      <td>RENT</td>\n",
       "      <td>0.0</td>\n",
       "      <td>1</td>\n",
       "    </tr>\n",
       "    <tr>\n",
       "      <th>2</th>\n",
       "      <td>2400.0</td>\n",
       "      <td>36</td>\n",
       "      <td>15.96</td>\n",
       "      <td>2400.0</td>\n",
       "      <td>3</td>\n",
       "      <td>12252.0</td>\n",
       "      <td>8.72</td>\n",
       "      <td>0.0</td>\n",
       "      <td>10</td>\n",
       "      <td>RENT</td>\n",
       "      <td>0.0</td>\n",
       "      <td>0</td>\n",
       "    </tr>\n",
       "    <tr>\n",
       "      <th>3</th>\n",
       "      <td>10000.0</td>\n",
       "      <td>36</td>\n",
       "      <td>13.49</td>\n",
       "      <td>10000.0</td>\n",
       "      <td>3</td>\n",
       "      <td>49200.0</td>\n",
       "      <td>20.00</td>\n",
       "      <td>0.0</td>\n",
       "      <td>10</td>\n",
       "      <td>RENT</td>\n",
       "      <td>0.0</td>\n",
       "      <td>0</td>\n",
       "    </tr>\n",
       "    <tr>\n",
       "      <th>4</th>\n",
       "      <td>3000.0</td>\n",
       "      <td>60</td>\n",
       "      <td>12.69</td>\n",
       "      <td>3000.0</td>\n",
       "      <td>2</td>\n",
       "      <td>80000.0</td>\n",
       "      <td>17.94</td>\n",
       "      <td>0.0</td>\n",
       "      <td>1</td>\n",
       "      <td>RENT</td>\n",
       "      <td>0.0</td>\n",
       "      <td>0</td>\n",
       "    </tr>\n",
       "  </tbody>\n",
       "</table>\n",
       "</div>"
      ],
      "text/plain": [
       "   loan_amnt  term  int_rate  funded_amnt  grade  annual_inc    dti  \\\n",
       "0     5000.0    36     10.65       5000.0      2     24000.0  27.65   \n",
       "1     2500.0    60     15.27       2500.0      3     30000.0   1.00   \n",
       "2     2400.0    36     15.96       2400.0      3     12252.0   8.72   \n",
       "3    10000.0    36     13.49      10000.0      3     49200.0  20.00   \n",
       "4     3000.0    60     12.69       3000.0      2     80000.0  17.94   \n",
       "\n",
       "   delinq_2yrs  emp_length home_ownership  tax_liens  defaulted  \n",
       "0          0.0          10           RENT        0.0          0  \n",
       "1          0.0           0           RENT        0.0          1  \n",
       "2          0.0          10           RENT        0.0          0  \n",
       "3          0.0          10           RENT        0.0          0  \n",
       "4          0.0           1           RENT        0.0          0  "
      ]
     },
     "execution_count": 84,
     "metadata": {},
     "output_type": "execute_result"
    }
   ],
   "source": [
    "data.head()"
   ]
  },
  {
   "cell_type": "markdown",
   "metadata": {},
   "source": [
    "### Convert categorical variables to individual binaries\n",
    "Many models can't deal with categorical type data and can only accept numerical variables thus we need to encode contained information numerically somehow."
   ]
  },
  {
   "cell_type": "code",
   "execution_count": 85,
   "metadata": {},
   "outputs": [
    {
     "data": {
      "text/plain": [
       "array(['RENT', 'OWN', 'MORTGAGE', 'OTHER', 'NONE'], dtype=object)"
      ]
     },
     "execution_count": 85,
     "metadata": {},
     "output_type": "execute_result"
    }
   ],
   "source": [
    "data.home_ownership.unique()"
   ]
  },
  {
   "cell_type": "markdown",
   "metadata": {},
   "source": [
    "**Something to think about:** Why would it be a bad idea to encode this variable with integer values 1-5?"
   ]
  },
  {
   "cell_type": "markdown",
   "metadata": {},
   "source": [
    "The usual best practice is to encode a categorical variable of 5 unique values to 5 distinct binary columns (having values of 1 or 0). The resulting variable are sometimes called \"dummy variables\".\n",
    "\n",
    "There is a built in Pandas function that can help us achieve this. Let's see how it works:"
   ]
  },
  {
   "cell_type": "code",
   "execution_count": 86,
   "metadata": {},
   "outputs": [
    {
     "data": {
      "text/html": [
       "<div>\n",
       "<style>\n",
       "    .dataframe thead tr:only-child th {\n",
       "        text-align: right;\n",
       "    }\n",
       "\n",
       "    .dataframe thead th {\n",
       "        text-align: left;\n",
       "    }\n",
       "\n",
       "    .dataframe tbody tr th {\n",
       "        vertical-align: top;\n",
       "    }\n",
       "</style>\n",
       "<table border=\"1\" class=\"dataframe\">\n",
       "  <thead>\n",
       "    <tr style=\"text-align: right;\">\n",
       "      <th></th>\n",
       "      <th>home_ownership_MORTGAGE</th>\n",
       "      <th>home_ownership_NONE</th>\n",
       "      <th>home_ownership_OTHER</th>\n",
       "      <th>home_ownership_OWN</th>\n",
       "      <th>home_ownership_RENT</th>\n",
       "    </tr>\n",
       "  </thead>\n",
       "  <tbody>\n",
       "    <tr>\n",
       "      <th>0</th>\n",
       "      <td>0</td>\n",
       "      <td>0</td>\n",
       "      <td>0</td>\n",
       "      <td>0</td>\n",
       "      <td>1</td>\n",
       "    </tr>\n",
       "    <tr>\n",
       "      <th>1</th>\n",
       "      <td>0</td>\n",
       "      <td>0</td>\n",
       "      <td>0</td>\n",
       "      <td>0</td>\n",
       "      <td>1</td>\n",
       "    </tr>\n",
       "    <tr>\n",
       "      <th>2</th>\n",
       "      <td>0</td>\n",
       "      <td>0</td>\n",
       "      <td>0</td>\n",
       "      <td>0</td>\n",
       "      <td>1</td>\n",
       "    </tr>\n",
       "    <tr>\n",
       "      <th>3</th>\n",
       "      <td>0</td>\n",
       "      <td>0</td>\n",
       "      <td>0</td>\n",
       "      <td>0</td>\n",
       "      <td>1</td>\n",
       "    </tr>\n",
       "    <tr>\n",
       "      <th>4</th>\n",
       "      <td>0</td>\n",
       "      <td>0</td>\n",
       "      <td>0</td>\n",
       "      <td>0</td>\n",
       "      <td>1</td>\n",
       "    </tr>\n",
       "  </tbody>\n",
       "</table>\n",
       "</div>"
      ],
      "text/plain": [
       "   home_ownership_MORTGAGE  home_ownership_NONE  home_ownership_OTHER  \\\n",
       "0                        0                    0                     0   \n",
       "1                        0                    0                     0   \n",
       "2                        0                    0                     0   \n",
       "3                        0                    0                     0   \n",
       "4                        0                    0                     0   \n",
       "\n",
       "   home_ownership_OWN  home_ownership_RENT  \n",
       "0                   0                    1  \n",
       "1                   0                    1  \n",
       "2                   0                    1  \n",
       "3                   0                    1  \n",
       "4                   0                    1  "
      ]
     },
     "execution_count": 86,
     "metadata": {},
     "output_type": "execute_result"
    }
   ],
   "source": [
    "pd.get_dummies(data.home_ownership, prefix='home_ownership', prefix_sep='_').head()"
   ]
  },
  {
   "cell_type": "markdown",
   "metadata": {},
   "source": [
    "Let's create a version of the data wich contains the dummy variables but not the original one."
   ]
  },
  {
   "cell_type": "code",
   "execution_count": 87,
   "metadata": {
    "scrolled": false
   },
   "outputs": [
    {
     "data": {
      "text/html": [
       "<div>\n",
       "<style>\n",
       "    .dataframe thead tr:only-child th {\n",
       "        text-align: right;\n",
       "    }\n",
       "\n",
       "    .dataframe thead th {\n",
       "        text-align: left;\n",
       "    }\n",
       "\n",
       "    .dataframe tbody tr th {\n",
       "        vertical-align: top;\n",
       "    }\n",
       "</style>\n",
       "<table border=\"1\" class=\"dataframe\">\n",
       "  <thead>\n",
       "    <tr style=\"text-align: right;\">\n",
       "      <th></th>\n",
       "      <th>loan_amnt</th>\n",
       "      <th>term</th>\n",
       "      <th>int_rate</th>\n",
       "      <th>funded_amnt</th>\n",
       "      <th>grade</th>\n",
       "      <th>annual_inc</th>\n",
       "      <th>dti</th>\n",
       "      <th>delinq_2yrs</th>\n",
       "      <th>emp_length</th>\n",
       "      <th>tax_liens</th>\n",
       "      <th>defaulted</th>\n",
       "      <th>home_ownership_MORTGAGE</th>\n",
       "      <th>home_ownership_NONE</th>\n",
       "      <th>home_ownership_OTHER</th>\n",
       "      <th>home_ownership_OWN</th>\n",
       "      <th>home_ownership_RENT</th>\n",
       "    </tr>\n",
       "  </thead>\n",
       "  <tbody>\n",
       "    <tr>\n",
       "      <th>0</th>\n",
       "      <td>5000.0</td>\n",
       "      <td>36</td>\n",
       "      <td>10.65</td>\n",
       "      <td>5000.0</td>\n",
       "      <td>2</td>\n",
       "      <td>24000.0</td>\n",
       "      <td>27.65</td>\n",
       "      <td>0.0</td>\n",
       "      <td>10</td>\n",
       "      <td>0.0</td>\n",
       "      <td>0</td>\n",
       "      <td>0</td>\n",
       "      <td>0</td>\n",
       "      <td>0</td>\n",
       "      <td>0</td>\n",
       "      <td>1</td>\n",
       "    </tr>\n",
       "    <tr>\n",
       "      <th>1</th>\n",
       "      <td>2500.0</td>\n",
       "      <td>60</td>\n",
       "      <td>15.27</td>\n",
       "      <td>2500.0</td>\n",
       "      <td>3</td>\n",
       "      <td>30000.0</td>\n",
       "      <td>1.00</td>\n",
       "      <td>0.0</td>\n",
       "      <td>0</td>\n",
       "      <td>0.0</td>\n",
       "      <td>1</td>\n",
       "      <td>0</td>\n",
       "      <td>0</td>\n",
       "      <td>0</td>\n",
       "      <td>0</td>\n",
       "      <td>1</td>\n",
       "    </tr>\n",
       "    <tr>\n",
       "      <th>2</th>\n",
       "      <td>2400.0</td>\n",
       "      <td>36</td>\n",
       "      <td>15.96</td>\n",
       "      <td>2400.0</td>\n",
       "      <td>3</td>\n",
       "      <td>12252.0</td>\n",
       "      <td>8.72</td>\n",
       "      <td>0.0</td>\n",
       "      <td>10</td>\n",
       "      <td>0.0</td>\n",
       "      <td>0</td>\n",
       "      <td>0</td>\n",
       "      <td>0</td>\n",
       "      <td>0</td>\n",
       "      <td>0</td>\n",
       "      <td>1</td>\n",
       "    </tr>\n",
       "    <tr>\n",
       "      <th>3</th>\n",
       "      <td>10000.0</td>\n",
       "      <td>36</td>\n",
       "      <td>13.49</td>\n",
       "      <td>10000.0</td>\n",
       "      <td>3</td>\n",
       "      <td>49200.0</td>\n",
       "      <td>20.00</td>\n",
       "      <td>0.0</td>\n",
       "      <td>10</td>\n",
       "      <td>0.0</td>\n",
       "      <td>0</td>\n",
       "      <td>0</td>\n",
       "      <td>0</td>\n",
       "      <td>0</td>\n",
       "      <td>0</td>\n",
       "      <td>1</td>\n",
       "    </tr>\n",
       "    <tr>\n",
       "      <th>4</th>\n",
       "      <td>3000.0</td>\n",
       "      <td>60</td>\n",
       "      <td>12.69</td>\n",
       "      <td>3000.0</td>\n",
       "      <td>2</td>\n",
       "      <td>80000.0</td>\n",
       "      <td>17.94</td>\n",
       "      <td>0.0</td>\n",
       "      <td>1</td>\n",
       "      <td>0.0</td>\n",
       "      <td>0</td>\n",
       "      <td>0</td>\n",
       "      <td>0</td>\n",
       "      <td>0</td>\n",
       "      <td>0</td>\n",
       "      <td>1</td>\n",
       "    </tr>\n",
       "  </tbody>\n",
       "</table>\n",
       "</div>"
      ],
      "text/plain": [
       "   loan_amnt  term  int_rate  funded_amnt  grade  annual_inc    dti  \\\n",
       "0     5000.0    36     10.65       5000.0      2     24000.0  27.65   \n",
       "1     2500.0    60     15.27       2500.0      3     30000.0   1.00   \n",
       "2     2400.0    36     15.96       2400.0      3     12252.0   8.72   \n",
       "3    10000.0    36     13.49      10000.0      3     49200.0  20.00   \n",
       "4     3000.0    60     12.69       3000.0      2     80000.0  17.94   \n",
       "\n",
       "   delinq_2yrs  emp_length  tax_liens  defaulted  home_ownership_MORTGAGE  \\\n",
       "0          0.0          10        0.0          0                        0   \n",
       "1          0.0           0        0.0          1                        0   \n",
       "2          0.0          10        0.0          0                        0   \n",
       "3          0.0          10        0.0          0                        0   \n",
       "4          0.0           1        0.0          0                        0   \n",
       "\n",
       "   home_ownership_NONE  home_ownership_OTHER  home_ownership_OWN  \\\n",
       "0                    0                     0                   0   \n",
       "1                    0                     0                   0   \n",
       "2                    0                     0                   0   \n",
       "3                    0                     0                   0   \n",
       "4                    0                     0                   0   \n",
       "\n",
       "   home_ownership_RENT  \n",
       "0                    1  \n",
       "1                    1  \n",
       "2                    1  \n",
       "3                    1  \n",
       "4                    1  "
      ]
     },
     "execution_count": 87,
     "metadata": {},
     "output_type": "execute_result"
    }
   ],
   "source": [
    "cols = data.columns.tolist()\n",
    "cols.remove('home_ownership')\n",
    "\n",
    "data_dummy = pd.get_dummies(data.home_ownership, prefix='home_ownership', prefix_sep='_')\n",
    "data_dummy = data[cols].join(data_dummy)\n",
    "data_dummy.head()"
   ]
  },
  {
   "cell_type": "markdown",
   "metadata": {},
   "source": [
    "### Remove calculated features from the data\n",
    "\n",
    "The interest rate (**int_rate**) and grade (**grade**) are calculcated values in the original dataset if we were using them building the model we would essentially have the original LendingClub model outcomes to influence our model. We would like to build an independent model therefore we are discarding those."
   ]
  },
  {
   "cell_type": "code",
   "execution_count": 88,
   "metadata": {},
   "outputs": [
    {
     "data": {
      "text/html": [
       "<div>\n",
       "<style>\n",
       "    .dataframe thead tr:only-child th {\n",
       "        text-align: right;\n",
       "    }\n",
       "\n",
       "    .dataframe thead th {\n",
       "        text-align: left;\n",
       "    }\n",
       "\n",
       "    .dataframe tbody tr th {\n",
       "        vertical-align: top;\n",
       "    }\n",
       "</style>\n",
       "<table border=\"1\" class=\"dataframe\">\n",
       "  <thead>\n",
       "    <tr style=\"text-align: right;\">\n",
       "      <th></th>\n",
       "      <th>loan_amnt</th>\n",
       "      <th>term</th>\n",
       "      <th>funded_amnt</th>\n",
       "      <th>annual_inc</th>\n",
       "      <th>dti</th>\n",
       "      <th>delinq_2yrs</th>\n",
       "      <th>emp_length</th>\n",
       "      <th>tax_liens</th>\n",
       "      <th>defaulted</th>\n",
       "      <th>home_ownership_MORTGAGE</th>\n",
       "      <th>home_ownership_NONE</th>\n",
       "      <th>home_ownership_OTHER</th>\n",
       "      <th>home_ownership_OWN</th>\n",
       "      <th>home_ownership_RENT</th>\n",
       "    </tr>\n",
       "  </thead>\n",
       "  <tbody>\n",
       "    <tr>\n",
       "      <th>0</th>\n",
       "      <td>5000.0</td>\n",
       "      <td>36</td>\n",
       "      <td>5000.0</td>\n",
       "      <td>24000.0</td>\n",
       "      <td>27.65</td>\n",
       "      <td>0.0</td>\n",
       "      <td>10</td>\n",
       "      <td>0.0</td>\n",
       "      <td>0</td>\n",
       "      <td>0</td>\n",
       "      <td>0</td>\n",
       "      <td>0</td>\n",
       "      <td>0</td>\n",
       "      <td>1</td>\n",
       "    </tr>\n",
       "    <tr>\n",
       "      <th>1</th>\n",
       "      <td>2500.0</td>\n",
       "      <td>60</td>\n",
       "      <td>2500.0</td>\n",
       "      <td>30000.0</td>\n",
       "      <td>1.00</td>\n",
       "      <td>0.0</td>\n",
       "      <td>0</td>\n",
       "      <td>0.0</td>\n",
       "      <td>1</td>\n",
       "      <td>0</td>\n",
       "      <td>0</td>\n",
       "      <td>0</td>\n",
       "      <td>0</td>\n",
       "      <td>1</td>\n",
       "    </tr>\n",
       "    <tr>\n",
       "      <th>2</th>\n",
       "      <td>2400.0</td>\n",
       "      <td>36</td>\n",
       "      <td>2400.0</td>\n",
       "      <td>12252.0</td>\n",
       "      <td>8.72</td>\n",
       "      <td>0.0</td>\n",
       "      <td>10</td>\n",
       "      <td>0.0</td>\n",
       "      <td>0</td>\n",
       "      <td>0</td>\n",
       "      <td>0</td>\n",
       "      <td>0</td>\n",
       "      <td>0</td>\n",
       "      <td>1</td>\n",
       "    </tr>\n",
       "    <tr>\n",
       "      <th>3</th>\n",
       "      <td>10000.0</td>\n",
       "      <td>36</td>\n",
       "      <td>10000.0</td>\n",
       "      <td>49200.0</td>\n",
       "      <td>20.00</td>\n",
       "      <td>0.0</td>\n",
       "      <td>10</td>\n",
       "      <td>0.0</td>\n",
       "      <td>0</td>\n",
       "      <td>0</td>\n",
       "      <td>0</td>\n",
       "      <td>0</td>\n",
       "      <td>0</td>\n",
       "      <td>1</td>\n",
       "    </tr>\n",
       "    <tr>\n",
       "      <th>4</th>\n",
       "      <td>3000.0</td>\n",
       "      <td>60</td>\n",
       "      <td>3000.0</td>\n",
       "      <td>80000.0</td>\n",
       "      <td>17.94</td>\n",
       "      <td>0.0</td>\n",
       "      <td>1</td>\n",
       "      <td>0.0</td>\n",
       "      <td>0</td>\n",
       "      <td>0</td>\n",
       "      <td>0</td>\n",
       "      <td>0</td>\n",
       "      <td>0</td>\n",
       "      <td>1</td>\n",
       "    </tr>\n",
       "  </tbody>\n",
       "</table>\n",
       "</div>"
      ],
      "text/plain": [
       "   loan_amnt  term  funded_amnt  annual_inc    dti  delinq_2yrs  emp_length  \\\n",
       "0     5000.0    36       5000.0     24000.0  27.65          0.0          10   \n",
       "1     2500.0    60       2500.0     30000.0   1.00          0.0           0   \n",
       "2     2400.0    36       2400.0     12252.0   8.72          0.0          10   \n",
       "3    10000.0    36      10000.0     49200.0  20.00          0.0          10   \n",
       "4     3000.0    60       3000.0     80000.0  17.94          0.0           1   \n",
       "\n",
       "   tax_liens  defaulted  home_ownership_MORTGAGE  home_ownership_NONE  \\\n",
       "0        0.0          0                        0                    0   \n",
       "1        0.0          1                        0                    0   \n",
       "2        0.0          0                        0                    0   \n",
       "3        0.0          0                        0                    0   \n",
       "4        0.0          0                        0                    0   \n",
       "\n",
       "   home_ownership_OTHER  home_ownership_OWN  home_ownership_RENT  \n",
       "0                     0                   0                    1  \n",
       "1                     0                   0                    1  \n",
       "2                     0                   0                    1  \n",
       "3                     0                   0                    1  \n",
       "4                     0                   0                    1  "
      ]
     },
     "execution_count": 88,
     "metadata": {},
     "output_type": "execute_result"
    }
   ],
   "source": [
    "data_dummy = data_dummy.drop('int_rate', 1)\n",
    "data_dummy = data_dummy.drop('grade', 1)\n",
    "data_dummy.head()"
   ]
  },
  {
   "cell_type": "code",
   "execution_count": 89,
   "metadata": {
    "scrolled": false
   },
   "outputs": [
    {
     "name": "stdout",
     "output_type": "stream",
     "text": [
      "<class 'pandas.core.frame.DataFrame'>\n",
      "Int64Index: 39747 entries, 0 to 39753\n",
      "Data columns (total 14 columns):\n",
      "loan_amnt                  39747 non-null float64\n",
      "term                       39747 non-null int64\n",
      "funded_amnt                39747 non-null float64\n",
      "annual_inc                 39747 non-null float64\n",
      "dti                        39747 non-null float64\n",
      "delinq_2yrs                39747 non-null float64\n",
      "emp_length                 39747 non-null int64\n",
      "tax_liens                  39747 non-null float64\n",
      "defaulted                  39747 non-null int64\n",
      "home_ownership_MORTGAGE    39747 non-null uint8\n",
      "home_ownership_NONE        39747 non-null uint8\n",
      "home_ownership_OTHER       39747 non-null uint8\n",
      "home_ownership_OWN         39747 non-null uint8\n",
      "home_ownership_RENT        39747 non-null uint8\n",
      "dtypes: float64(6), int64(3), uint8(5)\n",
      "memory usage: 4.5 MB\n"
     ]
    }
   ],
   "source": [
    "data_dummy.info()"
   ]
  },
  {
   "cell_type": "markdown",
   "metadata": {},
   "source": [
    "| Column        | Description          |\n",
    "| ------------- |:-------------|\n",
    "| loan_amt      | The listed amount of the loan applied for by the borrower. If at some point in time, the credit department reduces the loan amount, then it will be reflected in this value. |\n",
    "| term | The number of payments on the loan. Values are in months and can be either 36 or 60.      |\n",
    "| funded_amt | The total amount committed to that loan at that point in time. |\n",
    "| anual inc | The combined self-reported annual income provided by the co-borrowers during registration |\n",
    "| dti | A ratio calculated using the borrower’s total monthly debt payments on the total debt obligations, excluding mortgage and the requested LC loan, divided by the borrower’s self-reported monthly income. |\n",
    "| deliq_2yrs | The number of 30+ days past-due incidences of delinquency in the borrower's credit file for the past 2 years |\n",
    "| emp_length | Employment length in years. Possible values are between 0 and 10 where 0 means less than one year and 10 means ten or more years. |\n",
    "| tax_liens | Number of tax liens (legal claim by a government entity against a noncompliant taxpayer's assets)  |"
   ]
  },
  {
   "cell_type": "markdown",
   "metadata": {},
   "source": [
    "Now all variables are numerical. Some implementations of algorithms like decision trees can natively handle categorical variables but most algorithms and most implementaqtions can not. In case there is no self evident ordering of the categories that would make it straight forward to convert it to integer values, it is best to create dummy binaries. "
   ]
  },
  {
   "cell_type": "markdown",
   "metadata": {},
   "source": [
    "## Train-test split"
   ]
  },
  {
   "cell_type": "code",
   "execution_count": 90,
   "metadata": {
    "collapsed": true
   },
   "outputs": [],
   "source": [
    "from sklearn.model_selection import train_test_split"
   ]
  },
  {
   "cell_type": "markdown",
   "metadata": {},
   "source": [
    "Let's separate the columns for the features and the response variable.\n",
    "We'll store the features in a matrix and the response variable in a vector."
   ]
  },
  {
   "cell_type": "code",
   "execution_count": 91,
   "metadata": {
    "collapsed": true
   },
   "outputs": [],
   "source": [
    "x_cols = data_dummy.columns.tolist()\n",
    "x_cols.remove('defaulted')\n",
    "y_col = 'defaulted'\n",
    "\n",
    "X = data_dummy[x_cols].values\n",
    "y = data_dummy[y_col].values"
   ]
  },
  {
   "cell_type": "code",
   "execution_count": 92,
   "metadata": {},
   "outputs": [
    {
     "name": "stdout",
     "output_type": "stream",
     "text": [
      "Shape of X: (39747, 13)\n",
      "Shape of y: (39747,)\n"
     ]
    }
   ],
   "source": [
    "print('Shape of X: {}'.format(X.shape))\n",
    "print('Shape of y: {}'.format(y.shape))"
   ]
  },
  {
   "cell_type": "code",
   "execution_count": 93,
   "metadata": {},
   "outputs": [
    {
     "name": "stdout",
     "output_type": "stream",
     "text": [
      "Features of row 1: [  5.00000000e+03   3.60000000e+01   5.00000000e+03   2.40000000e+04\n",
      "   2.76500000e+01   0.00000000e+00   1.00000000e+01   0.00000000e+00\n",
      "   0.00000000e+00   0.00000000e+00   0.00000000e+00   0.00000000e+00\n",
      "   1.00000000e+00]\n",
      "Response variable of row 1: 0\n"
     ]
    }
   ],
   "source": [
    "print('Features of row 1: {}'.format(X[0,:]))\n",
    "print('Response variable of row 1: {}'.format(y[0]))"
   ]
  },
  {
   "cell_type": "markdown",
   "metadata": {},
   "source": [
    "Now let's do the train/test split."
   ]
  },
  {
   "cell_type": "code",
   "execution_count": 94,
   "metadata": {
    "collapsed": true
   },
   "outputs": [],
   "source": [
    "X_train, X_test, y_train, y_test = train_test_split(X,y, test_size=0.2)"
   ]
  },
  {
   "cell_type": "code",
   "execution_count": 95,
   "metadata": {},
   "outputs": [
    {
     "name": "stdout",
     "output_type": "stream",
     "text": [
      "Shape of X_train: (31797, 13)\n",
      "Shape of X_test: (7950, 13)\n",
      "Shape of y_train: (31797,)\n",
      "Shape of y_test: (7950,)\n"
     ]
    }
   ],
   "source": [
    "print('Shape of X_train: {}'.format(X_train.shape))\n",
    "print('Shape of X_test: {}'.format(X_test.shape))\n",
    "print('Shape of y_train: {}'.format(y_train.shape))\n",
    "print('Shape of y_test: {}'.format(y_test.shape))"
   ]
  },
  {
   "cell_type": "code",
   "execution_count": 96,
   "metadata": {},
   "outputs": [
    {
     "name": "stdout",
     "output_type": "stream",
     "text": [
      "Features of row 1: [  2.00000000e+04   3.60000000e+01   2.00000000e+04   1.24000000e+05\n",
      "   1.61000000e+00   0.00000000e+00   5.00000000e+00   0.00000000e+00\n",
      "   1.00000000e+00   0.00000000e+00   0.00000000e+00   0.00000000e+00\n",
      "   0.00000000e+00]\n",
      "Response variable of row 1: 1\n"
     ]
    }
   ],
   "source": [
    "print('Features of row 1: {}'.format(X_train[0,:]))\n",
    "print('Response variable of row 1: {}'.format(y_train[0]))"
   ]
  },
  {
   "cell_type": "code",
   "execution_count": 97,
   "metadata": {},
   "outputs": [
    {
     "name": "stdout",
     "output_type": "stream",
     "text": [
      "Features of row 1: [  3.00000000e+04   6.00000000e+01   3.00000000e+04   1.30000000e+05\n",
      "   1.71300000e+01   1.00000000e+00   1.00000000e+01   0.00000000e+00\n",
      "   1.00000000e+00   0.00000000e+00   0.00000000e+00   0.00000000e+00\n",
      "   0.00000000e+00]\n",
      "Response variable of row 1: 0\n"
     ]
    }
   ],
   "source": [
    "print('Features of row 1: {}'.format(X_test[0,:]))\n",
    "print('Response variable of row 1: {}'.format(y_test[0]))"
   ]
  },
  {
   "cell_type": "markdown",
   "metadata": {},
   "source": [
    "## Logistic regression"
   ]
  },
  {
   "cell_type": "markdown",
   "metadata": {},
   "source": [
    "### Logistic Regression (Math)\n",
    "\n",
    "The first model we will try for predicting defaults is Logistic Regression. The model takes a linear combination of the input features and then applying a nonlinearity for generating the decision boundry. More formally:\n",
    "$$ z = w_0 x_0 + w_1 x_1 +  ...  + w_n x_n = \\sum_{i=0}^n w_i x_i = w^T x $$\n",
    "where $x_0$ is always 1 by definition for convenience and the original features are contained by $x_1..x_n$.\n",
    "\n",
    "The higher the value of `z`, the more sure we are that we should predict `1`, the lower the value of `z` the more sure we are that we should predict `0`. Using the sigmoid function on `z` constrains the value of `z` between `(0,1)`:\n",
    "$$ sigmoid(z) = \\frac{1}{1 + e^{-z}}$$\n",
    "\n",
    "![Sigmoid](img\\sigmoid.svg)"
   ]
  },
  {
   "cell_type": "markdown",
   "metadata": {},
   "source": [
    "** Code for plotting ROC curve and Confusion matrix **"
   ]
  },
  {
   "cell_type": "code",
   "execution_count": 98,
   "metadata": {
    "code_folding": [
     0
    ],
    "collapsed": true
   },
   "outputs": [],
   "source": [
    "# Draw ROC curve function\n",
    "\n",
    "import matplotlib.pyplot as plt\n",
    "from sklearn.metrics import roc_curve\n",
    "\n",
    "def draw_roc_curve(actual_values, **predicted_probabilities):\n",
    "    plt.figure(figsize=(6, 6))\n",
    "    plt.plot([0, 1], [0, 1], 'r--', label='Random guessing')\n",
    "    for name, pred in predicted_probabilities.items():\n",
    "        fpr, tpr, thresholds = roc_curve(actual_values, pred)\n",
    "        plt.plot(fpr, tpr, lw=2, label='ROC curve for %s' % name)\n",
    "    plt.xlim([0, 1])\n",
    "    plt.ylim([0, 1])\n",
    "    plt.xlabel('False Positive Rate')\n",
    "    plt.ylabel('True Positive Rate')\n",
    "    plt.title('Receiver operating characteristic example')\n",
    "    plt.legend(loc=\"lower right\")\n",
    "    plt.show()"
   ]
  },
  {
   "cell_type": "code",
   "execution_count": 99,
   "metadata": {
    "code_folding": [],
    "collapsed": true
   },
   "outputs": [],
   "source": [
    "# Draw Confusion Matrix function\n",
    "\n",
    "import itertools\n",
    "import numpy as np\n",
    "from sklearn.metrics import confusion_matrix\n",
    "\n",
    "def plot_confusion_matrix(cm, classes,\n",
    "                          normalize=False,\n",
    "                          title='Confusion matrix',\n",
    "                          cmap=plt.cm.Blues):\n",
    "    \"\"\"\n",
    "    This function prints and plots the confusion matrix.\n",
    "    Normalization can be applied by setting `normalize=True`.\n",
    "    \"\"\"\n",
    "    if normalize:\n",
    "        cm = cm.astype('float') / cm.sum(axis=1)[:, np.newaxis]\n",
    "        print(\"Normalized confusion matrix\")\n",
    "    else:\n",
    "        print('Confusion matrix, without normalization')\n",
    "\n",
    "    print(cm)\n",
    "\n",
    "    plt.imshow(cm, interpolation='nearest', cmap=cmap)\n",
    "    plt.title(title)\n",
    "    plt.colorbar()\n",
    "    tick_marks = np.arange(len(classes))\n",
    "    plt.xticks(tick_marks, classes, rotation=45)\n",
    "    plt.yticks(tick_marks, classes)\n",
    "\n",
    "    fmt = '.2f' if normalize else 'd'\n",
    "    thresh = cm.max() / 2.\n",
    "    for i, j in itertools.product(range(cm.shape[0]), range(cm.shape[1])):\n",
    "        plt.text(j, i, format(cm[i, j], fmt),\n",
    "                 horizontalalignment=\"center\",\n",
    "                 color=\"white\" if cm[i, j] > thresh else \"black\")\n",
    "\n",
    "    plt.tight_layout()\n",
    "    plt.ylabel('True label')\n",
    "    plt.xlabel('Predicted label')\n",
    "    plt.show()"
   ]
  },
  {
   "cell_type": "markdown",
   "metadata": {},
   "source": [
    "### Using Logistic Regression from Scikit-Learn\n",
    "Let's try logistic regression and see how it performs."
   ]
  },
  {
   "cell_type": "code",
   "execution_count": 129,
   "metadata": {},
   "outputs": [],
   "source": [
    "from sklearn import linear_model,svm\n",
    "from sklearn.metrics import accuracy_score, confusion_matrix, roc_auc_score\n",
    "\n",
    "lrmodel0 = linear_model.LogisticRegression(C=1000)\n",
    "lrmodel0 = lrmodel0.fit(X_train, y_train)\n",
    "pred_lr0_train = lrmodel0.predict(X_train)\n",
    "prob_lr0_train = lrmodel0.predict_proba(X_train)[:,1]\n",
    "pred_lr0_test = lrmodel0.predict(X_test)\n",
    "prob_lr0_test = lrmodel0.predict_proba(X_test)[:,1]"
   ]
  },
  {
   "cell_type": "code",
   "execution_count": 101,
   "metadata": {},
   "outputs": [
    {
     "name": "stdout",
     "output_type": "stream",
     "text": [
      "Performance of the first Logistic Regression model:\n",
      "Accuracy (train):  0.856370097808\n",
      "Area Under ROC curve (train): 0.518379903861\n",
      "Accuracy (test):  0.861383647799\n",
      "Area Under ROC curve (test): 0.524554707244\n"
     ]
    }
   ],
   "source": [
    "print(\"Performance of the first Logistic Regression model:\")\n",
    "print(\"Accuracy (train): \", accuracy_score(y_train, pred_lr0_train) )\n",
    "print(\"Area Under ROC curve (train):\", roc_auc_score(y_train, prob_lr0_train) )\n",
    "print(\"Accuracy (test): \", accuracy_score(y_test, pred_lr0_test) )\n",
    "print(\"Area Under ROC curve (test):\", roc_auc_score(y_test, prob_lr0_test) )"
   ]
  },
  {
   "cell_type": "code",
   "execution_count": 102,
   "metadata": {},
   "outputs": [
    {
     "data": {
      "image/png": "[encoded data removed]",
      "text/plain": [
       "<matplotlib.figure.Figure at 0xd4eda20>"
      ]
     },
     "metadata": {},
     "output_type": "display_data"
    }
   ],
   "source": [
    "draw_roc_curve(y_test, regression=prob_lr0_test)"
   ]
  },
  {
   "cell_type": "markdown",
   "metadata": {},
   "source": [
    "### Why the bad performance?\n",
    "\n",
    "**A good 85% accuracy, nice! Or is it ?!**\n",
    "* We are at 85% accuracy, which seems good just by itself.\n",
    "* A random guess based on class frequency (no information gain) would be an AUC of 0.5, which we just bearly beat, meaning not much information gain.\n",
    "\n",
    "It seems we still have a lot to improve..."
   ]
  },
  {
   "cell_type": "markdown",
   "metadata": {},
   "source": [
    "**What is happening?**\n",
    "Let's see a historgram of the predicted class probabilities:"
   ]
  },
  {
   "cell_type": "code",
   "execution_count": 103,
   "metadata": {},
   "outputs": [
    {
     "data": {
      "image/png": "[encoded data removed]",
      "text/plain": [
       "<matplotlib.figure.Figure at 0xd686f98>"
      ]
     },
     "metadata": {},
     "output_type": "display_data"
    }
   ],
   "source": [
    "import matplotlib.pyplot as plt\n",
    "plt.hist(lrmodel0.predict_proba(X_test)[:,1], bins=50)\n",
    "plt.show()"
   ]
  },
  {
   "cell_type": "code",
   "execution_count": 104,
   "metadata": {},
   "outputs": [
    {
     "name": "stdout",
     "output_type": "stream",
     "text": [
      "The maximum default probability predicted for any loan:  0.389060668402\n"
     ]
    }
   ],
   "source": [
    "print('The maximum default probability predicted for any loan: ', max(prob_lr0_test))"
   ]
  },
  {
   "cell_type": "code",
   "execution_count": 105,
   "metadata": {},
   "outputs": [
    {
     "name": "stdout",
     "output_type": "stream",
     "text": [
      "Confusion matrix, without normalization\n",
      "[[6848    0]\n",
      " [1102    0]]\n"
     ]
    },
    {
     "data": {
      "image/png": "[encoded data removed]",
      "text/plain": [
       "<matplotlib.figure.Figure at 0xd79c898>"
      ]
     },
     "metadata": {},
     "output_type": "display_data"
    }
   ],
   "source": [
    "cm = confusion_matrix(y_test, pred_lr0_test)\n",
    "classes = ['Not defaulted', 'Defaulted']\n",
    "plot_confusion_matrix(cm, classes,\n",
    "                          normalize=False,\n",
    "                          title='Confusion matrix',\n",
    "                          cmap=plt.cm.Blues)"
   ]
  },
  {
   "cell_type": "markdown",
   "metadata": {},
   "source": [
    "### Exercise: What do you think is the problem?"
   ]
  },
  {
   "cell_type": "markdown",
   "metadata": {},
   "source": [
    "## Dealing with class imbalance"
   ]
  },
  {
   "cell_type": "markdown",
   "metadata": {},
   "source": [
    "Let us examine how many positive/negative examples we have in the original dataset."
   ]
  },
  {
   "cell_type": "code",
   "execution_count": 106,
   "metadata": {},
   "outputs": [
    {
     "data": {
      "text/plain": [
       "0    34078\n",
       "1     5669\n",
       "Name: defaulted, dtype: int64"
      ]
     },
     "execution_count": 106,
     "metadata": {},
     "output_type": "execute_result"
    }
   ],
   "source": [
    "data_dummy.defaulted.value_counts()"
   ]
  },
  {
   "cell_type": "code",
   "execution_count": 107,
   "metadata": {},
   "outputs": [
    {
     "name": "stdout",
     "output_type": "stream",
     "text": [
      "Ratio of negative examples:  0.857372883488\n"
     ]
    }
   ],
   "source": [
    "print(\"Ratio of negative examples: \", 1-sum(data_dummy.defaulted)/len(data_dummy.defaulted))"
   ]
  },
  {
   "cell_type": "markdown",
   "metadata": {},
   "source": [
    "### Exercise: Think about what is the simplest model that would give ~85% accuracy? Would that be a useful model?"
   ]
  },
  {
   "cell_type": "code",
   "execution_count": null,
   "metadata": {
    "collapsed": true
   },
   "outputs": [],
   "source": []
  },
  {
   "cell_type": "markdown",
   "metadata": {},
   "source": [
    "As we see defaulted loans represent less than 15% of the examples. The class imbalance problem occurs quite often and it provides the challenge that while we are usually interested in predicting the minotiry class (e.g. defaults) thus we have less information for the class in question."
   ]
  },
  {
   "cell_type": "markdown",
   "metadata": {},
   "source": [
    "### Downsampling the training set"
   ]
  },
  {
   "cell_type": "markdown",
   "metadata": {},
   "source": [
    "There are multiple solutions for the class imbalance problem:\n",
    "    * Downsampling: keep a smaller random sample of the majority class.\n",
    "    * Upsampling: Duplicate records of the minority class.\n",
    "    * Advanced methods: modifying the cost function, adding example weights, etc...\n",
    "    \n",
    "For more detail on techniques, I encourage you to check out this blog post: https://www.kdnuggets.com/2017/06/7-techniques-handle-imbalanced-data.html\n",
    "\n",
    "For this lecture we will implement downsampling. "
   ]
  },
  {
   "cell_type": "markdown",
   "metadata": {},
   "source": [
    "Let's theck the shape of our training dataset after the split."
   ]
  },
  {
   "cell_type": "code",
   "execution_count": 108,
   "metadata": {},
   "outputs": [
    {
     "name": "stdout",
     "output_type": "stream",
     "text": [
      "(31797, 13)\n"
     ]
    }
   ],
   "source": [
    "print(X_train.shape)"
   ]
  },
  {
   "cell_type": "markdown",
   "metadata": {},
   "source": [
    "Now let's split the data by the class values."
   ]
  },
  {
   "cell_type": "code",
   "execution_count": 109,
   "metadata": {
    "collapsed": true
   },
   "outputs": [],
   "source": [
    "df_def0 = X_train[y_train==0, :]\n",
    "df_def1 = X_train[y_train==1, :]"
   ]
  },
  {
   "cell_type": "code",
   "execution_count": 110,
   "metadata": {},
   "outputs": [
    {
     "name": "stdout",
     "output_type": "stream",
     "text": [
      "(27230, 13)\n",
      "(4567, 13)\n"
     ]
    }
   ],
   "source": [
    "print(df_def0.shape)\n",
    "print(df_def1.shape)"
   ]
  },
  {
   "cell_type": "markdown",
   "metadata": {},
   "source": [
    "We can use scikit-learn's `resample` function to generate a new sample from an array or a dataframe. As we are downsampling and not upsampling, we will sample without replacement."
   ]
  },
  {
   "cell_type": "code",
   "execution_count": 111,
   "metadata": {
    "collapsed": true
   },
   "outputs": [],
   "source": [
    "from sklearn.utils import resample\n",
    "df_def0_downsample = resample(df_def0, \n",
    "                                 replace=False,\n",
    "                                 n_samples=len(df_def1), # matching the minority class (number of defaulted loans)\n",
    "                                 random_state=1)"
   ]
  },
  {
   "cell_type": "code",
   "execution_count": 112,
   "metadata": {},
   "outputs": [
    {
     "name": "stdout",
     "output_type": "stream",
     "text": [
      "(4567, 13)\n",
      "(4567, 13)\n"
     ]
    }
   ],
   "source": [
    "print(df_def0_downsample.shape)\n",
    "print(df_def1.shape)"
   ]
  },
  {
   "cell_type": "markdown",
   "metadata": {},
   "source": [
    "Now that we have the same number of examples for both the 0 and 1 classes we can combine the records again to one object."
   ]
  },
  {
   "cell_type": "code",
   "execution_count": 113,
   "metadata": {
    "collapsed": true
   },
   "outputs": [],
   "source": [
    "import numpy as np\n",
    "# Combine minority class with downsampled majority class\n",
    "X_train = np.concatenate((df_def0_downsample, df_def1))\n",
    "y_train = np.concatenate((np.zeros(len(df_def0_downsample)), np.ones(len(df_def1))))"
   ]
  },
  {
   "cell_type": "code",
   "execution_count": 114,
   "metadata": {},
   "outputs": [
    {
     "name": "stdout",
     "output_type": "stream",
     "text": [
      "(9134, 13)\n"
     ]
    }
   ],
   "source": [
    "print(X_train.shape)"
   ]
  },
  {
   "cell_type": "code",
   "execution_count": 115,
   "metadata": {},
   "outputs": [
    {
     "name": "stdout",
     "output_type": "stream",
     "text": [
      "(9134,)\n"
     ]
    }
   ],
   "source": [
    "print(y_train.shape)"
   ]
  },
  {
   "cell_type": "markdown",
   "metadata": {},
   "source": [
    "**Something to think about:** \n",
    "\n",
    "Why did we only downsample the training dataset but not the test dataset?\n",
    "We need class balance when training a model but we need the real class ratios for assessing the model's performance."
   ]
  },
  {
   "cell_type": "code",
   "execution_count": 116,
   "metadata": {},
   "outputs": [],
   "source": [
    "from sklearn import linear_model\n",
    "from sklearn.metrics import accuracy_score, confusion_matrix, roc_auc_score\n",
    "\n",
    "lrmodel1 = linear_model.LogisticRegression(C=1000)\n",
    "lrmodel1 = lrmodel1.fit(X_train, y_train)"
   ]
  },
  {
   "cell_type": "code",
   "execution_count": 117,
   "metadata": {
    "collapsed": true
   },
   "outputs": [],
   "source": [
    "pred_lr1_train = lrmodel1.predict(X_train)\n",
    "prob_lr1_train = lrmodel1.predict_proba(X_train)[:,1]\n",
    "pred_lr1_test = lrmodel1.predict(X_test)\n",
    "prob_lr1_test = lrmodel1.predict_proba(X_test)[:,1]"
   ]
  },
  {
   "cell_type": "code",
   "execution_count": 118,
   "metadata": {
    "scrolled": false
   },
   "outputs": [
    {
     "name": "stdout",
     "output_type": "stream",
     "text": [
      "Confusion matrix, without normalization\n",
      "[[3142 3706]\n",
      " [ 338  764]]\n"
     ]
    },
    {
     "data": {
      "image/png": "[encoded data removed]",
      "text/plain": [
       "<matplotlib.figure.Figure at 0xb6882b0>"
      ]
     },
     "metadata": {},
     "output_type": "display_data"
    }
   ],
   "source": [
    "cm = confusion_matrix(y_test, pred_lr1_test)\n",
    "classes = ['Not defaulted', 'Defaulted']\n",
    "plot_confusion_matrix(cm, classes,\n",
    "                          normalize=False,\n",
    "                          title='Confusion matrix',\n",
    "                          cmap=plt.cm.Blues)"
   ]
  },
  {
   "cell_type": "code",
   "execution_count": 119,
   "metadata": {},
   "outputs": [
    {
     "name": "stdout",
     "output_type": "stream",
     "text": [
      "Performance of the Logistic Regression model:\n",
      "Accuracy (train):  0.568973067659\n",
      "Area Under ROC curve (train): 0.614601354938\n",
      "Accuracy (test):  0.491320754717\n",
      "Area Under ROC curve (test): 0.613372219372\n"
     ]
    }
   ],
   "source": [
    "print(\"Performance of the Logistic Regression model:\")\n",
    "print(\"Accuracy (train): \", accuracy_score(y_train, pred_lr1_train) )\n",
    "print(\"Area Under ROC curve (train):\", roc_auc_score(y_train, prob_lr1_train) )\n",
    "print(\"Accuracy (test): \", accuracy_score(y_test, pred_lr1_test) )\n",
    "print(\"Area Under ROC curve (test):\", roc_auc_score(y_test, prob_lr1_test) )"
   ]
  },
  {
   "cell_type": "markdown",
   "metadata": {},
   "source": [
    "** ROC curve comparing the model created before and after class imbalance correction**"
   ]
  },
  {
   "cell_type": "code",
   "execution_count": 120,
   "metadata": {},
   "outputs": [
    {
     "data": {
      "image/png": "[encoded data removed]",
      "text/plain": [
       "<matplotlib.figure.Figure at 0xd4ed278>"
      ]
     },
     "metadata": {},
     "output_type": "display_data"
    }
   ],
   "source": [
    "draw_roc_curve(y_test, regression_0=prob_lr0_test, regression_1=prob_lr1_test)"
   ]
  },
  {
   "cell_type": "markdown",
   "metadata": {},
   "source": [
    "## Decision Tree\n",
    "\n",
    "Use max depth of 4 with min sample leafs 5"
   ]
  },
  {
   "cell_type": "markdown",
   "metadata": {},
   "source": [
    "### Decision Trees (Math)\n",
    "\n",
    "Another popular supervised learning algorithm is the Decision Tree. The idea is to partition the data space by binary splits searching for the best split that distinguishes regions for the class in question. \n",
    "\n",
    "In the search for splits the algorithm optimizes an impurity measure at each step creating another branch on the tree.\n",
    "\n",
    "![DecisionTree](img\\dtree2.png)\n",
    "<center>Image source: https://dzone.com/refcardz/machine-learning-predictive?chapter=10 </center>\n",
    "\n",
    "The most used impurity measures are as follows:\n",
    "* Misclassification error: $1-p_k$\n",
    "* Gini index: $G(S) = \\sum_{k=1}^K p_k (1-p_k)$\n",
    "* Entropy: H(S) = $- \\sum_{k=1}^K p_k log(p_k)$\n",
    "\n",
    "What are decision trees good at?\n",
    "* Large datasets\n",
    "* Numeric and categorical variables (depends on implementation)\n",
    "* Human interpretable"
   ]
  },
  {
   "cell_type": "code",
   "execution_count": 121,
   "metadata": {
    "collapsed": true
   },
   "outputs": [],
   "source": [
    "from sklearn import tree"
   ]
  },
  {
   "cell_type": "code",
   "execution_count": 122,
   "metadata": {},
   "outputs": [
    {
     "data": {
      "text/plain": [
       "DecisionTreeClassifier(class_weight=None, criterion='gini', max_depth=4,\n",
       "            max_features=None, max_leaf_nodes=None,\n",
       "            min_impurity_decrease=0.0, min_impurity_split=None,\n",
       "            min_samples_leaf=5, min_samples_split=2,\n",
       "            min_weight_fraction_leaf=0.0, presort=False, random_state=None,\n",
       "            splitter='best')"
      ]
     },
     "execution_count": 122,
     "metadata": {},
     "output_type": "execute_result"
    }
   ],
   "source": [
    "treemodel = tree.DecisionTreeClassifier(max_depth=4, min_samples_leaf =5)\n",
    "treemodel = treemodel.fit(X_train, y_train)\n",
    "treemodel"
   ]
  },
  {
   "cell_type": "code",
   "execution_count": 123,
   "metadata": {
    "collapsed": true
   },
   "outputs": [],
   "source": [
    "pred_tree_train = treemodel.predict(X_train)\n",
    "prob_tree_train = treemodel.predict_proba(X_train)[:,1]\n",
    "pred_tree_test = treemodel.predict(X_test)\n",
    "prob_tree_test = treemodel.predict_proba(X_test)[:,1]"
   ]
  },
  {
   "cell_type": "code",
   "execution_count": 124,
   "metadata": {},
   "outputs": [
    {
     "name": "stdout",
     "output_type": "stream",
     "text": [
      "Performance of the Decision Tree model:\n",
      "Accuracy (train):  0.599627764397\n",
      "Area Under ROC curve (train): 0.636582212749\n",
      "Accuracy (test):  0.702389937107\n",
      "Area Under ROC curve (test): 0.621223081547\n"
     ]
    }
   ],
   "source": [
    "print(\"Performance of the Decision Tree model:\")\n",
    "print(\"Accuracy (train): \", accuracy_score(y_train, pred_tree_train) )\n",
    "print(\"Area Under ROC curve (train):\", roc_auc_score(y_train, prob_tree_train) )\n",
    "print(\"Accuracy (test): \", accuracy_score(y_test, pred_tree_test) )\n",
    "print(\"Area Under ROC curve (test):\", roc_auc_score(y_test, prob_tree_test) )"
   ]
  },
  {
   "cell_type": "code",
   "execution_count": 125,
   "metadata": {},
   "outputs": [
    {
     "name": "stdout",
     "output_type": "stream",
     "text": [
      "Confusion matrix, without normalization\n",
      "[[5108 1740]\n",
      " [ 626  476]]\n"
     ]
    },
    {
     "data": {
      "image/png": "[encoded data removed]",
      "text/plain": [
       "<matplotlib.figure.Figure at 0xd3da2b0>"
      ]
     },
     "metadata": {},
     "output_type": "display_data"
    }
   ],
   "source": [
    "cm = confusion_matrix(y_test, pred_tree_test)\n",
    "classes = ['Not defaulted', 'Defaulted']\n",
    "plot_confusion_matrix(cm, classes,\n",
    "                          normalize=False,\n",
    "                          title='Confusion matrix',\n",
    "                          cmap=plt.cm.Blues)"
   ]
  },
  {
   "cell_type": "code",
   "execution_count": 126,
   "metadata": {},
   "outputs": [
    {
     "data": {
      "image/png": "[encoded data removed]",
      "text/plain": [
       "<matplotlib.figure.Figure at 0xd2edac8>"
      ]
     },
     "metadata": {},
     "output_type": "display_data"
    }
   ],
   "source": [
    "draw_roc_curve(y_test, regression_0=prob_lr0_test, regression_1=prob_lr1_test, tree=prob_tree_test)"
   ]
  },
  {
   "cell_type": "markdown",
   "metadata": {},
   "source": [
    "### Visualizing and interpreting a Decision Tree\n",
    "The learned internal tree structure of a decision tree can be visualized with a python component called graphviz. Let's examine the structure and see how we can interpret the resulting decision rules. Color coding can help us see the decision and it's confidence."
   ]
  },
  {
   "cell_type": "code",
   "execution_count": 127,
   "metadata": {},
   "outputs": [
    {
     "data": {
      "image/svg+xml": [
       "<?xml version=\"1.0\" encoding=\"UTF-8\" standalone=\"no\"?>\r\n",
       "<!DOCTYPE svg PUBLIC \"-//W3C//DTD SVG 1.1//EN\"\r\n",
       " \"http://www.w3.org/Graphics/SVG/1.1/DTD/svg11.dtd\">\r\n",
       "<!-- Generated by graphviz version 2.38.0 (20140413.2041)\r\n",
       " -->\r\n",
       "<!-- Title: Tree Pages: 1 -->\r\n",
       "<svg width=\"2014pt\" height=\"477pt\"\r\n",
       " viewBox=\"0.00 0.00 2014.00 477.00\" xmlns=\"http://www.w3.org/2000/svg\" xmlns:xlink=\"http://www.w3.org/1999/xlink\">\r\n",
       "<g id=\"graph0\" class=\"graph\" transform=\"scale(1 1) rotate(0) translate(4 473)\">\r\n",
       "<title>Tree</title>\r\n",
       "<polygon fill=\"white\" stroke=\"none\" points=\"-4,4 -4,-473 2010,-473 2010,4 -4,4\"/>\r\n",
       "<!-- 0 -->\r\n",
       "<g id=\"node1\" class=\"node\"><title>0</title>\r\n",
       "<polygon fill=\"none\" stroke=\"black\" points=\"1092.5,-469 961.5,-469 961.5,-401 1092.5,-401 1092.5,-469\"/>\r\n",
       "<text text-anchor=\"middle\" x=\"1027\" y=\"-453.8\" font-family=\"Times New Roman,serif\" font-size=\"14.00\">term &lt;= 48.0</text>\r\n",
       "<text text-anchor=\"middle\" x=\"1027\" y=\"-438.8\" font-family=\"Times New Roman,serif\" font-size=\"14.00\">gini = 0.5</text>\r\n",
       "<text text-anchor=\"middle\" x=\"1027\" y=\"-423.8\" font-family=\"Times New Roman,serif\" font-size=\"14.00\">samples = 9134</text>\r\n",
       "<text text-anchor=\"middle\" x=\"1027\" y=\"-408.8\" font-family=\"Times New Roman,serif\" font-size=\"14.00\">value = [4567, 4567]</text>\r\n",
       "</g>\r\n",
       "<!-- 1 -->\r\n",
       "<g id=\"node2\" class=\"node\"><title>1</title>\r\n",
       "<polygon fill=\"#e58139\" fill-opacity=\"0.247059\" stroke=\"black\" points=\"844,-365 700,-365 700,-297 844,-297 844,-365\"/>\r\n",
       "<text text-anchor=\"middle\" x=\"772\" y=\"-349.8\" font-family=\"Times New Roman,serif\" font-size=\"14.00\">annual_inc &lt;= 54998.0</text>\r\n",
       "<text text-anchor=\"middle\" x=\"772\" y=\"-334.8\" font-family=\"Times New Roman,serif\" font-size=\"14.00\">gini = 0.49</text>\r\n",
       "<text text-anchor=\"middle\" x=\"772\" y=\"-319.8\" font-family=\"Times New Roman,serif\" font-size=\"14.00\">samples = 5997</text>\r\n",
       "<text text-anchor=\"middle\" x=\"772\" y=\"-304.8\" font-family=\"Times New Roman,serif\" font-size=\"14.00\">value = [3420, 2577]</text>\r\n",
       "</g>\r\n",
       "<!-- 0&#45;&gt;1 -->\r\n",
       "<g id=\"edge1\" class=\"edge\"><title>0&#45;&gt;1</title>\r\n",
       "<path fill=\"none\" stroke=\"black\" d=\"M961.331,-407.732C928.554,-394.622 888.583,-378.633 853.829,-364.732\"/>\r\n",
       "<polygon fill=\"black\" stroke=\"black\" points=\"854.76,-361.334 844.175,-360.87 852.16,-367.834 854.76,-361.334\"/>\r\n",
       "<text text-anchor=\"middle\" x=\"854.023\" y=\"-380.149\" font-family=\"Times New Roman,serif\" font-size=\"14.00\">True</text>\r\n",
       "</g>\r\n",
       "<!-- 16 -->\r\n",
       "<g id=\"node17\" class=\"node\"><title>16</title>\r\n",
       "<polygon fill=\"#399de5\" fill-opacity=\"0.423529\" stroke=\"black\" points=\"1363,-365 1219,-365 1219,-297 1363,-297 1363,-365\"/>\r\n",
       "<text text-anchor=\"middle\" x=\"1291\" y=\"-349.8\" font-family=\"Times New Roman,serif\" font-size=\"14.00\">annual_inc &lt;= 82100.0</text>\r\n",
       "<text text-anchor=\"middle\" x=\"1291\" y=\"-334.8\" font-family=\"Times New Roman,serif\" font-size=\"14.00\">gini = 0.464</text>\r\n",
       "<text text-anchor=\"middle\" x=\"1291\" y=\"-319.8\" font-family=\"Times New Roman,serif\" font-size=\"14.00\">samples = 3137</text>\r\n",
       "<text text-anchor=\"middle\" x=\"1291\" y=\"-304.8\" font-family=\"Times New Roman,serif\" font-size=\"14.00\">value = [1147, 1990]</text>\r\n",
       "</g>\r\n",
       "<!-- 0&#45;&gt;16 -->\r\n",
       "<g id=\"edge16\" class=\"edge\"><title>0&#45;&gt;16</title>\r\n",
       "<path fill=\"none\" stroke=\"black\" d=\"M1092.6,-408.655C1127.93,-395.003 1171.85,-378.034 1209.38,-363.535\"/>\r\n",
       "<polygon fill=\"black\" stroke=\"black\" points=\"1210.71,-366.774 1218.77,-359.905 1208.18,-360.245 1210.71,-366.774\"/>\r\n",
       "<text text-anchor=\"middle\" x=\"1208.66\" y=\"-379.066\" font-family=\"Times New Roman,serif\" font-size=\"14.00\">False</text>\r\n",
       "</g>\r\n",
       "<!-- 2 -->\r\n",
       "<g id=\"node3\" class=\"node\"><title>2</title>\r\n",
       "<polygon fill=\"#e58139\" fill-opacity=\"0.054902\" stroke=\"black\" points=\"449,-261 305,-261 305,-193 449,-193 449,-261\"/>\r\n",
       "<text text-anchor=\"middle\" x=\"377\" y=\"-245.8\" font-family=\"Times New Roman,serif\" font-size=\"14.00\">annual_inc &lt;= 14450.0</text>\r\n",
       "<text text-anchor=\"middle\" x=\"377\" y=\"-230.8\" font-family=\"Times New Roman,serif\" font-size=\"14.00\">gini = 0.5</text>\r\n",
       "<text text-anchor=\"middle\" x=\"377\" y=\"-215.8\" font-family=\"Times New Roman,serif\" font-size=\"14.00\">samples = 3039</text>\r\n",
       "<text text-anchor=\"middle\" x=\"377\" y=\"-200.8\" font-family=\"Times New Roman,serif\" font-size=\"14.00\">value = [1561, 1478]</text>\r\n",
       "</g>\r\n",
       "<!-- 1&#45;&gt;2 -->\r\n",
       "<g id=\"edge2\" class=\"edge\"><title>1&#45;&gt;2</title>\r\n",
       "<path fill=\"none\" stroke=\"black\" d=\"M699.551,-311.292C631.588,-293.742 530.064,-267.525 459.124,-249.207\"/>\r\n",
       "<polygon fill=\"black\" stroke=\"black\" points=\"459.881,-245.787 449.323,-246.676 458.131,-252.565 459.881,-245.787\"/>\r\n",
       "</g>\r\n",
       "<!-- 9 -->\r\n",
       "<g id=\"node10\" class=\"node\"><title>9</title>\r\n",
       "<polygon fill=\"#e58139\" fill-opacity=\"0.407843\" stroke=\"black\" points=\"843.5,-261 700.5,-261 700.5,-193 843.5,-193 843.5,-261\"/>\r\n",
       "<text text-anchor=\"middle\" x=\"772\" y=\"-245.8\" font-family=\"Times New Roman,serif\" font-size=\"14.00\">loan_amnt &lt;= 24812.5</text>\r\n",
       "<text text-anchor=\"middle\" x=\"772\" y=\"-230.8\" font-family=\"Times New Roman,serif\" font-size=\"14.00\">gini = 0.467</text>\r\n",
       "<text text-anchor=\"middle\" x=\"772\" y=\"-215.8\" font-family=\"Times New Roman,serif\" font-size=\"14.00\">samples = 2958</text>\r\n",
       "<text text-anchor=\"middle\" x=\"772\" y=\"-200.8\" font-family=\"Times New Roman,serif\" font-size=\"14.00\">value = [1859, 1099]</text>\r\n",
       "</g>\r\n",
       "<!-- 1&#45;&gt;9 -->\r\n",
       "<g id=\"edge9\" class=\"edge\"><title>1&#45;&gt;9</title>\r\n",
       "<path fill=\"none\" stroke=\"black\" d=\"M772,-296.884C772,-288.778 772,-279.982 772,-271.472\"/>\r\n",
       "<polygon fill=\"black\" stroke=\"black\" points=\"775.5,-271.299 772,-261.299 768.5,-271.299 775.5,-271.299\"/>\r\n",
       "</g>\r\n",
       "<!-- 3 -->\r\n",
       "<g id=\"node4\" class=\"node\"><title>3</title>\r\n",
       "<polygon fill=\"#399de5\" fill-opacity=\"0.513725\" stroke=\"black\" points=\"226,-157 122,-157 122,-89 226,-89 226,-157\"/>\r\n",
       "<text text-anchor=\"middle\" x=\"174\" y=\"-141.8\" font-family=\"Times New Roman,serif\" font-size=\"14.00\">dti &lt;= 16.715</text>\r\n",
       "<text text-anchor=\"middle\" x=\"174\" y=\"-126.8\" font-family=\"Times New Roman,serif\" font-size=\"14.00\">gini = 0.44</text>\r\n",
       "<text text-anchor=\"middle\" x=\"174\" y=\"-111.8\" font-family=\"Times New Roman,serif\" font-size=\"14.00\">samples = 95</text>\r\n",
       "<text text-anchor=\"middle\" x=\"174\" y=\"-96.8\" font-family=\"Times New Roman,serif\" font-size=\"14.00\">value = [31, 64]</text>\r\n",
       "</g>\r\n",
       "<!-- 2&#45;&gt;3 -->\r\n",
       "<g id=\"edge3\" class=\"edge\"><title>2&#45;&gt;3</title>\r\n",
       "<path fill=\"none\" stroke=\"black\" d=\"M311.092,-192.884C286.66,-180.607 259.077,-166.748 235.092,-154.697\"/>\r\n",
       "<polygon fill=\"black\" stroke=\"black\" points=\"236.597,-151.536 226.09,-150.173 233.454,-157.791 236.597,-151.536\"/>\r\n",
       "</g>\r\n",
       "<!-- 6 -->\r\n",
       "<g id=\"node7\" class=\"node\"><title>6</title>\r\n",
       "<polygon fill=\"#e58139\" fill-opacity=\"0.074510\" stroke=\"black\" points=\"442.5,-157 311.5,-157 311.5,-89 442.5,-89 442.5,-157\"/>\r\n",
       "<text text-anchor=\"middle\" x=\"377\" y=\"-141.8\" font-family=\"Times New Roman,serif\" font-size=\"14.00\">delinq_2yrs &lt;= 2.5</text>\r\n",
       "<text text-anchor=\"middle\" x=\"377\" y=\"-126.8\" font-family=\"Times New Roman,serif\" font-size=\"14.00\">gini = 0.499</text>\r\n",
       "<text text-anchor=\"middle\" x=\"377\" y=\"-111.8\" font-family=\"Times New Roman,serif\" font-size=\"14.00\">samples = 2944</text>\r\n",
       "<text text-anchor=\"middle\" x=\"377\" y=\"-96.8\" font-family=\"Times New Roman,serif\" font-size=\"14.00\">value = [1530, 1414]</text>\r\n",
       "</g>\r\n",
       "<!-- 2&#45;&gt;6 -->\r\n",
       "<g id=\"edge6\" class=\"edge\"><title>2&#45;&gt;6</title>\r\n",
       "<path fill=\"none\" stroke=\"black\" d=\"M377,-192.884C377,-184.778 377,-175.982 377,-167.472\"/>\r\n",
       "<polygon fill=\"black\" stroke=\"black\" points=\"380.5,-167.299 377,-157.299 373.5,-167.299 380.5,-167.299\"/>\r\n",
       "</g>\r\n",
       "<!-- 4 -->\r\n",
       "<g id=\"node5\" class=\"node\"><title>4</title>\r\n",
       "<polygon fill=\"#399de5\" fill-opacity=\"0.647059\" stroke=\"black\" points=\"104,-53 0,-53 0,-0 104,-0 104,-53\"/>\r\n",
       "<text text-anchor=\"middle\" x=\"52\" y=\"-37.8\" font-family=\"Times New Roman,serif\" font-size=\"14.00\">gini = 0.386</text>\r\n",
       "<text text-anchor=\"middle\" x=\"52\" y=\"-22.8\" font-family=\"Times New Roman,serif\" font-size=\"14.00\">samples = 69</text>\r\n",
       "<text text-anchor=\"middle\" x=\"52\" y=\"-7.8\" font-family=\"Times New Roman,serif\" font-size=\"14.00\">value = [18, 51]</text>\r\n",
       "</g>\r\n",
       "<!-- 3&#45;&gt;4 -->\r\n",
       "<g id=\"edge4\" class=\"edge\"><title>3&#45;&gt;4</title>\r\n",
       "<path fill=\"none\" stroke=\"black\" d=\"M131.33,-88.9485C119.048,-79.4346 105.672,-69.074 93.4639,-59.6175\"/>\r\n",
       "<polygon fill=\"black\" stroke=\"black\" points=\"95.2753,-56.5934 85.2262,-53.2367 90.9887,-62.1274 95.2753,-56.5934\"/>\r\n",
       "</g>\r\n",
       "<!-- 5 -->\r\n",
       "<g id=\"node6\" class=\"node\"><title>5</title>\r\n",
       "<polygon fill=\"none\" stroke=\"black\" points=\"226,-53 122,-53 122,-0 226,-0 226,-53\"/>\r\n",
       "<text text-anchor=\"middle\" x=\"174\" y=\"-37.8\" font-family=\"Times New Roman,serif\" font-size=\"14.00\">gini = 0.5</text>\r\n",
       "<text text-anchor=\"middle\" x=\"174\" y=\"-22.8\" font-family=\"Times New Roman,serif\" font-size=\"14.00\">samples = 26</text>\r\n",
       "<text text-anchor=\"middle\" x=\"174\" y=\"-7.8\" font-family=\"Times New Roman,serif\" font-size=\"14.00\">value = [13, 13]</text>\r\n",
       "</g>\r\n",
       "<!-- 3&#45;&gt;5 -->\r\n",
       "<g id=\"edge5\" class=\"edge\"><title>3&#45;&gt;5</title>\r\n",
       "<path fill=\"none\" stroke=\"black\" d=\"M174,-88.9485C174,-80.7153 174,-71.848 174,-63.4814\"/>\r\n",
       "<polygon fill=\"black\" stroke=\"black\" points=\"177.5,-63.2367 174,-53.2367 170.5,-63.2367 177.5,-63.2367\"/>\r\n",
       "</g>\r\n",
       "<!-- 7 -->\r\n",
       "<g id=\"node8\" class=\"node\"><title>7</title>\r\n",
       "<polygon fill=\"#e58139\" fill-opacity=\"0.086275\" stroke=\"black\" points=\"375.5,-53 244.5,-53 244.5,-0 375.5,-0 375.5,-53\"/>\r\n",
       "<text text-anchor=\"middle\" x=\"310\" y=\"-37.8\" font-family=\"Times New Roman,serif\" font-size=\"14.00\">gini = 0.499</text>\r\n",
       "<text text-anchor=\"middle\" x=\"310\" y=\"-22.8\" font-family=\"Times New Roman,serif\" font-size=\"14.00\">samples = 2922</text>\r\n",
       "<text text-anchor=\"middle\" x=\"310\" y=\"-7.8\" font-family=\"Times New Roman,serif\" font-size=\"14.00\">value = [1526, 1396]</text>\r\n",
       "</g>\r\n",
       "<!-- 6&#45;&gt;7 -->\r\n",
       "<g id=\"edge7\" class=\"edge\"><title>6&#45;&gt;7</title>\r\n",
       "<path fill=\"none\" stroke=\"black\" d=\"M353.567,-88.9485C347.275,-80.0749 340.462,-70.4648 334.133,-61.5388\"/>\r\n",
       "<polygon fill=\"black\" stroke=\"black\" points=\"336.886,-59.3701 328.247,-53.2367 331.176,-63.4188 336.886,-59.3701\"/>\r\n",
       "</g>\r\n",
       "<!-- 8 -->\r\n",
       "<g id=\"node9\" class=\"node\"><title>8</title>\r\n",
       "<polygon fill=\"#399de5\" fill-opacity=\"0.776471\" stroke=\"black\" points=\"492,-53 394,-53 394,-0 492,-0 492,-53\"/>\r\n",
       "<text text-anchor=\"middle\" x=\"443\" y=\"-37.8\" font-family=\"Times New Roman,serif\" font-size=\"14.00\">gini = 0.298</text>\r\n",
       "<text text-anchor=\"middle\" x=\"443\" y=\"-22.8\" font-family=\"Times New Roman,serif\" font-size=\"14.00\">samples = 22</text>\r\n",
       "<text text-anchor=\"middle\" x=\"443\" y=\"-7.8\" font-family=\"Times New Roman,serif\" font-size=\"14.00\">value = [4, 18]</text>\r\n",
       "</g>\r\n",
       "<!-- 6&#45;&gt;8 -->\r\n",
       "<g id=\"edge8\" class=\"edge\"><title>6&#45;&gt;8</title>\r\n",
       "<path fill=\"none\" stroke=\"black\" d=\"M400.084,-88.9485C406.281,-80.0749 412.993,-70.4648 419.227,-61.5388\"/>\r\n",
       "<polygon fill=\"black\" stroke=\"black\" points=\"422.169,-63.4392 425.025,-53.2367 416.43,-59.4311 422.169,-63.4392\"/>\r\n",
       "</g>\r\n",
       "<!-- 10 -->\r\n",
       "<g id=\"node11\" class=\"node\"><title>10</title>\r\n",
       "<polygon fill=\"#e58139\" fill-opacity=\"0.435294\" stroke=\"black\" points=\"764.5,-157 639.5,-157 639.5,-89 764.5,-89 764.5,-157\"/>\r\n",
       "<text text-anchor=\"middle\" x=\"702\" y=\"-141.8\" font-family=\"Times New Roman,serif\" font-size=\"14.00\">dti &lt;= 11.545</text>\r\n",
       "<text text-anchor=\"middle\" x=\"702\" y=\"-126.8\" font-family=\"Times New Roman,serif\" font-size=\"14.00\">gini = 0.462</text>\r\n",
       "<text text-anchor=\"middle\" x=\"702\" y=\"-111.8\" font-family=\"Times New Roman,serif\" font-size=\"14.00\">samples = 2738</text>\r\n",
       "<text text-anchor=\"middle\" x=\"702\" y=\"-96.8\" font-family=\"Times New Roman,serif\" font-size=\"14.00\">value = [1748, 990]</text>\r\n",
       "</g>\r\n",
       "<!-- 9&#45;&gt;10 -->\r\n",
       "<g id=\"edge10\" class=\"edge\"><title>9&#45;&gt;10</title>\r\n",
       "<path fill=\"none\" stroke=\"black\" d=\"M749.273,-192.884C743.343,-184.243 736.876,-174.819 730.681,-165.793\"/>\r\n",
       "<polygon fill=\"black\" stroke=\"black\" points=\"733.397,-163.564 724.853,-157.299 727.625,-167.525 733.397,-163.564\"/>\r\n",
       "</g>\r\n",
       "<!-- 13 -->\r\n",
       "<g id=\"node14\" class=\"node\"><title>13</title>\r\n",
       "<polygon fill=\"#e58139\" fill-opacity=\"0.019608\" stroke=\"black\" points=\"901,-157 783,-157 783,-89 901,-89 901,-157\"/>\r\n",
       "<text text-anchor=\"middle\" x=\"842\" y=\"-141.8\" font-family=\"Times New Roman,serif\" font-size=\"14.00\">dti &lt;= 19.72</text>\r\n",
       "<text text-anchor=\"middle\" x=\"842\" y=\"-126.8\" font-family=\"Times New Roman,serif\" font-size=\"14.00\">gini = 0.5</text>\r\n",
       "<text text-anchor=\"middle\" x=\"842\" y=\"-111.8\" font-family=\"Times New Roman,serif\" font-size=\"14.00\">samples = 220</text>\r\n",
       "<text text-anchor=\"middle\" x=\"842\" y=\"-96.8\" font-family=\"Times New Roman,serif\" font-size=\"14.00\">value = [111, 109]</text>\r\n",
       "</g>\r\n",
       "<!-- 9&#45;&gt;13 -->\r\n",
       "<g id=\"edge13\" class=\"edge\"><title>9&#45;&gt;13</title>\r\n",
       "<path fill=\"none\" stroke=\"black\" d=\"M794.727,-192.884C800.657,-184.243 807.124,-174.819 813.319,-165.793\"/>\r\n",
       "<polygon fill=\"black\" stroke=\"black\" points=\"816.375,-167.525 819.147,-157.299 810.603,-163.564 816.375,-167.525\"/>\r\n",
       "</g>\r\n",
       "<!-- 11 -->\r\n",
       "<g id=\"node12\" class=\"node\"><title>11</title>\r\n",
       "<polygon fill=\"#e58139\" fill-opacity=\"0.525490\" stroke=\"black\" points=\"628,-53 510,-53 510,-0 628,-0 628,-53\"/>\r\n",
       "<text text-anchor=\"middle\" x=\"569\" y=\"-37.8\" font-family=\"Times New Roman,serif\" font-size=\"14.00\">gini = 0.436</text>\r\n",
       "<text text-anchor=\"middle\" x=\"569\" y=\"-22.8\" font-family=\"Times New Roman,serif\" font-size=\"14.00\">samples = 1226</text>\r\n",
       "<text text-anchor=\"middle\" x=\"569\" y=\"-7.8\" font-family=\"Times New Roman,serif\" font-size=\"14.00\">value = [832, 394]</text>\r\n",
       "</g>\r\n",
       "<!-- 10&#45;&gt;11 -->\r\n",
       "<g id=\"edge11\" class=\"edge\"><title>10&#45;&gt;11</title>\r\n",
       "<path fill=\"none\" stroke=\"black\" d=\"M655.483,-88.9485C641.836,-79.2516 626.95,-68.6752 613.436,-59.073\"/>\r\n",
       "<polygon fill=\"black\" stroke=\"black\" points=\"615.401,-56.1757 605.222,-53.2367 611.347,-61.882 615.401,-56.1757\"/>\r\n",
       "</g>\r\n",
       "<!-- 12 -->\r\n",
       "<g id=\"node13\" class=\"node\"><title>12</title>\r\n",
       "<polygon fill=\"#e58139\" fill-opacity=\"0.349020\" stroke=\"black\" points=\"764,-53 646,-53 646,-0 764,-0 764,-53\"/>\r\n",
       "<text text-anchor=\"middle\" x=\"705\" y=\"-37.8\" font-family=\"Times New Roman,serif\" font-size=\"14.00\">gini = 0.478</text>\r\n",
       "<text text-anchor=\"middle\" x=\"705\" y=\"-22.8\" font-family=\"Times New Roman,serif\" font-size=\"14.00\">samples = 1512</text>\r\n",
       "<text text-anchor=\"middle\" x=\"705\" y=\"-7.8\" font-family=\"Times New Roman,serif\" font-size=\"14.00\">value = [916, 596]</text>\r\n",
       "</g>\r\n",
       "<!-- 10&#45;&gt;12 -->\r\n",
       "<g id=\"edge12\" class=\"edge\"><title>10&#45;&gt;12</title>\r\n",
       "<path fill=\"none\" stroke=\"black\" d=\"M703.049,-88.9485C703.311,-80.7153 703.592,-71.848 703.858,-63.4814\"/>\r\n",
       "<polygon fill=\"black\" stroke=\"black\" points=\"707.364,-63.3428 704.183,-53.2367 700.367,-63.1206 707.364,-63.3428\"/>\r\n",
       "</g>\r\n",
       "<!-- 14 -->\r\n",
       "<g id=\"node15\" class=\"node\"><title>14</title>\r\n",
       "<polygon fill=\"#e58139\" fill-opacity=\"0.164706\" stroke=\"black\" points=\"893.5,-53 782.5,-53 782.5,-0 893.5,-0 893.5,-53\"/>\r\n",
       "<text text-anchor=\"middle\" x=\"838\" y=\"-37.8\" font-family=\"Times New Roman,serif\" font-size=\"14.00\">gini = 0.496</text>\r\n",
       "<text text-anchor=\"middle\" x=\"838\" y=\"-22.8\" font-family=\"Times New Roman,serif\" font-size=\"14.00\">samples = 187</text>\r\n",
       "<text text-anchor=\"middle\" x=\"838\" y=\"-7.8\" font-family=\"Times New Roman,serif\" font-size=\"14.00\">value = [102, 85]</text>\r\n",
       "</g>\r\n",
       "<!-- 13&#45;&gt;14 -->\r\n",
       "<g id=\"edge14\" class=\"edge\"><title>13&#45;&gt;14</title>\r\n",
       "<path fill=\"none\" stroke=\"black\" d=\"M840.601,-88.9485C840.252,-80.7153 839.877,-71.848 839.523,-63.4814\"/>\r\n",
       "<polygon fill=\"black\" stroke=\"black\" points=\"843.009,-63.0797 839.089,-53.2367 836.016,-63.3758 843.009,-63.0797\"/>\r\n",
       "</g>\r\n",
       "<!-- 15 -->\r\n",
       "<g id=\"node16\" class=\"node\"><title>15</title>\r\n",
       "<polygon fill=\"#399de5\" fill-opacity=\"0.623529\" stroke=\"black\" points=\"1010,-53 912,-53 912,-0 1010,-0 1010,-53\"/>\r\n",
       "<text text-anchor=\"middle\" x=\"961\" y=\"-37.8\" font-family=\"Times New Roman,serif\" font-size=\"14.00\">gini = 0.397</text>\r\n",
       "<text text-anchor=\"middle\" x=\"961\" y=\"-22.8\" font-family=\"Times New Roman,serif\" font-size=\"14.00\">samples = 33</text>\r\n",
       "<text text-anchor=\"middle\" x=\"961\" y=\"-7.8\" font-family=\"Times New Roman,serif\" font-size=\"14.00\">value = [9, 24]</text>\r\n",
       "</g>\r\n",
       "<!-- 13&#45;&gt;15 -->\r\n",
       "<g id=\"edge15\" class=\"edge\"><title>13&#45;&gt;15</title>\r\n",
       "<path fill=\"none\" stroke=\"black\" d=\"M883.62,-88.9485C895.601,-79.4346 908.648,-69.074 920.556,-59.6175\"/>\r\n",
       "<polygon fill=\"black\" stroke=\"black\" points=\"922.936,-62.1965 928.591,-53.2367 918.583,-56.7147 922.936,-62.1965\"/>\r\n",
       "</g>\r\n",
       "<!-- 17 -->\r\n",
       "<g id=\"node18\" class=\"node\"><title>17</title>\r\n",
       "<polygon fill=\"#399de5\" fill-opacity=\"0.486275\" stroke=\"black\" points=\"1362.5,-261 1219.5,-261 1219.5,-193 1362.5,-193 1362.5,-261\"/>\r\n",
       "<text text-anchor=\"middle\" x=\"1291\" y=\"-245.8\" font-family=\"Times New Roman,serif\" font-size=\"14.00\">loan_amnt &lt;= 32300.0</text>\r\n",
       "<text text-anchor=\"middle\" x=\"1291\" y=\"-230.8\" font-family=\"Times New Roman,serif\" font-size=\"14.00\">gini = 0.448</text>\r\n",
       "<text text-anchor=\"middle\" x=\"1291\" y=\"-215.8\" font-family=\"Times New Roman,serif\" font-size=\"14.00\">samples = 2338</text>\r\n",
       "<text text-anchor=\"middle\" x=\"1291\" y=\"-200.8\" font-family=\"Times New Roman,serif\" font-size=\"14.00\">value = [792, 1546]</text>\r\n",
       "</g>\r\n",
       "<!-- 16&#45;&gt;17 -->\r\n",
       "<g id=\"edge17\" class=\"edge\"><title>16&#45;&gt;17</title>\r\n",
       "<path fill=\"none\" stroke=\"black\" d=\"M1291,-296.884C1291,-288.778 1291,-279.982 1291,-271.472\"/>\r\n",
       "<polygon fill=\"black\" stroke=\"black\" points=\"1294.5,-271.299 1291,-261.299 1287.5,-271.299 1294.5,-271.299\"/>\r\n",
       "</g>\r\n",
       "<!-- 24 -->\r\n",
       "<g id=\"node25\" class=\"node\"><title>24</title>\r\n",
       "<polygon fill=\"#399de5\" fill-opacity=\"0.200000\" stroke=\"black\" points=\"1723,-261 1565,-261 1565,-193 1723,-193 1723,-261\"/>\r\n",
       "<text text-anchor=\"middle\" x=\"1644\" y=\"-245.8\" font-family=\"Times New Roman,serif\" font-size=\"14.00\">funded_amnt &lt;= 29925.0</text>\r\n",
       "<text text-anchor=\"middle\" x=\"1644\" y=\"-230.8\" font-family=\"Times New Roman,serif\" font-size=\"14.00\">gini = 0.494</text>\r\n",
       "<text text-anchor=\"middle\" x=\"1644\" y=\"-215.8\" font-family=\"Times New Roman,serif\" font-size=\"14.00\">samples = 799</text>\r\n",
       "<text text-anchor=\"middle\" x=\"1644\" y=\"-200.8\" font-family=\"Times New Roman,serif\" font-size=\"14.00\">value = [355, 444]</text>\r\n",
       "</g>\r\n",
       "<!-- 16&#45;&gt;24 -->\r\n",
       "<g id=\"edge24\" class=\"edge\"><title>16&#45;&gt;24</title>\r\n",
       "<path fill=\"none\" stroke=\"black\" d=\"M1363.29,-309.113C1418.79,-293.074 1495.72,-270.845 1555.01,-253.713\"/>\r\n",
       "<polygon fill=\"black\" stroke=\"black\" points=\"1556.11,-257.039 1564.74,-250.901 1554.17,-250.315 1556.11,-257.039\"/>\r\n",
       "</g>\r\n",
       "<!-- 18 -->\r\n",
       "<g id=\"node19\" class=\"node\"><title>18</title>\r\n",
       "<polygon fill=\"#399de5\" fill-opacity=\"0.474510\" stroke=\"black\" points=\"1295.5,-157 1144.5,-157 1144.5,-89 1295.5,-89 1295.5,-157\"/>\r\n",
       "<text text-anchor=\"middle\" x=\"1220\" y=\"-141.8\" font-family=\"Times New Roman,serif\" font-size=\"14.00\">annual_inc &lt;= 37338.48</text>\r\n",
       "<text text-anchor=\"middle\" x=\"1220\" y=\"-126.8\" font-family=\"Times New Roman,serif\" font-size=\"14.00\">gini = 0.451</text>\r\n",
       "<text text-anchor=\"middle\" x=\"1220\" y=\"-111.8\" font-family=\"Times New Roman,serif\" font-size=\"14.00\">samples = 2288</text>\r\n",
       "<text text-anchor=\"middle\" x=\"1220\" y=\"-96.8\" font-family=\"Times New Roman,serif\" font-size=\"14.00\">value = [787, 1501]</text>\r\n",
       "</g>\r\n",
       "<!-- 17&#45;&gt;18 -->\r\n",
       "<g id=\"edge18\" class=\"edge\"><title>17&#45;&gt;18</title>\r\n",
       "<path fill=\"none\" stroke=\"black\" d=\"M1267.95,-192.884C1261.87,-184.154 1255.24,-174.625 1248.9,-165.514\"/>\r\n",
       "<polygon fill=\"black\" stroke=\"black\" points=\"1251.76,-163.507 1243.18,-157.299 1246.02,-167.506 1251.76,-163.507\"/>\r\n",
       "</g>\r\n",
       "<!-- 21 -->\r\n",
       "<g id=\"node22\" class=\"node\"><title>21</title>\r\n",
       "<polygon fill=\"#399de5\" fill-opacity=\"0.890196\" stroke=\"black\" points=\"1412,-157 1314,-157 1314,-89 1412,-89 1412,-157\"/>\r\n",
       "<text text-anchor=\"middle\" x=\"1363\" y=\"-141.8\" font-family=\"Times New Roman,serif\" font-size=\"14.00\">dti &lt;= 20.11</text>\r\n",
       "<text text-anchor=\"middle\" x=\"1363\" y=\"-126.8\" font-family=\"Times New Roman,serif\" font-size=\"14.00\">gini = 0.18</text>\r\n",
       "<text text-anchor=\"middle\" x=\"1363\" y=\"-111.8\" font-family=\"Times New Roman,serif\" font-size=\"14.00\">samples = 50</text>\r\n",
       "<text text-anchor=\"middle\" x=\"1363\" y=\"-96.8\" font-family=\"Times New Roman,serif\" font-size=\"14.00\">value = [5, 45]</text>\r\n",
       "</g>\r\n",
       "<!-- 17&#45;&gt;21 -->\r\n",
       "<g id=\"edge21\" class=\"edge\"><title>17&#45;&gt;21</title>\r\n",
       "<path fill=\"none\" stroke=\"black\" d=\"M1314.38,-192.884C1320.54,-184.154 1327.26,-174.625 1333.7,-165.514\"/>\r\n",
       "<polygon fill=\"black\" stroke=\"black\" points=\"1336.59,-167.487 1339.49,-157.299 1330.87,-163.451 1336.59,-167.487\"/>\r\n",
       "</g>\r\n",
       "<!-- 19 -->\r\n",
       "<g id=\"node20\" class=\"node\"><title>19</title>\r\n",
       "<polygon fill=\"#399de5\" fill-opacity=\"0.627451\" stroke=\"black\" points=\"1146,-53 1028,-53 1028,-0 1146,-0 1146,-53\"/>\r\n",
       "<text text-anchor=\"middle\" x=\"1087\" y=\"-37.8\" font-family=\"Times New Roman,serif\" font-size=\"14.00\">gini = 0.396</text>\r\n",
       "<text text-anchor=\"middle\" x=\"1087\" y=\"-22.8\" font-family=\"Times New Roman,serif\" font-size=\"14.00\">samples = 496</text>\r\n",
       "<text text-anchor=\"middle\" x=\"1087\" y=\"-7.8\" font-family=\"Times New Roman,serif\" font-size=\"14.00\">value = [135, 361]</text>\r\n",
       "</g>\r\n",
       "<!-- 18&#45;&gt;19 -->\r\n",
       "<g id=\"edge19\" class=\"edge\"><title>18&#45;&gt;19</title>\r\n",
       "<path fill=\"none\" stroke=\"black\" d=\"M1173.48,-88.9485C1159.84,-79.2516 1144.95,-68.6752 1131.44,-59.073\"/>\r\n",
       "<polygon fill=\"black\" stroke=\"black\" points=\"1133.4,-56.1757 1123.22,-53.2367 1129.35,-61.882 1133.4,-56.1757\"/>\r\n",
       "</g>\r\n",
       "<!-- 20 -->\r\n",
       "<g id=\"node21\" class=\"node\"><title>20</title>\r\n",
       "<polygon fill=\"#399de5\" fill-opacity=\"0.427451\" stroke=\"black\" points=\"1289.5,-53 1164.5,-53 1164.5,-0 1289.5,-0 1289.5,-53\"/>\r\n",
       "<text text-anchor=\"middle\" x=\"1227\" y=\"-37.8\" font-family=\"Times New Roman,serif\" font-size=\"14.00\">gini = 0.463</text>\r\n",
       "<text text-anchor=\"middle\" x=\"1227\" y=\"-22.8\" font-family=\"Times New Roman,serif\" font-size=\"14.00\">samples = 1792</text>\r\n",
       "<text text-anchor=\"middle\" x=\"1227\" y=\"-7.8\" font-family=\"Times New Roman,serif\" font-size=\"14.00\">value = [652, 1140]</text>\r\n",
       "</g>\r\n",
       "<!-- 18&#45;&gt;20 -->\r\n",
       "<g id=\"edge20\" class=\"edge\"><title>18&#45;&gt;20</title>\r\n",
       "<path fill=\"none\" stroke=\"black\" d=\"M1222.45,-88.9485C1223.06,-80.7153 1223.71,-71.848 1224.33,-63.4814\"/>\r\n",
       "<polygon fill=\"black\" stroke=\"black\" points=\"1227.85,-63.468 1225.09,-53.2367 1220.86,-62.9508 1227.85,-63.468\"/>\r\n",
       "</g>\r\n",
       "<!-- 22 -->\r\n",
       "<g id=\"node23\" class=\"node\"><title>22</title>\r\n",
       "<polygon fill=\"#399de5\" fill-opacity=\"0.972549\" stroke=\"black\" points=\"1406,-53 1308,-53 1308,-0 1406,-0 1406,-53\"/>\r\n",
       "<text text-anchor=\"middle\" x=\"1357\" y=\"-37.8\" font-family=\"Times New Roman,serif\" font-size=\"14.00\">gini = 0.054</text>\r\n",
       "<text text-anchor=\"middle\" x=\"1357\" y=\"-22.8\" font-family=\"Times New Roman,serif\" font-size=\"14.00\">samples = 36</text>\r\n",
       "<text text-anchor=\"middle\" x=\"1357\" y=\"-7.8\" font-family=\"Times New Roman,serif\" font-size=\"14.00\">value = [1, 35]</text>\r\n",
       "</g>\r\n",
       "<!-- 21&#45;&gt;22 -->\r\n",
       "<g id=\"edge22\" class=\"edge\"><title>21&#45;&gt;22</title>\r\n",
       "<path fill=\"none\" stroke=\"black\" d=\"M1360.9,-88.9485C1360.38,-80.7153 1359.82,-71.848 1359.28,-63.4814\"/>\r\n",
       "<polygon fill=\"black\" stroke=\"black\" points=\"1362.76,-62.9948 1358.63,-53.2367 1355.77,-63.4384 1362.76,-62.9948\"/>\r\n",
       "</g>\r\n",
       "<!-- 23 -->\r\n",
       "<g id=\"node24\" class=\"node\"><title>23</title>\r\n",
       "<polygon fill=\"#399de5\" fill-opacity=\"0.600000\" stroke=\"black\" points=\"1522,-53 1424,-53 1424,-0 1522,-0 1522,-53\"/>\r\n",
       "<text text-anchor=\"middle\" x=\"1473\" y=\"-37.8\" font-family=\"Times New Roman,serif\" font-size=\"14.00\">gini = 0.408</text>\r\n",
       "<text text-anchor=\"middle\" x=\"1473\" y=\"-22.8\" font-family=\"Times New Roman,serif\" font-size=\"14.00\">samples = 14</text>\r\n",
       "<text text-anchor=\"middle\" x=\"1473\" y=\"-7.8\" font-family=\"Times New Roman,serif\" font-size=\"14.00\">value = [4, 10]</text>\r\n",
       "</g>\r\n",
       "<!-- 21&#45;&gt;23 -->\r\n",
       "<g id=\"edge23\" class=\"edge\"><title>21&#45;&gt;23</title>\r\n",
       "<path fill=\"none\" stroke=\"black\" d=\"M1401.47,-88.9485C1412.44,-79.526 1424.38,-69.2731 1435.3,-59.8906\"/>\r\n",
       "<polygon fill=\"black\" stroke=\"black\" points=\"1437.74,-62.408 1443.04,-53.2367 1433.18,-57.0983 1437.74,-62.408\"/>\r\n",
       "</g>\r\n",
       "<!-- 25 -->\r\n",
       "<g id=\"node26\" class=\"node\"><title>25</title>\r\n",
       "<polygon fill=\"#399de5\" fill-opacity=\"0.117647\" stroke=\"black\" points=\"1723,-157 1565,-157 1565,-89 1723,-89 1723,-157\"/>\r\n",
       "<text text-anchor=\"middle\" x=\"1644\" y=\"-141.8\" font-family=\"Times New Roman,serif\" font-size=\"14.00\">funded_amnt &lt;= 28537.5</text>\r\n",
       "<text text-anchor=\"middle\" x=\"1644\" y=\"-126.8\" font-family=\"Times New Roman,serif\" font-size=\"14.00\">gini = 0.498</text>\r\n",
       "<text text-anchor=\"middle\" x=\"1644\" y=\"-111.8\" font-family=\"Times New Roman,serif\" font-size=\"14.00\">samples = 655</text>\r\n",
       "<text text-anchor=\"middle\" x=\"1644\" y=\"-96.8\" font-family=\"Times New Roman,serif\" font-size=\"14.00\">value = [307, 348]</text>\r\n",
       "</g>\r\n",
       "<!-- 24&#45;&gt;25 -->\r\n",
       "<g id=\"edge25\" class=\"edge\"><title>24&#45;&gt;25</title>\r\n",
       "<path fill=\"none\" stroke=\"black\" d=\"M1644,-192.884C1644,-184.778 1644,-175.982 1644,-167.472\"/>\r\n",
       "<polygon fill=\"black\" stroke=\"black\" points=\"1647.5,-167.299 1644,-157.299 1640.5,-167.299 1647.5,-167.299\"/>\r\n",
       "</g>\r\n",
       "<!-- 28 -->\r\n",
       "<g id=\"node29\" class=\"node\"><title>28</title>\r\n",
       "<polygon fill=\"#399de5\" fill-opacity=\"0.498039\" stroke=\"black\" points=\"1890,-157 1786,-157 1786,-89 1890,-89 1890,-157\"/>\r\n",
       "<text text-anchor=\"middle\" x=\"1838\" y=\"-141.8\" font-family=\"Times New Roman,serif\" font-size=\"14.00\">dti &lt;= 16.735</text>\r\n",
       "<text text-anchor=\"middle\" x=\"1838\" y=\"-126.8\" font-family=\"Times New Roman,serif\" font-size=\"14.00\">gini = 0.444</text>\r\n",
       "<text text-anchor=\"middle\" x=\"1838\" y=\"-111.8\" font-family=\"Times New Roman,serif\" font-size=\"14.00\">samples = 144</text>\r\n",
       "<text text-anchor=\"middle\" x=\"1838\" y=\"-96.8\" font-family=\"Times New Roman,serif\" font-size=\"14.00\">value = [48, 96]</text>\r\n",
       "</g>\r\n",
       "<!-- 24&#45;&gt;28 -->\r\n",
       "<g id=\"edge28\" class=\"edge\"><title>24&#45;&gt;28</title>\r\n",
       "<path fill=\"none\" stroke=\"black\" d=\"M1706.99,-192.884C1729.35,-181.124 1754.48,-167.913 1776.7,-156.229\"/>\r\n",
       "<polygon fill=\"black\" stroke=\"black\" points=\"1778.48,-159.246 1785.71,-151.495 1775.23,-153.05 1778.48,-159.246\"/>\r\n",
       "</g>\r\n",
       "<!-- 26 -->\r\n",
       "<g id=\"node27\" class=\"node\"><title>26</title>\r\n",
       "<polygon fill=\"#399de5\" fill-opacity=\"0.133333\" stroke=\"black\" points=\"1658,-53 1540,-53 1540,-0 1658,-0 1658,-53\"/>\r\n",
       "<text text-anchor=\"middle\" x=\"1599\" y=\"-37.8\" font-family=\"Times New Roman,serif\" font-size=\"14.00\">gini = 0.497</text>\r\n",
       "<text text-anchor=\"middle\" x=\"1599\" y=\"-22.8\" font-family=\"Times New Roman,serif\" font-size=\"14.00\">samples = 650</text>\r\n",
       "<text text-anchor=\"middle\" x=\"1599\" y=\"-7.8\" font-family=\"Times New Roman,serif\" font-size=\"14.00\">value = [302, 348]</text>\r\n",
       "</g>\r\n",
       "<!-- 25&#45;&gt;26 -->\r\n",
       "<g id=\"edge26\" class=\"edge\"><title>25&#45;&gt;26</title>\r\n",
       "<path fill=\"none\" stroke=\"black\" d=\"M1628.26,-88.9485C1624.17,-80.3494 1619.74,-71.0586 1615.6,-62.3689\"/>\r\n",
       "<polygon fill=\"black\" stroke=\"black\" points=\"1618.71,-60.7605 1611.26,-53.2367 1612.39,-63.7701 1618.71,-60.7605\"/>\r\n",
       "</g>\r\n",
       "<!-- 27 -->\r\n",
       "<g id=\"node28\" class=\"node\"><title>27</title>\r\n",
       "<polygon fill=\"#e58139\" stroke=\"black\" points=\"1767.5,-53 1676.5,-53 1676.5,-0 1767.5,-0 1767.5,-53\"/>\r\n",
       "<text text-anchor=\"middle\" x=\"1722\" y=\"-37.8\" font-family=\"Times New Roman,serif\" font-size=\"14.00\">gini = 0.0</text>\r\n",
       "<text text-anchor=\"middle\" x=\"1722\" y=\"-22.8\" font-family=\"Times New Roman,serif\" font-size=\"14.00\">samples = 5</text>\r\n",
       "<text text-anchor=\"middle\" x=\"1722\" y=\"-7.8\" font-family=\"Times New Roman,serif\" font-size=\"14.00\">value = [5, 0]</text>\r\n",
       "</g>\r\n",
       "<!-- 25&#45;&gt;27 -->\r\n",
       "<g id=\"edge27\" class=\"edge\"><title>25&#45;&gt;27</title>\r\n",
       "<path fill=\"none\" stroke=\"black\" d=\"M1671.28,-88.9485C1678.76,-79.892 1686.86,-70.0682 1694.36,-60.9875\"/>\r\n",
       "<polygon fill=\"black\" stroke=\"black\" points=\"1697.09,-63.1769 1700.76,-53.2367 1691.69,-58.721 1697.09,-63.1769\"/>\r\n",
       "</g>\r\n",
       "<!-- 29 -->\r\n",
       "<g id=\"node30\" class=\"node\"><title>29</title>\r\n",
       "<polygon fill=\"#399de5\" fill-opacity=\"0.333333\" stroke=\"black\" points=\"1890,-53 1786,-53 1786,-0 1890,-0 1890,-53\"/>\r\n",
       "<text text-anchor=\"middle\" x=\"1838\" y=\"-37.8\" font-family=\"Times New Roman,serif\" font-size=\"14.00\">gini = 0.48</text>\r\n",
       "<text text-anchor=\"middle\" x=\"1838\" y=\"-22.8\" font-family=\"Times New Roman,serif\" font-size=\"14.00\">samples = 100</text>\r\n",
       "<text text-anchor=\"middle\" x=\"1838\" y=\"-7.8\" font-family=\"Times New Roman,serif\" font-size=\"14.00\">value = [40, 60]</text>\r\n",
       "</g>\r\n",
       "<!-- 28&#45;&gt;29 -->\r\n",
       "<g id=\"edge29\" class=\"edge\"><title>28&#45;&gt;29</title>\r\n",
       "<path fill=\"none\" stroke=\"black\" d=\"M1838,-88.9485C1838,-80.7153 1838,-71.848 1838,-63.4814\"/>\r\n",
       "<polygon fill=\"black\" stroke=\"black\" points=\"1841.5,-63.2367 1838,-53.2367 1834.5,-63.2367 1841.5,-63.2367\"/>\r\n",
       "</g>\r\n",
       "<!-- 30 -->\r\n",
       "<g id=\"node31\" class=\"node\"><title>30</title>\r\n",
       "<polygon fill=\"#399de5\" fill-opacity=\"0.776471\" stroke=\"black\" points=\"2006,-53 1908,-53 1908,-0 2006,-0 2006,-53\"/>\r\n",
       "<text text-anchor=\"middle\" x=\"1957\" y=\"-37.8\" font-family=\"Times New Roman,serif\" font-size=\"14.00\">gini = 0.298</text>\r\n",
       "<text text-anchor=\"middle\" x=\"1957\" y=\"-22.8\" font-family=\"Times New Roman,serif\" font-size=\"14.00\">samples = 44</text>\r\n",
       "<text text-anchor=\"middle\" x=\"1957\" y=\"-7.8\" font-family=\"Times New Roman,serif\" font-size=\"14.00\">value = [8, 36]</text>\r\n",
       "</g>\r\n",
       "<!-- 28&#45;&gt;30 -->\r\n",
       "<g id=\"edge30\" class=\"edge\"><title>28&#45;&gt;30</title>\r\n",
       "<path fill=\"none\" stroke=\"black\" d=\"M1879.62,-88.9485C1891.6,-79.4346 1904.65,-69.074 1916.56,-59.6175\"/>\r\n",
       "<polygon fill=\"black\" stroke=\"black\" points=\"1918.94,-62.1965 1924.59,-53.2367 1914.58,-56.7147 1918.94,-62.1965\"/>\r\n",
       "</g>\r\n",
       "</g>\r\n",
       "</svg>\r\n"
      ],
      "text/plain": [
       "<graphviz.files.Source at 0xd453f60>"
      ]
     },
     "execution_count": 127,
     "metadata": {},
     "output_type": "execute_result"
    }
   ],
   "source": [
    "import graphviz \n",
    "dot_data = tree.export_graphviz(treemodel,\n",
    "                                feature_names=x_cols,\n",
    "                                out_file=None,\n",
    "                                filled=True)\n",
    "graph = graphviz.Source(dot_data) \n",
    "graph"
   ]
  },
  {
   "cell_type": "markdown",
   "metadata": {},
   "source": [
    "### Exercise: Use predicted probabilities with a different threshold\n",
    "\n",
    "* Use the vectors of predicted default probabilities with a different decision cutoff threshold than 0.5 to make prediction. Change the threshold so that we identify more defaulted loans.\n",
    "* What effect would this have of False Positives?\n",
    "* Create a confusion matrix for all three new predictions and see how they changed compared to the first runs.\n",
    "\n",
    "`Hint: use the probabilities in prob_lr0_test, prob_lr1_test, prob_tree_test, create new vectors of the same size with 0/1 values based on the decision threshold you choose.`"
   ]
  },
  {
   "cell_type": "code",
   "execution_count": null,
   "metadata": {
    "collapsed": true
   },
   "outputs": [],
   "source": []
  },
  {
   "cell_type": "markdown",
   "metadata": {},
   "source": [
    "### Exercise: Vary the max depth of the tree from 1 to 10\n",
    "* Create a series of decision trees with max depths from 1 to 10.\n",
    "* For each tree calculate the AUC value for both the train and test set. Store the train AUC values in a vector called `train_auc` and the test AUC values in a vector called `test_auc`.\n",
    "* Plot the two curves and check the results.\n",
    "\n",
    "\n",
    "`Hint: use a for loop where in each iteration you very the max depth`"
   ]
  },
  {
   "cell_type": "code",
   "execution_count": null,
   "metadata": {
    "collapsed": true
   },
   "outputs": [],
   "source": []
  }
 ],
 "metadata": {
  "kernelspec": {
   "display_name": "Python 3",
   "language": "python",
   "name": "python3"
  },
  "language_info": {
   "codemirror_mode": {
    "name": "ipython",
    "version": 3
   },
   "file_extension": ".py",
   "mimetype": "text/x-python",
   "name": "python",
   "nbconvert_exporter": "python",
   "pygments_lexer": "ipython3",
   "version": "3.6.2"
  },
  "toc": {
   "nav_menu": {},
   "number_sections": true,
   "sideBar": true,
   "skip_h1_title": true,
   "title_cell": "Table of Contents",
   "title_sidebar": "Contents",
   "toc_cell": true,
   "toc_position": {
    "height": "1634px",
    "left": "484px",
    "top": "377.5px",
    "width": "322px"
   },
   "toc_section_display": true,
   "toc_window_display": true
  },
  "varInspector": {
   "cols": {
    "lenName": 16,
    "lenType": 16,
    "lenVar": 40
   },
   "kernels_config": {
    "python": {
     "delete_cmd_postfix": "",
     "delete_cmd_prefix": "del ",
     "library": "var_list.py",
     "varRefreshCmd": "print(var_dic_list())"
    },
    "r": {
     "delete_cmd_postfix": ") ",
     "delete_cmd_prefix": "rm(",
     "library": "var_list.r",
     "varRefreshCmd": "cat(var_dic_list()) "
    }
   },
   "types_to_exclude": [
    "module",
    "function",
    "builtin_function_or_method",
    "instance",
    "_Feature"
   ],
   "window_display": false
  }
 },
 "nbformat": 4,
 "nbformat_minor": 2
}
