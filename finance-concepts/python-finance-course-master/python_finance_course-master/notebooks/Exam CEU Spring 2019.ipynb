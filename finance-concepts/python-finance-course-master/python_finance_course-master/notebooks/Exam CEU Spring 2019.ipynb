{
 "cells": [
  {
   "cell_type": "markdown",
   "metadata": {},
   "source": [
    "# Data  with Pandas\n",
    "\n",
    "1. Load the cleaned data. \n",
    "\n",
    "2. Remove the column 'last_pymnt_amnt'.\n",
    "\n",
    "3. Add a column 'yearly_loan_amnt' showing the YEARLY loan amount for each loan. (Hint: think of what 'term' is)\n",
    "\n",
    "4. Add a column 'yearly_interest_payable' showing the amount of interest payable at the end of each year. (Hint: int_rate is the yearly interest rate)\n",
    "\n",
    "5. Add a column 'total_payable' which is the total loan amount plus all the yearly interests the borrower has to pay over the loan term.\n",
    "\n",
    "6. Bonus question: What amount did the borrowers in each grade paid to Lendmark - including interests? (Assume that defaulted loans did not pay anything)."
   ]
  },
  {
   "cell_type": "code",
   "execution_count": 1,
   "metadata": {
    "collapsed": true
   },
   "outputs": [],
   "source": [
    "##\n",
    "# Load data. No changes needed.\n",
    "##\n",
    "import pandas as pd\n",
    "data = pd.read_pickle('Lendmark_clean.pkl')"
   ]
  },
  {
   "cell_type": "markdown",
   "metadata": {},
   "source": [
    "** Your solution below: **"
   ]
  },
  {
   "cell_type": "code",
   "execution_count": null,
   "metadata": {
    "collapsed": true
   },
   "outputs": [],
   "source": []
  },
  {
   "cell_type": "markdown",
   "metadata": {},
   "source": [
    "# Loan default prediction\n",
    "\n",
    "There is a dataset with the following target distribution:\n",
    "* Target value 0: 5% of the cases\n",
    "* Target value 1: 95% of the cases\n",
    "\n",
    "\n",
    "1. Create a confusion matrix by hand for a model that predicts value 0 for every observation.\n",
    "2. What would be the accuracy of the above model?\n",
    "3. Explain the difference between the following performance metrics: Accuracy, Area under ROC curve (AUC)\n",
    "\n",
    "** Your answers below: **"
   ]
  },
  {
   "cell_type": "code",
   "execution_count": null,
   "metadata": {
    "collapsed": true
   },
   "outputs": [],
   "source": []
  },
  {
   "cell_type": "markdown",
   "metadata": {},
   "source": [
    "# Binomial tree\n",
    "\n",
    "Construct a 2-step binomial tree model in which the underlying is an interest rate, $\\ r\\ (t)\\ $. The three layers of the binomial tree are numbered: $\\ i=0\\ $ indicates the initial node, $\\ i=1\\ $ are the two nodes after the first time step, and $\\ i=2\\ $ are the three nodes after the second time step. At $\\ t=0\\ $ the interest rate is $\\ r_{0} = 3\\%\\ $. When we step forward in time, the interest rate can change to either $\\ u=1.25\\ $ times its previous value or $\\ d=0.8\\ $ times its previous value. For both steps the 1-year risk-free rate is $\\ R=3\\%\\ $. At time $\\ 0\\ $ what is the fair value of a zero coupon bond (ZCB) that has a notional of $\\ N=\\$100\\ $ and a maturity of $\\ T=2\\ $ ? In other words, what is the present value of $\\ \\$100\\ $  that we receive after the second step ?\n",
    "\n",
    "## Suggested steps\n",
    "1. Based on $\\ r_{0}\\ $, $\\ u\\ $ and $\\ d\\ $: calculate the interest rate values at all three end points of the tree.\n",
    "2. Based on $\\ r_{0}\\ $, $\\ u\\ $, $\\ d\\ $ and $\\ R\\ $: calculate $\\ p\\ $, the probability of stepping up.\n",
    "3. Place $\\ \\$100\\ $ at each of the three end points.\n",
    "4. The probability of arriving at the three end points (from top to bottom) is $\\ p^{\\ 2}\\ $, $\\ 2\\ p\\ (1-p)\\ $ and $\\ (1-p)^{\\ 2}\\ $.\n",
    "5. Discount values back to the original node."
   ]
  },
  {
   "cell_type": "code",
   "execution_count": null,
   "metadata": {
    "collapsed": true
   },
   "outputs": [],
   "source": [
    "### --- Insert your code at \"WRITE YOUR CODE HERE\" ---\n",
    "\n",
    "# importing libraries\n",
    "import numpy as np\n",
    "\n",
    "# 'BDT' stands for Black-Derman-Toy, the name of the related model\n",
    "def ZCB_BDT_2(r0,R,u,d,N):\n",
    "    # pricing a zero coupon bond (ZCB) with a two-step binomial tree (Black-Derman-Toy model)\n",
    "    \n",
    "    r0 = float(r0) # initial rate\n",
    "    R = float(R) # risk-free rate, for example, 1% is R=0.01\n",
    "    u = float(u) # ratio for stepping up\n",
    "    d = float(d) # ratio for stepping down\n",
    "    N = float(N) # notional\n",
    "    \n",
    "    # --- WRITE YOUR CODE HERE: interest rate values at the two nodes after the first step ---\n",
    "    r_1_top = r0 * u # top node\n",
    "    r_1_bot =        # bottom node\n",
    "    \n",
    "    # --- WRITE YOUR CODE HERE: interest rate values at the three nodes after the second step ---\n",
    "    r_2_top = r0 * u * u # top node\n",
    "    r_2_mid =            # middle node\n",
    "    r_2_bot =            # bottom node\n",
    "    \n",
    "    # --- WRITE YOUR CODE HERE: calculate p ---\n",
    "    p = \n",
    "    \n",
    "    # --- WRITE YOUR CODE HERE: probability of arriving at the two nodes after the first step ---\n",
    "    p_1_top =      # top node\n",
    "    p_1_bot =      # bottom node\n",
    "\n",
    "    # --- WRITE YOUR CODE HERE: probability of arriving at each of the final nodes ---\n",
    "    p_2_top =               # top node\n",
    "    p_2_mid =               # middle node\n",
    "    p_2_bot =               # bottom node\n",
    "    \n",
    "    # --- WRITE YOUR CODE HERE: fair value at each of the three final nodes ---\n",
    "    f_2_top = N             # top node\n",
    "    f_2_mid =               # middle node\n",
    "    f_2_bot =               # bottom node\n",
    "    \n",
    "    # --- WRITE YOUR CODE HERE: from the 3rd layer discount to the 2nd layer ---\n",
    "    f_1_top = ( p * f_2_top + (1-p) * f_2_mid ) / ( 1 + r_1_top )\n",
    "    f_1_bot =\n",
    "\n",
    "    # --- WRITE YOUR CODE HERE: from the 2nd layer discount to the 1st layer ---\n",
    "    f = \n",
    "    \n",
    "    # final value: fair value of the $100 received at time t=2\n",
    "    return f\n",
    "\n",
    "# Print your solution\n",
    "ZCB_BDT_2(0.03,0.03,1.25,0.8,100)"
   ]
  },
  {
   "cell_type": "markdown",
   "metadata": {},
   "source": [
    "# American call option pricing\n",
    "\n",
    "Construct a 2-step binomial tree model for an American call option on a single share of Microsoft stock. Assume that the spot price is $\\ S_{\\ 0}=\\$100\\ $. Both steps correspond to a time length of 1 year. The call option matures after the second time step and the strike price is $\\ K=\\$99\\ $. When we step forward in time along the tree, the price of the underlying can change to either $\\ u=1.05\\ $ times its previous value or $\\ d=1/u\\ $ times its previous value. Assume that the risk-free rate is constant $\\ R=2\\%\\ $.\n",
    "\n",
    "What is the fair value of this option ?\n",
    "\n",
    "## Suggested steps\n",
    "Calculate \n",
    "1. the value of the underlying at each node of the first ($i=1$) layer and the second ($i=2$) layer,\n",
    "2. the parameter $\\ p\\ $ (probability of moving up) of the binomial tree model,\n",
    "3. the value of the call option at each node of the 2nd layer,\n",
    "4. the value of the call option at each node of the 1st layer,\n",
    "5. the value of the call option at the starting node (the node of the 0th layer).\n",
    "\n",
    "Note that the definition of the American call option implies that in this model the option can be excerised not only at the nodes of the 2nd layer (at maturity), but at each node inside the tree. Decide at each node whether to keep the option or to excerise it only by calculating which decision gives a higher value."
   ]
  },
  {
   "cell_type": "code",
   "execution_count": null,
   "metadata": {
    "collapsed": true
   },
   "outputs": [],
   "source": [
    "### --- Insert your code at \"WRITE YOUR CODE HERE\" ---\n",
    "\n",
    "# importing libraries\n",
    "import numpy as np\n",
    "\n",
    "def AmCall(S0,R,u,K):\n",
    "    # pricing an ATM American call option on an underlying stock\n",
    "    \n",
    "    # --- WRITE YOUR CODE HERE: convert all four intput parameters from string to float ---\n",
    "    S0 = float(S0) # initial spot rate\n",
    "    R = float(R)   # risk-free rate, for example, 1% is R=0.01\n",
    "    u = float(u)   # ratio for stepping up\n",
    "    d =            # ratio for stepping down\n",
    "    N = 1.0        # notional\n",
    "    T =            # time length of single step along the tree\n",
    "    K = float(K)   # strike price\n",
    "    \n",
    "    # --- WRITE YOUR CODE HERE: value of the underlying at the two nodes after the first step ---\n",
    "    S_1_top =        # top node\n",
    "    S_1_bot =        # bottom node\n",
    "    \n",
    "    # --- WRITE YOUR CODE HERE: value of the underlying at the three nodes after the second step ---\n",
    "    S_2_top = S0 * u * u # top node\n",
    "    S_2_mid =            # middle node\n",
    "    S_2_bot =            # bottom node\n",
    "    \n",
    "    # --- WRITE YOUR CODE HERE: p (probability of stepping up) ---\n",
    "    p =\n",
    "    \n",
    "    # --- WRITE YOUR CODE HERE: probability of arriving at the two nodes after the first step ---\n",
    "    p_1_top =     # top node\n",
    "    p_1_bot =     # bottom node\n",
    "\n",
    "    # --- WRITE YOUR CODE HERE: probability of arriving at each of the final nodes ---\n",
    "    p_2_top =               # top node\n",
    "    p_2_mid =               # middle node\n",
    "    p_2_bot =               # bottom node\n",
    "    \n",
    "    # --- WRITE YOUR CODE HERE: value of the American call option at the three final nodes in layer i=2 ---\n",
    "    f_2_top = np.maximum( 0.0, S_2_top - K ) # top node\n",
    "    f_2_mid =                                # middle node\n",
    "    f_2_bot =                                # bottom node\n",
    "    \n",
    "    # --- WRITE YOUR CODE HERE: value of the call option: from the i=2 layer calculate the i=1 layer ---\n",
    "    # --- maximum of the following two values: (1) excercising (2) discounted from the i=2 layer ---\n",
    "    f_1_top = np.maximum( S_1_top - K, ( p * f_2_top + (1-p) * f_2_mid ) / ( 1 + R ) )\n",
    "    f_1_bot =\n",
    "\n",
    "    # --- WRITE YOUR CODE HERE: American ATM call option: from the i=1 layer discount to the i=0 layer ---\n",
    "    # --- maximum of these two: (1) immediately excercising the option (2) discounting from the i=1 layer ---\n",
    "    f = \n",
    "    \n",
    "    # final value: fair value of the $100 received at time t=2\n",
    "    return f\n",
    "\n",
    "# Print your solution\n",
    "AmCall(100,0.02,1.05,99)"
   ]
  },
  {
   "cell_type": "markdown",
   "metadata": {},
   "source": [
    "# Monte Carlo"
   ]
  },
  {
   "cell_type": "markdown",
   "metadata": {},
   "source": [
    "## 1.\n",
    "When pricing an option, how can we decide whether to use the Black-Scholes formula, or a Monte-Carlo simulation? (Please answer with text.)"
   ]
  },
  {
   "cell_type": "markdown",
   "metadata": {},
   "source": []
  },
  {
   "cell_type": "markdown",
   "metadata": {},
   "source": [
    "## 2.\n",
    "\n",
    "Consider the EUR/HUF currency pair, assume its process is driven by the following stochastic differential equation:\n",
    "$$S(t+\\Delta t) - S(t) = \\mu S(t) \\Delta t + \\sigma S(t) \\epsilon \\sqrt{\\Delta t} ,$$\n",
    "where $\\epsilon$ is a random sample from a standard normal distribution. Assume that:\n",
    "- $S(0) = 320$;\n",
    "- $\\mu = 0.02$;\n",
    "- $\\sigma = 0.05$.\n",
    "\n",
    "a) Use Monte Carlo simulation to estimate the probability of the Euro price being cheaper than 310 HUF anytime in the following year (52 weeks).\n",
    "\n",
    "I.e. $P(S(t) < 310, 0 < t \\leq T) = ?$ if $T=1$.\n",
    "\n",
    "b) What is the 95% confidence interval of this estimation?"
   ]
  },
  {
   "cell_type": "code",
   "execution_count": null,
   "metadata": {
    "collapsed": true
   },
   "outputs": [],
   "source": []
  },
  {
   "cell_type": "code",
   "execution_count": null,
   "metadata": {
    "collapsed": true
   },
   "outputs": [],
   "source": []
  },
  {
   "cell_type": "code",
   "execution_count": null,
   "metadata": {
    "collapsed": true
   },
   "outputs": [],
   "source": []
  },
  {
   "cell_type": "markdown",
   "metadata": {},
   "source": [
    "# Trade compression\n",
    "\n",
    "## 1.\n",
    "\n",
    "When doing trade compression with linear programming, why is it better to minimize the notional instead of the number of trades? (Please answer with text.)"
   ]
  },
  {
   "cell_type": "markdown",
   "metadata": {},
   "source": []
  },
  {
   "cell_type": "markdown",
   "metadata": {},
   "source": [
    "## 2.\n",
    "\n",
    "Imagine you are the manager of a Scandinavian furniture factory, where the furnitures are delivered as a package of standardized parts and pieces. Let's consider you can make the followings from your inventory:\n",
    "\n",
    "* TV stand: 2 screws and 5 furniture panels are needed, \\$40 profit per piece\n",
    "* Coffee table: 6 screws and 4 furniture panels are needed, \\$55 profit per piece\n",
    "\n",
    "The current inventory consists of 150 screws and 155 furniture panels.\n",
    "\n",
    "How many TV stands and coffee tables should you package to maximize profits?"
   ]
  },
  {
   "cell_type": "code",
   "execution_count": null,
   "metadata": {
    "collapsed": true
   },
   "outputs": [],
   "source": []
  }
 ],
 "metadata": {
  "kernelspec": {
   "display_name": "Python 3",
   "language": "python",
   "name": "python3"
  },
  "language_info": {
   "codemirror_mode": {
    "name": "ipython",
    "version": 3
   },
   "file_extension": ".py",
   "mimetype": "text/x-python",
   "name": "python",
   "nbconvert_exporter": "python",
   "pygments_lexer": "ipython3",
   "version": "3.6.2"
  },
  "toc": {
   "nav_menu": {},
   "number_sections": true,
   "sideBar": true,
   "skip_h1_title": false,
   "title_cell": "Table of Contents",
   "title_sidebar": "Contents",
   "toc_cell": false,
   "toc_position": {},
   "toc_section_display": true,
   "toc_window_display": false
  }
 },
 "nbformat": 4,
 "nbformat_minor": 2
}
