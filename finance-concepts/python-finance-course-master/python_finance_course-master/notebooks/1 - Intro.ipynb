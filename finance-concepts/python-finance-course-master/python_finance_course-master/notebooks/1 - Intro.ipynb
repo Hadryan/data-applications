{
 "cells": [
  {
   "cell_type": "markdown",
   "metadata": {},
   "source": [
    "![Image of Citi](img\\Citi-logo-small.png)"
   ]
  },
  {
   "cell_type": "markdown",
   "metadata": {},
   "source": [
    "# About Citi\n",
    "\n",
    "Citi is one of the world's biggest financial service providers. The firm spans across multiple segments of the finacial industry from institutional banking to retail wealth management and many more. The organisation is huge. It has over 200.000 employees in 160 countries.\n",
    "\n",
    "# About us\n",
    "\n",
    "### Markets Quantitative Analysis (MQA)\n",
    "\n",
    "MQA is part of the Insitutional Clients Group (ICG) within Citi. Our main focus is to provide quantitative support for ICG Markets. MQA is present (by descending order of size) in New York, London, Budapest and other offices (Houston, Tokyo, Singapore, Hong Kong). In Budapest our team has currently 30+ collegues sitting at Bank Center (two blocks from here). As MQA's remit spans multiple disciplines, we have team members with diverse backgrounds: Quants with Math and Physics degrees, Quantitative Developers and Quant Support with many types of IT background. MQA provides solutions to deal with the complex tasks around analysing OTC traded and market traded financial products. The main asset classes we work with are Rates, FX, Commodities, Equities, Mortgages and Multi asset products. We work in multiple programming languages and apply several tools. We are heavy users of C++, Python and Excel. Other coding languages we use frequently include Matlab, R and Perl.\n",
    "\n",
    "### Trading\n",
    "\n",
    "Citi has both Sales and Trading desk in Budapest’s dealing room. Trading is responsible for market making of HUF denominated government securities and its short and long term derivatives. They are one of the main primary dealers of local currency denominated government securities. Sales covers Citi’s local and international corporate clients and financial institutions offers full range of currency, interest rate or commodity related products and complex risk management solutions to them.\n",
    "\n",
    "# Contact us\n",
    "\n",
    "You can reach us at  &nbsp;&nbsp; __mqahu.ceucourse@citi.com__\n",
    "\n",
    "# About you\n",
    "\n",
    "We will start the first class by asking you about your past courses, your experience, and your current interests."
   ]
  },
  {
   "cell_type": "markdown",
   "metadata": {},
   "source": [
    "# Course syllabus\n",
    "\n",
    "Classes are always from 17:30 to 19:10. Usually on Fridays, otherwise marked.\n",
    "\n",
    "| Date | Title | Lecturer<br/>(Assistant) | Description |\n",
    "|:-----|:------|:---------------------|:------------|\n",
    "| Jan 11 Fri | [Introduction](1 - Intro.ipynb) | Marton S (All) | Investment banks. Citi. MQA. Students. Python tools. Jupyter notebooks. |\n",
    "| Jan 18 Fri | [Data cleaning](2 - Exploring, cleaning and preparing tabular data for analysis.ipynb) | Marton K (Illes) | Data cleaning. Regression tests. |\n",
    "| Jan 24 <span style=\"background:#b2ffff\">Thu</span> |  [Loan default prediction](3 - Loan default prediction.ipynb) | Marton S (Tibor) | Prediction of Loan Default based on historical performance data using Scikit-learn. |\n",
    "| Feb 01 Fri | [Products and Greeks](4 - Products and Greeks.ipynb) | Illes (Marton S) | Risk-neutral pricing. Derivative products. Greeks and hedging. |\n",
    "| Feb 07 <span style=\"background:#b2ffff\">Thu</span> | [Binomial tree](5 - Call_Binom.ipynb) | Illes (Marton K) | Risk-neutral pricing of European call option with binomial tree. Normalized n-step binomial tree. |\n",
    "| Feb 22 Fri | [Black-Scholes](6 - Black-Scholes.ipynb) | Illes (Marton S) | Wiener process. Itô process. Black-Scholes-Merton option pricing. |\n",
    "| Mar 01 Fri | [Monte Carlo](7 - Monte-Carlo simulations.ipynb) | Robi S (Tibor) | Comparison to analytic solution. Path dependence. Variance reduction to speed up convergence. |\n",
    "| Mar 13 <span style=\"background:#b2ffff\">Wed</span> | [FX Game](8 - FX Game.ipynb) | Robi K | Students play a trading game in teams of 3. Discussion of strategies and results. |\n",
    "| Mar 29 Fri | [Advanced topic](9 - Trade Compression.ipynb) | Robert S (Tibor) | Trade compression and its motivations. Unilateral case as a linear programming problem. |\n",
    "| Apr 05 Fri | Final Exam | All | Final exam. |\n"
   ]
  },
  {
   "cell_type": "markdown",
   "metadata": {},
   "source": [
    "# Learning Python\n",
    "\n",
    "This course requires some python skills to follow. We do not inted to teach how to write python code but we will obviously explain the more elaborate constructs. The following links can help you get up to speed in python:\n",
    "\n",
    "* If Python will be your first coding language: https://www.learningpython.org\n",
    "* If you have coded before: https://www.hackerrank.com/domains/python"
   ]
  },
  {
   "cell_type": "markdown",
   "metadata": {},
   "source": [
    "# Jupyter Notebook\n",
    "\n",
    "__Please note: Throughout the course we will be using Python version 3__\n",
    "\n",
    "Jupyter notebooks are built from \"cells\". Each cell has its content saved separately in the notebook file (extension: .ipynb).\n",
    "A cell can contain text (type: Markdown) or python code (type: Code). You can change the type of a cell and add new cells in the menu. Jupyter notebooks can run a python process on your computer. Each browser tab is associated with a new python process. The code cells form the code that is executed in the python process. A cell can be executed by typing ```python``` followed by pressing ```CTRL-ENTER``` (the keys CTRL and ENTER at the same time). This sends the corresponding piece of code to the kernel. The kernel executes it and returns any result printed to the browser. The browser then prints the result below the cell and jumps to the next cell. A diagram of this process:\n",
    "\n",
    "![title](img/notebook_components.png)\n",
    "\n",
    "Note that each browser tab has an associated python process (called kernel). The order of the cells gives you an idea of the particular course material, BUT it does not tell the process in what order it's going to be executed. This is determined by you running the cells. To warm up with the iPython notebook, you may want to try executing the two code cells below (move into the cell and press CTRL-ENTER).\n",
    "\n",
    "__Basic iPython notebook commands__\n",
    "\n",
    "<tt>\n",
    "CTRL-M L    Show / Hide line numbers in a notebook cell<br/>\n",
    "CTRL-M J    Move to next cell<br/>\n",
    "CTRL-ENTER  Execute contents of a cell. Stay in the same cell.<br/>\n",
    "SHIFT-ENTER Execute contents of a cell. Move to next cell.</tt>\n",
    "\n",
    "__Execute the following two cells several times in different order__"
   ]
  },
  {
   "cell_type": "code",
   "execution_count": 1,
   "metadata": {},
   "outputs": [
    {
     "name": "stdout",
     "output_type": "stream",
     "text": [
      "1\n"
     ]
    }
   ],
   "source": [
    "a = 1\n",
    "print(a)"
   ]
  },
  {
   "cell_type": "code",
   "execution_count": 2,
   "metadata": {},
   "outputs": [
    {
     "name": "stdout",
     "output_type": "stream",
     "text": [
      "2\n"
     ]
    }
   ],
   "source": [
    "a = a + 1\n",
    "print(a)"
   ]
  },
  {
   "cell_type": "markdown",
   "metadata": {},
   "source": [
    "# Recreating the jupyter environment on your computer\n",
    "\n",
    "You can clone or download the repository containing the course material from https://github.com/siaen/python_finance_course. To recreate the environment follow the \"Install\" and \"Enable codefolding\" sections of the README.txt file. To start a jupyter notebook follow the \"Use\" section."
   ]
  },
  {
   "cell_type": "markdown",
   "metadata": {},
   "source": [
    "# Python packages\n",
    "\n",
    "Python is a relatively easy programing language to learn. The aim of this course is NOT to teach python as a programming language but to give you an idea of how it can be applied to calculate financial problems. Although we will implement certain algorythms by hand we will always refer to the industry standard python packages that are packed with useful functionalities.\n",
    "\n",
    "**Python packages** are prepared python code ready to use for more complex functionalities. The following list of python packages will be used during the course:\n",
    "\n",
    "* Numpy: http://www.numpy.org/ -- powerful linear algebra library optimised for performance\n",
    "* Scipy: https://www.scipy.org/scipylib/index.html -- a great collection of numerical functions\n",
    "* Pandas: https://pandas.pydata.org/ -- the de-facto standard tools for data structures and data analysis\n",
    "* Matplotlib: https://matplotlib.org/ -- the 2d plotting library to visualize our results\n",
    "* Plotly: https://plot.ly/ -- more visualisation tools for some more advanced diagrams"
   ]
  }
 ],
 "metadata": {
  "kernelspec": {
   "display_name": "Python 3",
   "language": "python",
   "name": "python3"
  },
  "language_info": {
   "codemirror_mode": {
    "name": "ipython",
    "version": 3
   },
   "file_extension": ".py",
   "mimetype": "text/x-python",
   "name": "python",
   "nbconvert_exporter": "python",
   "pygments_lexer": "ipython3",
   "version": "3.6.2"
  },
  "toc": {
   "nav_menu": {},
   "number_sections": true,
   "sideBar": true,
   "skip_h1_title": false,
   "title_cell": "Table of Contents",
   "title_sidebar": "Contents",
   "toc_cell": false,
   "toc_position": {},
   "toc_section_display": true,
   "toc_window_display": false
  }
 },
 "nbformat": 4,
 "nbformat_minor": 2
}
