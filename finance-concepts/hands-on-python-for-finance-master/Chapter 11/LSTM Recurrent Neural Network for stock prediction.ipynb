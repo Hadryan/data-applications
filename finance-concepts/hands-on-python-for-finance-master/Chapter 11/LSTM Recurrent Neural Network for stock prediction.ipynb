{
 "cells": [
  {
   "cell_type": "markdown",
   "metadata": {},
   "source": [
    "## Long Short-Term Memory Networks"
   ]
  },
  {
   "cell_type": "markdown",
   "metadata": {},
   "source": [
    "LSTM is a tweaked version of RNN, which can selectively forget or remember information(longer period of time).\n",
    "When LSTM needs to add information, it makes small modifications rather than transforming the whole information unlike RNN.\n",
    "In LSTM, information flows through a mechanism called cell states.\n",
    "\n",
    " The stock price of today will depend upon:\n",
    "\n",
    "1. The trend that the stock has been following in the previous days, maybe a downtrend or an uptrend.\n",
    "2. The price of the stock on the previous day, because many traders compare the stock’s previous day price before buying it.\n",
    "3. The factors that can affect the price of the stock for today.\n",
    "\n",
    "Generalizing the above factors in LSTM terms, \n",
    "1. The previous cell state (i.e. the information that was present in the memory after the previous time step).\n",
    "2. The previous hidden state (i.e. this is the same as the output of the previous cell).\n",
    "3. The input at the current time step (i.e. the new information that is being fed in at that moment).\n",
    "\n",
    "\n",
    "A typical LSTM network is comprised of different memory blocks called cells.  There are two states that are being transferred to the next cell.\n",
    "- the cell state\n",
    "- the hidden state. \n",
    "\n",
    "The memory blocks are responsible for remembering things and manipulations to this memory is done through three major mechanisms, called gates.There are 3 gates:\n",
    "\n",
    "#### 1) Forget gate\n",
    "       A forget gate is responsible for removing information from the cell state. The information that is no longer required for the LSTM to understand things or the information that is of less importance is removed.\n",
    "       \n",
    "#### 2) Input gate\n",
    "     The input gate is responsible for the addition of information to the cell state.\n",
    "     \n",
    "#### 3) Output gate\n",
    "      The job of selecting useful information from the current cell state and showing it out as an output is done via the output gate. "
   ]
  },
  {
   "cell_type": "code",
   "execution_count": 21,
   "metadata": {},
   "outputs": [],
   "source": [
    "# Recurrent Neural Network\n",
    "\n",
    "# Part 1 - Data Preprocessing\n",
    "\n",
    "# Importing the libraries\n",
    "import numpy as np\n",
    "import matplotlib.pyplot as plt\n",
    "import pandas as pd"
   ]
  },
  {
   "cell_type": "code",
   "execution_count": 22,
   "metadata": {},
   "outputs": [],
   "source": [
    "# Importing the training set\n",
    "dataset_train = pd.read_csv('Google_Stock_Price_Train.csv')"
   ]
  },
  {
   "cell_type": "code",
   "execution_count": 23,
   "metadata": {},
   "outputs": [
    {
     "data": {
      "text/html": [
       "<div>\n",
       "<style scoped>\n",
       "    .dataframe tbody tr th:only-of-type {\n",
       "        vertical-align: middle;\n",
       "    }\n",
       "\n",
       "    .dataframe tbody tr th {\n",
       "        vertical-align: top;\n",
       "    }\n",
       "\n",
       "    .dataframe thead th {\n",
       "        text-align: right;\n",
       "    }\n",
       "</style>\n",
       "<table border=\"1\" class=\"dataframe\">\n",
       "  <thead>\n",
       "    <tr style=\"text-align: right;\">\n",
       "      <th></th>\n",
       "      <th>Date</th>\n",
       "      <th>Open</th>\n",
       "      <th>High</th>\n",
       "      <th>Low</th>\n",
       "      <th>Close</th>\n",
       "      <th>Volume</th>\n",
       "    </tr>\n",
       "  </thead>\n",
       "  <tbody>\n",
       "    <tr>\n",
       "      <th>0</th>\n",
       "      <td>1/3/2012</td>\n",
       "      <td>325.25</td>\n",
       "      <td>332.83</td>\n",
       "      <td>324.97</td>\n",
       "      <td>663.59</td>\n",
       "      <td>7,380,500</td>\n",
       "    </tr>\n",
       "    <tr>\n",
       "      <th>1</th>\n",
       "      <td>1/4/2012</td>\n",
       "      <td>331.27</td>\n",
       "      <td>333.87</td>\n",
       "      <td>329.08</td>\n",
       "      <td>666.45</td>\n",
       "      <td>5,749,400</td>\n",
       "    </tr>\n",
       "    <tr>\n",
       "      <th>2</th>\n",
       "      <td>1/5/2012</td>\n",
       "      <td>329.83</td>\n",
       "      <td>330.75</td>\n",
       "      <td>326.89</td>\n",
       "      <td>657.21</td>\n",
       "      <td>6,590,300</td>\n",
       "    </tr>\n",
       "    <tr>\n",
       "      <th>3</th>\n",
       "      <td>1/6/2012</td>\n",
       "      <td>328.34</td>\n",
       "      <td>328.77</td>\n",
       "      <td>323.68</td>\n",
       "      <td>648.24</td>\n",
       "      <td>5,405,900</td>\n",
       "    </tr>\n",
       "    <tr>\n",
       "      <th>4</th>\n",
       "      <td>1/9/2012</td>\n",
       "      <td>322.04</td>\n",
       "      <td>322.29</td>\n",
       "      <td>309.46</td>\n",
       "      <td>620.76</td>\n",
       "      <td>11,688,800</td>\n",
       "    </tr>\n",
       "  </tbody>\n",
       "</table>\n",
       "</div>"
      ],
      "text/plain": [
       "       Date    Open    High     Low   Close      Volume\n",
       "0  1/3/2012  325.25  332.83  324.97  663.59   7,380,500\n",
       "1  1/4/2012  331.27  333.87  329.08  666.45   5,749,400\n",
       "2  1/5/2012  329.83  330.75  326.89  657.21   6,590,300\n",
       "3  1/6/2012  328.34  328.77  323.68  648.24   5,405,900\n",
       "4  1/9/2012  322.04  322.29  309.46  620.76  11,688,800"
      ]
     },
     "execution_count": 23,
     "metadata": {},
     "output_type": "execute_result"
    }
   ],
   "source": [
    "# Check the first 5 records\n",
    "dataset_train.head()"
   ]
  },
  {
   "cell_type": "code",
   "execution_count": 24,
   "metadata": {},
   "outputs": [
    {
     "data": {
      "text/html": [
       "<div>\n",
       "<style scoped>\n",
       "    .dataframe tbody tr th:only-of-type {\n",
       "        vertical-align: middle;\n",
       "    }\n",
       "\n",
       "    .dataframe tbody tr th {\n",
       "        vertical-align: top;\n",
       "    }\n",
       "\n",
       "    .dataframe thead th {\n",
       "        text-align: right;\n",
       "    }\n",
       "</style>\n",
       "<table border=\"1\" class=\"dataframe\">\n",
       "  <thead>\n",
       "    <tr style=\"text-align: right;\">\n",
       "      <th></th>\n",
       "      <th>Date</th>\n",
       "      <th>Open</th>\n",
       "      <th>High</th>\n",
       "      <th>Low</th>\n",
       "      <th>Close</th>\n",
       "      <th>Volume</th>\n",
       "    </tr>\n",
       "  </thead>\n",
       "  <tbody>\n",
       "    <tr>\n",
       "      <th>1253</th>\n",
       "      <td>12/23/2016</td>\n",
       "      <td>790.90</td>\n",
       "      <td>792.74</td>\n",
       "      <td>787.28</td>\n",
       "      <td>789.91</td>\n",
       "      <td>623,400</td>\n",
       "    </tr>\n",
       "    <tr>\n",
       "      <th>1254</th>\n",
       "      <td>12/27/2016</td>\n",
       "      <td>790.68</td>\n",
       "      <td>797.86</td>\n",
       "      <td>787.66</td>\n",
       "      <td>791.55</td>\n",
       "      <td>789,100</td>\n",
       "    </tr>\n",
       "    <tr>\n",
       "      <th>1255</th>\n",
       "      <td>12/28/2016</td>\n",
       "      <td>793.70</td>\n",
       "      <td>794.23</td>\n",
       "      <td>783.20</td>\n",
       "      <td>785.05</td>\n",
       "      <td>1,153,800</td>\n",
       "    </tr>\n",
       "    <tr>\n",
       "      <th>1256</th>\n",
       "      <td>12/29/2016</td>\n",
       "      <td>783.33</td>\n",
       "      <td>785.93</td>\n",
       "      <td>778.92</td>\n",
       "      <td>782.79</td>\n",
       "      <td>744,300</td>\n",
       "    </tr>\n",
       "    <tr>\n",
       "      <th>1257</th>\n",
       "      <td>12/30/2016</td>\n",
       "      <td>782.75</td>\n",
       "      <td>782.78</td>\n",
       "      <td>770.41</td>\n",
       "      <td>771.82</td>\n",
       "      <td>1,770,000</td>\n",
       "    </tr>\n",
       "  </tbody>\n",
       "</table>\n",
       "</div>"
      ],
      "text/plain": [
       "            Date    Open    High     Low   Close     Volume\n",
       "1253  12/23/2016  790.90  792.74  787.28  789.91    623,400\n",
       "1254  12/27/2016  790.68  797.86  787.66  791.55    789,100\n",
       "1255  12/28/2016  793.70  794.23  783.20  785.05  1,153,800\n",
       "1256  12/29/2016  783.33  785.93  778.92  782.79    744,300\n",
       "1257  12/30/2016  782.75  782.78  770.41  771.82  1,770,000"
      ]
     },
     "execution_count": 24,
     "metadata": {},
     "output_type": "execute_result"
    }
   ],
   "source": [
    "# Check the last 5 records\n",
    "dataset_train.tail()"
   ]
  },
  {
   "cell_type": "code",
   "execution_count": 25,
   "metadata": {},
   "outputs": [],
   "source": [
    "# Pick up the Open Column\n",
    "training_set = dataset_train.iloc[:, 1:2].values"
   ]
  },
  {
   "cell_type": "code",
   "execution_count": 26,
   "metadata": {},
   "outputs": [],
   "source": [
    "# Feature Scaling\n",
    "from sklearn.preprocessing import MinMaxScaler"
   ]
  },
  {
   "cell_type": "code",
   "execution_count": 27,
   "metadata": {},
   "outputs": [],
   "source": [
    "sc = MinMaxScaler(feature_range = (0, 1))\n",
    "training_set_scaled = sc.fit_transform(training_set)"
   ]
  },
  {
   "cell_type": "code",
   "execution_count": 28,
   "metadata": {},
   "outputs": [
    {
     "data": {
      "text/plain": [
       "array([[0.08581368],\n",
       "       [0.09701243],\n",
       "       [0.09433366],\n",
       "       ...,\n",
       "       [0.95725128],\n",
       "       [0.93796041],\n",
       "       [0.93688146]])"
      ]
     },
     "execution_count": 28,
     "metadata": {},
     "output_type": "execute_result"
    }
   ],
   "source": [
    "training_set_scaled"
   ]
  },
  {
   "cell_type": "code",
   "execution_count": 29,
   "metadata": {},
   "outputs": [],
   "source": [
    "X_train = []\n",
    "y_train = []"
   ]
  },
  {
   "cell_type": "code",
   "execution_count": 30,
   "metadata": {},
   "outputs": [],
   "source": [
    "# Creating a data structure with 100 timesteps and 1 output. 1258 is the total number of records in the Open column\n",
    "for i in range(100, 1258):\n",
    "    X_train.append(training_set_scaled[i-100:i, 0])\n",
    "    y_train.append(training_set_scaled[i, 0])\n",
    "X_train, y_train = np.array(X_train), np.array(y_train)"
   ]
  },
  {
   "cell_type": "code",
   "execution_count": 31,
   "metadata": {},
   "outputs": [
    {
     "data": {
      "text/plain": [
       "(1158, 100)"
      ]
     },
     "execution_count": 31,
     "metadata": {},
     "output_type": "execute_result"
    }
   ],
   "source": [
    "X_train.shape"
   ]
  },
  {
   "cell_type": "code",
   "execution_count": 32,
   "metadata": {},
   "outputs": [
    {
     "data": {
      "text/plain": [
       "(1158,)"
      ]
     },
     "execution_count": 32,
     "metadata": {},
     "output_type": "execute_result"
    }
   ],
   "source": [
    "y_train.shape"
   ]
  },
  {
   "cell_type": "code",
   "execution_count": 33,
   "metadata": {},
   "outputs": [],
   "source": [
    "X_train = np.reshape(X_train, (X_train.shape[0], X_train.shape[1], 1))"
   ]
  },
  {
   "cell_type": "code",
   "execution_count": 34,
   "metadata": {},
   "outputs": [
    {
     "data": {
      "text/plain": [
       "(1158, 100, 1)"
      ]
     },
     "execution_count": 34,
     "metadata": {},
     "output_type": "execute_result"
    }
   ],
   "source": [
    "X_train.shape"
   ]
  },
  {
   "cell_type": "markdown",
   "metadata": {},
   "source": [
    "## Building the RNN"
   ]
  },
  {
   "cell_type": "code",
   "execution_count": 38,
   "metadata": {},
   "outputs": [
    {
     "name": "stderr",
     "output_type": "stream",
     "text": [
      "Using TensorFlow backend.\n"
     ]
    }
   ],
   "source": [
    "# Importing the Keras libraries and packages\n",
    "from keras.models import Sequential\n",
    "from keras.layers import Dense\n",
    "from keras.layers import LSTM\n",
    "from keras.layers import Dropout\n"
   ]
  },
  {
   "cell_type": "code",
   "execution_count": 39,
   "metadata": {},
   "outputs": [],
   "source": [
    "# Initialising the RNN\n",
    "regressor = Sequential()"
   ]
  },
  {
   "cell_type": "code",
   "execution_count": 40,
   "metadata": {},
   "outputs": [],
   "source": [
    "# Adding the first LSTM layer and some Dropout regularisation\n",
    "regressor.add(LSTM(units = 50, return_sequences = True, input_shape = (X_train.shape[1], 1)))\n",
    "regressor.add(Dropout(0.2))"
   ]
  },
  {
   "cell_type": "code",
   "execution_count": 41,
   "metadata": {},
   "outputs": [],
   "source": [
    "# Adding a second LSTM layer and some Dropout regularisation\n",
    "regressor.add(LSTM(units = 50, return_sequences = True))\n",
    "regressor.add(Dropout(0.2))"
   ]
  },
  {
   "cell_type": "code",
   "execution_count": 42,
   "metadata": {},
   "outputs": [],
   "source": [
    "# Adding a third LSTM layer and some Dropout regularisation\n",
    "regressor.add(LSTM(units = 50, return_sequences = True))\n",
    "regressor.add(Dropout(0.2))"
   ]
  },
  {
   "cell_type": "code",
   "execution_count": 43,
   "metadata": {},
   "outputs": [],
   "source": [
    "# Adding a fourth LSTM layer and some Dropout regularisation\n",
    "regressor.add(LSTM(units = 50))\n",
    "regressor.add(Dropout(0.2))"
   ]
  },
  {
   "cell_type": "code",
   "execution_count": 44,
   "metadata": {},
   "outputs": [],
   "source": [
    "# Adding the output layer\n",
    "regressor.add(Dense(units = 1))"
   ]
  },
  {
   "cell_type": "code",
   "execution_count": 45,
   "metadata": {},
   "outputs": [
    {
     "name": "stdout",
     "output_type": "stream",
     "text": [
      "Model: \"sequential_1\"\n",
      "_________________________________________________________________\n",
      "Layer (type)                 Output Shape              Param #   \n",
      "=================================================================\n",
      "lstm_1 (LSTM)                (None, 100, 50)           10400     \n",
      "_________________________________________________________________\n",
      "dropout_1 (Dropout)          (None, 100, 50)           0         \n",
      "_________________________________________________________________\n",
      "lstm_2 (LSTM)                (None, 100, 50)           20200     \n",
      "_________________________________________________________________\n",
      "dropout_2 (Dropout)          (None, 100, 50)           0         \n",
      "_________________________________________________________________\n",
      "lstm_3 (LSTM)                (None, 100, 50)           20200     \n",
      "_________________________________________________________________\n",
      "dropout_3 (Dropout)          (None, 100, 50)           0         \n",
      "_________________________________________________________________\n",
      "lstm_4 (LSTM)                (None, 50)                20200     \n",
      "_________________________________________________________________\n",
      "dropout_4 (Dropout)          (None, 50)                0         \n",
      "_________________________________________________________________\n",
      "dense_1 (Dense)              (None, 1)                 51        \n",
      "=================================================================\n",
      "Total params: 71,051\n",
      "Trainable params: 71,051\n",
      "Non-trainable params: 0\n",
      "_________________________________________________________________\n"
     ]
    }
   ],
   "source": [
    "regressor.summary()"
   ]
  },
  {
   "cell_type": "code",
   "execution_count": 46,
   "metadata": {},
   "outputs": [],
   "source": [
    "# Compiling the RNN\n",
    "regressor.compile(optimizer = 'adam', loss = 'mean_squared_error')"
   ]
  },
  {
   "cell_type": "code",
   "execution_count": 47,
   "metadata": {
    "scrolled": false
   },
   "outputs": [
    {
     "name": "stdout",
     "output_type": "stream",
     "text": [
      "Epoch 1/100\n",
      "1158/1158 [==============================] - 7s 6ms/step - loss: 0.0449\n",
      "Epoch 2/100\n",
      "1158/1158 [==============================] - 7s 6ms/step - loss: 0.0059\n",
      "Epoch 3/100\n",
      "1158/1158 [==============================] - 8s 7ms/step - loss: 0.0062\n",
      "Epoch 4/100\n",
      "1158/1158 [==============================] - 7s 6ms/step - loss: 0.0056\n",
      "Epoch 5/100\n",
      "1158/1158 [==============================] - 8s 7ms/step - loss: 0.0048\n",
      "Epoch 6/100\n",
      "1158/1158 [==============================] - 8s 7ms/step - loss: 0.0051\n",
      "Epoch 7/100\n",
      "1158/1158 [==============================] - 8s 7ms/step - loss: 0.0046\n",
      "Epoch 8/100\n",
      "1158/1158 [==============================] - 8s 7ms/step - loss: 0.0046\n",
      "Epoch 9/100\n",
      "1158/1158 [==============================] - 8s 7ms/step - loss: 0.0056\n",
      "Epoch 10/100\n",
      "1158/1158 [==============================] - 8s 7ms/step - loss: 0.0044\n",
      "Epoch 11/100\n",
      "1158/1158 [==============================] - 8s 7ms/step - loss: 0.0040\n",
      "Epoch 12/100\n",
      "1158/1158 [==============================] - 7s 6ms/step - loss: 0.0041\n",
      "Epoch 13/100\n",
      "1158/1158 [==============================] - 8s 7ms/step - loss: 0.0045\n",
      "Epoch 14/100\n",
      "1158/1158 [==============================] - 7s 6ms/step - loss: 0.0041\n",
      "Epoch 15/100\n",
      "1158/1158 [==============================] - 8s 7ms/step - loss: 0.0041\n",
      "Epoch 16/100\n",
      "1158/1158 [==============================] - 7s 6ms/step - loss: 0.0043\n",
      "Epoch 17/100\n",
      "1158/1158 [==============================] - 8s 7ms/step - loss: 0.0046\n",
      "Epoch 18/100\n",
      "1158/1158 [==============================] - 7s 6ms/step - loss: 0.0037\n",
      "Epoch 19/100\n",
      "1158/1158 [==============================] - 8s 7ms/step - loss: 0.0042\n",
      "Epoch 20/100\n",
      "1158/1158 [==============================] - 7s 6ms/step - loss: 0.0043\n",
      "Epoch 21/100\n",
      "1158/1158 [==============================] - 8s 7ms/step - loss: 0.0034\n",
      "Epoch 22/100\n",
      "1158/1158 [==============================] - 7s 6ms/step - loss: 0.0033\n",
      "Epoch 23/100\n",
      "1158/1158 [==============================] - 7s 6ms/step - loss: 0.0034\n",
      "Epoch 24/100\n",
      "1158/1158 [==============================] - 7s 6ms/step - loss: 0.0034\n",
      "Epoch 25/100\n",
      "1158/1158 [==============================] - 7s 6ms/step - loss: 0.0037\n",
      "Epoch 26/100\n",
      "1158/1158 [==============================] - 8s 6ms/step - loss: 0.0034\n",
      "Epoch 27/100\n",
      "1158/1158 [==============================] - 7s 6ms/step - loss: 0.0033\n",
      "Epoch 28/100\n",
      "1158/1158 [==============================] - 8s 7ms/step - loss: 0.0029\n",
      "Epoch 29/100\n",
      "1158/1158 [==============================] - 7s 6ms/step - loss: 0.0035\n",
      "Epoch 30/100\n",
      "1158/1158 [==============================] - 8s 7ms/step - loss: 0.0032\n",
      "Epoch 31/100\n",
      "1158/1158 [==============================] - 7s 6ms/step - loss: 0.0030\n",
      "Epoch 32/100\n",
      "1158/1158 [==============================] - 8s 7ms/step - loss: 0.0032\n",
      "Epoch 33/100\n",
      "1158/1158 [==============================] - 7s 6ms/step - loss: 0.0031\n",
      "Epoch 34/100\n",
      "1158/1158 [==============================] - 8s 7ms/step - loss: 0.0031\n",
      "Epoch 35/100\n",
      "1158/1158 [==============================] - 7s 6ms/step - loss: 0.0030\n",
      "Epoch 36/100\n",
      "1158/1158 [==============================] - 7s 6ms/step - loss: 0.0030\n",
      "Epoch 37/100\n",
      "1158/1158 [==============================] - 7s 6ms/step - loss: 0.0029\n",
      "Epoch 38/100\n",
      "1158/1158 [==============================] - 7s 6ms/step - loss: 0.0028\n",
      "Epoch 39/100\n",
      "1158/1158 [==============================] - 8s 7ms/step - loss: 0.0027\n",
      "Epoch 40/100\n",
      "1158/1158 [==============================] - 7s 6ms/step - loss: 0.0029\n",
      "Epoch 41/100\n",
      "1158/1158 [==============================] - 8s 7ms/step - loss: 0.0026\n",
      "Epoch 42/100\n",
      "1158/1158 [==============================] - 7s 6ms/step - loss: 0.0027\n",
      "Epoch 43/100\n",
      "1158/1158 [==============================] - 8s 7ms/step - loss: 0.0028\n",
      "Epoch 44/100\n",
      "1158/1158 [==============================] - 7s 6ms/step - loss: 0.0024\n",
      "Epoch 45/100\n",
      "1158/1158 [==============================] - 8s 7ms/step - loss: 0.0026\n",
      "Epoch 46/100\n",
      "1158/1158 [==============================] - 7s 6ms/step - loss: 0.0025\n",
      "Epoch 47/100\n",
      "1158/1158 [==============================] - 8s 7ms/step - loss: 0.0026\n",
      "Epoch 48/100\n",
      "1158/1158 [==============================] - 7s 6ms/step - loss: 0.0026\n",
      "Epoch 49/100\n",
      "1158/1158 [==============================] - 8s 7ms/step - loss: 0.0024\n",
      "Epoch 50/100\n",
      "1158/1158 [==============================] - 7s 6ms/step - loss: 0.0027\n",
      "Epoch 51/100\n",
      "1158/1158 [==============================] - 8s 7ms/step - loss: 0.0026\n",
      "Epoch 52/100\n",
      "1158/1158 [==============================] - 7s 6ms/step - loss: 0.0023\n",
      "Epoch 53/100\n",
      "1158/1158 [==============================] - 8s 6ms/step - loss: 0.0024\n",
      "Epoch 54/100\n",
      "1158/1158 [==============================] - 7s 6ms/step - loss: 0.0024\n",
      "Epoch 55/100\n",
      "1158/1158 [==============================] - 8s 6ms/step - loss: 0.0022\n",
      "Epoch 56/100\n",
      "1158/1158 [==============================] - 8s 6ms/step - loss: 0.0023\n",
      "Epoch 57/100\n",
      "1158/1158 [==============================] - 7s 6ms/step - loss: 0.0024\n",
      "Epoch 58/100\n",
      "1158/1158 [==============================] - 8s 7ms/step - loss: 0.0023\n",
      "Epoch 59/100\n",
      "1158/1158 [==============================] - 7s 6ms/step - loss: 0.0026\n",
      "Epoch 60/100\n",
      "1158/1158 [==============================] - 8s 7ms/step - loss: 0.0023\n",
      "Epoch 61/100\n",
      "1158/1158 [==============================] - 7s 6ms/step - loss: 0.0022\n",
      "Epoch 62/100\n",
      "1158/1158 [==============================] - 8s 7ms/step - loss: 0.0023\n",
      "Epoch 63/100\n",
      "1158/1158 [==============================] - 7s 6ms/step - loss: 0.0020\n",
      "Epoch 64/100\n",
      "1158/1158 [==============================] - 8s 7ms/step - loss: 0.0020\n",
      "Epoch 65/100\n",
      "1158/1158 [==============================] - 7s 6ms/step - loss: 0.0020\n",
      "Epoch 66/100\n",
      "1158/1158 [==============================] - 8s 7ms/step - loss: 0.0022\n",
      "Epoch 67/100\n",
      "1158/1158 [==============================] - 8s 7ms/step - loss: 0.0020\n",
      "Epoch 68/100\n",
      "1158/1158 [==============================] - 9s 8ms/step - loss: 0.0018\n",
      "Epoch 69/100\n",
      "1158/1158 [==============================] - 8s 7ms/step - loss: 0.0019\n",
      "Epoch 70/100\n",
      "1158/1158 [==============================] - 8s 7ms/step - loss: 0.0020\n",
      "Epoch 71/100\n",
      "1158/1158 [==============================] - 9s 7ms/step - loss: 0.0020\n",
      "Epoch 72/100\n",
      "1158/1158 [==============================] - 9s 8ms/step - loss: 0.0018\n",
      "Epoch 73/100\n",
      "1158/1158 [==============================] - 7s 6ms/step - loss: 0.0019\n",
      "Epoch 74/100\n",
      "1158/1158 [==============================] - 9s 8ms/step - loss: 0.0018\n",
      "Epoch 75/100\n",
      "1158/1158 [==============================] - 9s 7ms/step - loss: 0.0020\n",
      "Epoch 76/100\n",
      "1158/1158 [==============================] - 9s 8ms/step - loss: 0.0021\n",
      "Epoch 77/100\n",
      "1158/1158 [==============================] - 8s 7ms/step - loss: 0.0017\n",
      "Epoch 78/100\n",
      "1158/1158 [==============================] - 8s 7ms/step - loss: 0.0017\n",
      "Epoch 79/100\n",
      "1158/1158 [==============================] - 8s 7ms/step - loss: 0.0019\n",
      "Epoch 80/100\n",
      "1158/1158 [==============================] - 8s 7ms/step - loss: 0.0017\n",
      "Epoch 81/100\n",
      "1158/1158 [==============================] - 8s 7ms/step - loss: 0.0018\n",
      "Epoch 82/100\n",
      "1158/1158 [==============================] - 8s 7ms/step - loss: 0.0017\n",
      "Epoch 83/100\n",
      "1158/1158 [==============================] - 8s 7ms/step - loss: 0.0016\n",
      "Epoch 84/100\n",
      "1158/1158 [==============================] - 8s 7ms/step - loss: 0.0017\n",
      "Epoch 85/100\n",
      "1158/1158 [==============================] - 8s 7ms/step - loss: 0.0016\n",
      "Epoch 86/100\n",
      "1158/1158 [==============================] - 8s 7ms/step - loss: 0.0016\n",
      "Epoch 87/100\n",
      "1158/1158 [==============================] - 8s 7ms/step - loss: 0.0016\n",
      "Epoch 88/100\n",
      "1158/1158 [==============================] - 8s 7ms/step - loss: 0.0016\n",
      "Epoch 89/100\n",
      "1158/1158 [==============================] - 8s 7ms/step - loss: 0.0014\n",
      "Epoch 90/100\n",
      "1158/1158 [==============================] - 8s 7ms/step - loss: 0.0015\n",
      "Epoch 91/100\n",
      "1158/1158 [==============================] - 8s 7ms/step - loss: 0.0015\n",
      "Epoch 92/100\n",
      "1158/1158 [==============================] - 8s 7ms/step - loss: 0.0016\n",
      "Epoch 93/100\n",
      "1158/1158 [==============================] - 8s 7ms/step - loss: 0.0015\n",
      "Epoch 94/100\n",
      "1158/1158 [==============================] - 8s 7ms/step - loss: 0.0016\n",
      "Epoch 95/100\n",
      "1158/1158 [==============================] - 8s 7ms/step - loss: 0.0017\n",
      "Epoch 96/100\n",
      "1158/1158 [==============================] - 8s 7ms/step - loss: 0.0015\n",
      "Epoch 97/100\n",
      "1158/1158 [==============================] - 8s 7ms/step - loss: 0.0016\n",
      "Epoch 98/100\n",
      "1158/1158 [==============================] - 8s 7ms/step - loss: 0.0014\n",
      "Epoch 99/100\n",
      "1158/1158 [==============================] - 7s 6ms/step - loss: 0.0017\n",
      "Epoch 100/100\n",
      "1158/1158 [==============================] - 8s 7ms/step - loss: 0.0016\n"
     ]
    },
    {
     "data": {
      "text/plain": [
       "<keras.callbacks.callbacks.History at 0x25b76bb8e48>"
      ]
     },
     "execution_count": 47,
     "metadata": {},
     "output_type": "execute_result"
    }
   ],
   "source": [
    "# Fitting the RNN to the Training set\n",
    "regressor.fit(X_train, y_train, epochs = 100, batch_size = 32)"
   ]
  },
  {
   "cell_type": "code",
   "execution_count": 48,
   "metadata": {},
   "outputs": [],
   "source": [
    "# Part 3 - Making the predictions and visualising the results\n",
    "\n",
    "# Getting the real stock price of 2017\n",
    "dataset_test = pd.read_csv('Google_Stock_Price_Test.csv')"
   ]
  },
  {
   "cell_type": "code",
   "execution_count": 49,
   "metadata": {},
   "outputs": [
    {
     "data": {
      "text/html": [
       "<div>\n",
       "<style scoped>\n",
       "    .dataframe tbody tr th:only-of-type {\n",
       "        vertical-align: middle;\n",
       "    }\n",
       "\n",
       "    .dataframe tbody tr th {\n",
       "        vertical-align: top;\n",
       "    }\n",
       "\n",
       "    .dataframe thead th {\n",
       "        text-align: right;\n",
       "    }\n",
       "</style>\n",
       "<table border=\"1\" class=\"dataframe\">\n",
       "  <thead>\n",
       "    <tr style=\"text-align: right;\">\n",
       "      <th></th>\n",
       "      <th>Date</th>\n",
       "      <th>Open</th>\n",
       "      <th>High</th>\n",
       "      <th>Low</th>\n",
       "      <th>Close</th>\n",
       "      <th>Volume</th>\n",
       "    </tr>\n",
       "  </thead>\n",
       "  <tbody>\n",
       "    <tr>\n",
       "      <th>0</th>\n",
       "      <td>01-03-2017</td>\n",
       "      <td>778.81</td>\n",
       "      <td>789.63</td>\n",
       "      <td>775.80</td>\n",
       "      <td>786.14</td>\n",
       "      <td>16,57,300</td>\n",
       "    </tr>\n",
       "    <tr>\n",
       "      <th>1</th>\n",
       "      <td>01-04-2017</td>\n",
       "      <td>788.36</td>\n",
       "      <td>791.34</td>\n",
       "      <td>783.16</td>\n",
       "      <td>786.90</td>\n",
       "      <td>10,73,000</td>\n",
       "    </tr>\n",
       "    <tr>\n",
       "      <th>2</th>\n",
       "      <td>01-05-2017</td>\n",
       "      <td>786.08</td>\n",
       "      <td>794.48</td>\n",
       "      <td>785.02</td>\n",
       "      <td>794.02</td>\n",
       "      <td>13,35,200</td>\n",
       "    </tr>\n",
       "    <tr>\n",
       "      <th>3</th>\n",
       "      <td>01-06-2017</td>\n",
       "      <td>795.26</td>\n",
       "      <td>807.90</td>\n",
       "      <td>792.20</td>\n",
       "      <td>806.15</td>\n",
       "      <td>16,40,200</td>\n",
       "    </tr>\n",
       "    <tr>\n",
       "      <th>4</th>\n",
       "      <td>01-09-2017</td>\n",
       "      <td>806.40</td>\n",
       "      <td>809.97</td>\n",
       "      <td>802.83</td>\n",
       "      <td>806.65</td>\n",
       "      <td>12,72,400</td>\n",
       "    </tr>\n",
       "  </tbody>\n",
       "</table>\n",
       "</div>"
      ],
      "text/plain": [
       "         Date    Open    High     Low   Close     Volume\n",
       "0  01-03-2017  778.81  789.63  775.80  786.14  16,57,300\n",
       "1  01-04-2017  788.36  791.34  783.16  786.90  10,73,000\n",
       "2  01-05-2017  786.08  794.48  785.02  794.02  13,35,200\n",
       "3  01-06-2017  795.26  807.90  792.20  806.15  16,40,200\n",
       "4  01-09-2017  806.40  809.97  802.83  806.65  12,72,400"
      ]
     },
     "execution_count": 49,
     "metadata": {},
     "output_type": "execute_result"
    }
   ],
   "source": [
    "dataset_test.head()"
   ]
  },
  {
   "cell_type": "code",
   "execution_count": 50,
   "metadata": {},
   "outputs": [],
   "source": [
    "real_stock_price = dataset_test.iloc[:, 1:2].values"
   ]
  },
  {
   "cell_type": "code",
   "execution_count": 51,
   "metadata": {},
   "outputs": [],
   "source": [
    "\n",
    "# Getting the predicted stock price of 2017\n",
    "dataset_total = pd.concat((dataset_train['Open'], dataset_test['Open']), axis = 0)\n",
    "inputs = dataset_total[len(dataset_total) - len(dataset_test) - 100:].values\n",
    "inputs = inputs.reshape(-1,1)\n",
    "inputs = sc.transform(inputs)\n",
    "X_test = []"
   ]
  },
  {
   "cell_type": "code",
   "execution_count": 52,
   "metadata": {},
   "outputs": [
    {
     "data": {
      "text/plain": [
       "(142, 1)"
      ]
     },
     "execution_count": 52,
     "metadata": {},
     "output_type": "execute_result"
    }
   ],
   "source": [
    "inputs.shape"
   ]
  },
  {
   "cell_type": "code",
   "execution_count": 53,
   "metadata": {},
   "outputs": [],
   "source": [
    "for i in range(100, 142):\n",
    "    X_test.append(inputs[i-100:i, 0])\n",
    "X_test = np.array(X_test)\n",
    "X_test = np.reshape(X_test, (X_test.shape[0], X_test.shape[1], 1))\n",
    "predicted_stock_price = regressor.predict(X_test)\n",
    "predicted_stock_price = sc.inverse_transform(predicted_stock_price)"
   ]
  },
  {
   "cell_type": "code",
   "execution_count": 54,
   "metadata": {},
   "outputs": [
    {
     "data": {
      "text/plain": [
       "array([[777.08527],\n",
       "       [774.30835],\n",
       "       [774.32635],\n",
       "       [775.3604 ],\n",
       "       [778.21796],\n",
       "       [783.5286 ],\n",
       "       [788.4564 ],\n",
       "       [790.5131 ],\n",
       "       [790.9733 ],\n",
       "       [790.95734],\n",
       "       [790.9094 ],\n",
       "       [790.776  ],\n",
       "       [790.667  ],\n",
       "       [791.2128 ],\n",
       "       [792.1576 ],\n",
       "       [796.5725 ],\n",
       "       [803.1137 ],\n",
       "       [810.1048 ],\n",
       "       [813.9523 ],\n",
       "       [810.24316],\n",
       "       [800.5919 ],\n",
       "       [794.34406],\n",
       "       [792.3648 ],\n",
       "       [792.8014 ],\n",
       "       [794.3054 ],\n",
       "       [795.6602 ],\n",
       "       [799.797  ],\n",
       "       [805.62897],\n",
       "       [811.79755],\n",
       "       [814.93506],\n",
       "       [810.7257 ],\n",
       "       [800.7711 ],\n",
       "       [794.362  ],\n",
       "       [792.3363 ],\n",
       "       [792.80914],\n",
       "       [794.3971 ],\n",
       "       [795.85565],\n",
       "       [800.09393],\n",
       "       [806.016  ],\n",
       "       [812.2577 ],\n",
       "       [815.45154],\n",
       "       [811.2849 ]], dtype=float32)"
      ]
     },
     "execution_count": 54,
     "metadata": {},
     "output_type": "execute_result"
    }
   ],
   "source": [
    "predicted_stock_price"
   ]
  },
  {
   "cell_type": "code",
   "execution_count": 55,
   "metadata": {},
   "outputs": [
    {
     "data": {
      "image/png": "[encoded data removed]",
      "text/plain": [
       "<Figure size 432x288 with 1 Axes>"
      ]
     },
     "metadata": {
      "needs_background": "light"
     },
     "output_type": "display_data"
    }
   ],
   "source": [
    "# Visualising the results\n",
    "plt.plot(real_stock_price, color = 'red', label = 'Real Google Stock Price')\n",
    "plt.plot(predicted_stock_price, color = 'blue', label = 'Predicted Google Stock Price')\n",
    "plt.title('Google Stock Price Prediction')\n",
    "plt.xlabel('Time')\n",
    "plt.ylabel('Google Stock Price')\n",
    "plt.legend()\n",
    "plt.show()"
   ]
  },
  {
   "cell_type": "code",
   "execution_count": 57,
   "metadata": {},
   "outputs": [],
   "source": [
    "import math\n",
    "from sklearn.metrics import mean_squared_error\n",
    "# rmse = math.sqrt(mean_squared_error(real_stock_price, predicted_stock_price))"
   ]
  },
  {
   "cell_type": "code",
   "execution_count": null,
   "metadata": {},
   "outputs": [],
   "source": []
  }
 ],
 "metadata": {
  "kernelspec": {
   "display_name": "Python 3",
   "language": "python",
   "name": "python3"
  },
  "language_info": {
   "codemirror_mode": {
    "name": "ipython",
    "version": 3
   },
   "file_extension": ".py",
   "mimetype": "text/x-python",
   "name": "python",
   "nbconvert_exporter": "python",
   "pygments_lexer": "ipython3",
   "version": "3.7.3"
  }
 },
 "nbformat": 4,
 "nbformat_minor": 2
}
