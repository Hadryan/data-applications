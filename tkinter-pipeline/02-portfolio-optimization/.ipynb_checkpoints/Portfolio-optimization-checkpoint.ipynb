{
 "cells": [
  {
   "cell_type": "code",
   "execution_count": 10,
   "metadata": {},
   "outputs": [],
   "source": [
    "import matplotlib.pyplot as plt\n",
    "import pandas as pd\n",
    "import numpy as np\n",
    "import scipy.optimize as sco\n",
    "import pandas_datareader as pdr"
   ]
  },
  {
   "cell_type": "code",
   "execution_count": 11,
   "metadata": {},
   "outputs": [],
   "source": [
    "def getStockQuotes(symbols, source, startDate, endDate):\n",
    "    quotes = pd.DataFrame()\n",
    "    \n",
    "    for symbol in symbols:\n",
    "        quotes[symbol] = pdr.get_data_fred(symbol, data_source=source, start=startDate, end=endDate)['Adj Close']\n",
    "        \n",
    "    return quotes"
   ]
  },
  {
   "cell_type": "code",
   "execution_count": 12,
   "metadata": {},
   "outputs": [],
   "source": [
    "def calcPortfolioPerf(weights, meanReturns, covMatrix):\n",
    "    '''\n",
    "    Calculates the expected mean of returns and volatility for a portolio of \n",
    "    assets, each carrying the weight specified by weights\n",
    "    \n",
    "    INPUT\n",
    "    weights: array specifying the weight of each asset in the portfolio\n",
    "    meanReturns: mean values of each asset's returns\n",
    "    covMatrix: covariance of each asset in the portfolio\n",
    "    \n",
    "    OUTPUT\n",
    "    tuple containing the portfolio return and volatility\n",
    "    '''    \n",
    "    #Calculate return and variance\n",
    "    portReturn = np.sum( meanReturns*weights )\n",
    "    portStdDev = np.sqrt(np.dot(weights.T, np.dot(covMatrix, weights)))\n",
    "    \n",
    "    return portReturn, portStdDev"
   ]
  },
  {
   "cell_type": "code",
   "execution_count": 13,
   "metadata": {},
   "outputs": [],
   "source": [
    "def negSharpeRatio(weights, meanReturns, covMatrix, riskFreeRate):\n",
    "    '''\n",
    "    Returns the negated Sharpe Ratio for the speicified portfolio of assets\n",
    "    \n",
    "    INPUT\n",
    "    weights: array specifying the weight of each asset in the portfolio\n",
    "    meanReturns: mean values of each asset's returns\n",
    "    covMatrix: covariance of each asset in the portfolio\n",
    "    riskFreeRate: time value of money\n",
    "    '''\n",
    "    p_ret, p_var = calcPortfolioPerf(weights, meanReturns, covMatrix)\n",
    "    \n",
    "    return -(p_ret - riskFreeRate) / p_var"
   ]
  },
  {
   "cell_type": "code",
   "execution_count": 14,
   "metadata": {},
   "outputs": [],
   "source": [
    "def getPortfolioVol(weights, meanReturns, covMatrix):\n",
    "    '''\n",
    "    Returns the volatility of the specified portfolio of assets\n",
    "    \n",
    "    INPUT\n",
    "    weights: array specifying the weight of each asset in the portfolio\n",
    "    meanReturns: mean values of each asset's returns\n",
    "    covMatrix: covariance of each asset in the portfolio\n",
    "    \n",
    "    OUTPUT\n",
    "    The portfolio's volatility\n",
    "    '''\n",
    "    return calcPortfolioPerf(weights, meanReturns, covMatrix)[1]"
   ]
  },
  {
   "cell_type": "code",
   "execution_count": 15,
   "metadata": {},
   "outputs": [],
   "source": [
    "def findMaxSharpeRatioPortfolio(meanReturns, covMatrix, riskFreeRate):\n",
    "    '''\n",
    "    Finds the portfolio of assets providing the maximum Sharpe Ratio\n",
    "    \n",
    "    INPUT\n",
    "    meanReturns: mean values of each asset's returns\n",
    "    covMatrix: covariance of each asset in the portfolio\n",
    "    riskFreeRate: time value of money\n",
    "    '''\n",
    "    numAssets = len(meanReturns)\n",
    "    args = (meanReturns, covMatrix, riskFreeRate)\n",
    "    constraints = ({'type': 'eq', 'fun': lambda x: np.sum(x) - 1})\n",
    "    bounds = tuple( (0,1) for asset in range(numAssets))\n",
    "    \n",
    "    opts = sco.minimize(negSharpeRatio, numAssets*[1./numAssets,], args=args, method='SLSQP', bounds=bounds, constraints=constraints)\n",
    "    \n",
    "    return opts"
   ]
  },
  {
   "cell_type": "code",
   "execution_count": 16,
   "metadata": {},
   "outputs": [],
   "source": [
    "def findMinVariancePortfolio(meanReturns, covMatrix):\n",
    "    '''\n",
    "    Finds the portfolio of assets providing the lowest volatility\n",
    "    \n",
    "    INPUT\n",
    "    meanReturns: mean values of each asset's returns\n",
    "    covMatrix: covariance of each asset in the portfolio\n",
    "    '''\n",
    "    numAssets = len(meanReturns)\n",
    "    args = (meanReturns, covMatrix)\n",
    "    constraints = ({'type': 'eq', 'fun': lambda x: np.sum(x) - 1})\n",
    "    bounds = tuple( (0,1) for asset in range(numAssets))\n",
    "    \n",
    "    opts = sco.minimize(getPortfolioVol, numAssets*[1./numAssets,], args=args, method='SLSQP', bounds=bounds, constraints=constraints)\n",
    "    \n",
    "    return opts"
   ]
  },
  {
   "cell_type": "code",
   "execution_count": 17,
   "metadata": {},
   "outputs": [],
   "source": [
    "def findEfficientReturn(meanReturns, covMatrix, targetReturn):\n",
    "    '''\n",
    "    Finds the portfolio of assets providing the target return with lowest\n",
    "    volatility\n",
    "    \n",
    "    INPUT\n",
    "    meanReturns: mean values of each asset's returns\n",
    "    covMatrix: covariance of each asset in the portfolio\n",
    "    targetReturn: APR of target expected return\n",
    "    \n",
    "    OUTPUT\n",
    "    Dictionary of results from optimization\n",
    "    '''\n",
    "    numAssets = len(meanReturns)\n",
    "    args = (meanReturns, covMatrix)\n",
    "    \n",
    "    def getPortfolioReturn(weights):\n",
    "        return calcPortfolioPerf(weights, meanReturns, covMatrix)[0]\n",
    "    \n",
    "    constraints = ({'type': 'eq', 'fun': lambda x: getPortfolioReturn(x) - targetReturn},\n",
    "                   {'type': 'eq', 'fun': lambda x: np.sum(x) - 1})\n",
    "    bounds = tuple((0,1) for asset in range(numAssets))\n",
    "    \n",
    "    return sco.minimize(getPortfolioVol, numAssets*[1./numAssets,], args=args, method='SLSQP', bounds=bounds, constraints=constraints)"
   ]
  },
  {
   "cell_type": "code",
   "execution_count": 18,
   "metadata": {},
   "outputs": [],
   "source": [
    "def findEfficientFrontier(meanReturns, covMatrix, rangeOfReturns):\n",
    "    '''\n",
    "    Finds the set of portfolios comprising the efficient frontier\n",
    "    \n",
    "    INPUT\n",
    "    meanReturns: mean values of each asset's returns\n",
    "    covMatrix: covariance of each asset in the portfolio\n",
    "    targetReturn: APR of target expected return\n",
    "    \n",
    "    OUTPUT\n",
    "    Dictionary of results from optimization\n",
    "    '''\n",
    "    efficientPortfolios = []\n",
    "    for ret in rangeOfReturns:\n",
    "        efficientPortfolios.append(findEfficientReturn(meanReturns, covMatrix, ret))\n",
    "        \n",
    "    return efficientPortfolios"
   ]
  },
  {
   "cell_type": "code",
   "execution_count": 19,
   "metadata": {},
   "outputs": [],
   "source": [
    "availStocks = ['GOOGL', 'AAPL', 'AMZN', 'MSFT', 'F', 'BMW.DE', 'TM', 'KO', 'PEP']\n",
    "stocks = availStocks\n",
    "#stocks = ['GOOGL', 'TM', 'KO', 'PEP']\n",
    "#stocks = [availStocks[i] for i in np.random.random_integers(0,len(availStocks)-1, 3)]\n",
    "numAssets = len(stocks)\n",
    "source = 'yahoo'\n",
    "start = '2010-01-01'\n",
    "end = '2015-10-31'"
   ]
  },
  {
   "cell_type": "code",
   "execution_count": 20,
   "metadata": {},
   "outputs": [
    {
     "name": "stderr",
     "output_type": "stream",
     "text": [
      "C:\\Users\\Roland.Ferrao\\AppData\\Local\\Continuum\\anaconda3\\lib\\site-packages\\ipykernel_launcher.py:5: FutureWarning: 'select' is deprecated and will be removed in a future release. You can use .loc[labels.map(crit)] as a replacement\n",
      "  \"\"\"\n"
     ]
    },
    {
     "data": {
      "text/plain": [
       "<Figure size 576x432 with 0 Axes>"
      ]
     },
     "metadata": {},
     "output_type": "display_data"
    }
   ],
   "source": [
    "#Retrieve data from online\n",
    "#data = getStockQuotes(stocks, source, start, end)\n",
    "\n",
    "#Load data from disk\n",
    "data = pd.read_hdf('./stockData.h5', 'quotes').select(lambda x: x in stocks, 1)\n",
    "\n",
    "#Calculate returns\n",
    "riskFreeRate = 0.0021\n",
    "dur = 20\n",
    "numPeriodsAnnually = 252.0/dur\n",
    "windowedData = data[::dur]\n",
    "rets = np.log(windowedData/windowedData.shift(1))\n",
    "\n",
    "#Calculate stock mean-variance\n",
    "meanDailyReturn = rets.mean()\n",
    "covariance = rets.cov()\n",
    "\n",
    "#Create a new figure\n",
    "plt.figure(figsize=(8,6))\n",
    "\n",
    "#Run MC simulation of numPortfolios portfolios\n",
    "numPortfolios = 100000\n",
    "results = np.zeros((3,numPortfolios))"
   ]
  },
  {
   "cell_type": "code",
   "execution_count": null,
   "metadata": {},
   "outputs": [],
   "source": [
    "#Calculate portfolios\n",
    "for i in range(numPortfolios):\n",
    "    #Draw numAssets random numbers and normalize them to be the portfolio weights\n",
    "    weights = np.random.random(numAssets)\n",
    "    weights /= np.sum(weights)\n",
    "    \n",
    "    #Calculate expected return and volatility of portfolio\n",
    "    pret, pvar = calcPortfolioPerf(weights, meanDailyReturn, covariance)\n",
    "    \n",
    "    #Convert results to annual basis, calculate Sharpe Ratio, and store them\n",
    "    results[0,i] = pret*numPeriodsAnnually\n",
    "    results[1,i] = pvar*np.sqrt(numPeriodsAnnually)\n",
    "    results[2,i] = (results[0,i] - riskFreeRate)/results[1,i]\n",
    "    \n",
    "#Plot results of MC on portfolio weights\n",
    "plt.scatter(results[1,:], results[0,:], c=results[2,:], marker='o')"
   ]
  },
  {
   "cell_type": "code",
   "execution_count": null,
   "metadata": {},
   "outputs": [],
   "source": [
    "#Find efficient frontier, annual target returns of 9% and 16% are converted to\n",
    "#match period of mean returns calculated previously\n",
    "targetReturns = np.linspace(0.09, 0.26, 50)/(252./dur)\n",
    "efficientPortfolios = findEfficientFrontier(meanDailyReturn, covariance, targetReturns)\n",
    "plt.plot([p['fun']*np.sqrt(numPeriodsAnnually) for p in efficientPortfolios], targetReturns*numPeriodsAnnually, marker='x')\n",
    "\n",
    "#Find portfolio with maximum Sharpe ratio\n",
    "maxSharpe = findMaxSharpeRatioPortfolio(meanDailyReturn, covariance, riskFreeRate)\n",
    "rp, sdp = calcPortfolioPerf(maxSharpe['x'], meanDailyReturn, covariance)\n",
    "plt.plot(sdp*np.sqrt(numPeriodsAnnually), rp*numPeriodsAnnually, 'r*', markersize=15.0)\n",
    "\n",
    "#Find portfolio with minimum variance\n",
    "minVar = findMinVariancePortfolio(meanDailyReturn, covariance)\n",
    "rp, sdp = calcPortfolioPerf(minVar['x'], meanDailyReturn, covariance)\n",
    "plt.plot(sdp*np.sqrt(numPeriodsAnnually), rp*numPeriodsAnnually, 'y*', markersize=15.0)\n",
    "    \n",
    "plt.grid(True)\n",
    "plt.xlabel('Expected Volatility')\n",
    "plt.ylabel('Expected Return')\n",
    "plt.colorbar(label='Sharpe Ratio')\n",
    "plt.title('Portfolios of Many Assets')\n",
    "plt.tight_layout()\n",
    "plt.savefig('Monte Carlo Simulation for Portfolio', dpi=100)\n",
    "\n",
    "#plt.figure(figsize=(8,6))\n",
    "ind = np.arange(numAssets)\n",
    "width = 0.35\n",
    "fig, ax = plt.subplots(figsize=(8,6))\n",
    "rects1 = ax.bar(ind, maxSharpe['x'], width, color='r', alpha=0.75)\n",
    "rects2 = ax.bar(ind + width, minVar['x'], width, color='b', alpha=0.75)\n",
    "ax.set_ylabel('Weight of Asset in Portfolio')\n",
    "ax.set_ylim(0,0.6)\n",
    "ax.set_title('Comparison of Portfolio Compositions')\n",
    "ax.set_xticks(ind + width)\n",
    "ax.set_xticklabels(stocks)\n",
    "plt.tight_layout()\n",
    "ax.legend((rects1[0], rects2[0]), ('Max Sharpe Ratio', 'Minimum Volatility'))\n",
    "plt.savefig('Portfolio Compositions', dpi=100)\n",
    "plt.show()"
   ]
  },
  {
   "cell_type": "code",
   "execution_count": null,
   "metadata": {},
   "outputs": [],
   "source": []
  }
 ],
 "metadata": {
  "kernelspec": {
   "display_name": "Python 3",
   "language": "python",
   "name": "python3"
  },
  "language_info": {
   "codemirror_mode": {
    "name": "ipython",
    "version": 3
   },
   "file_extension": ".py",
   "mimetype": "text/x-python",
   "name": "python",
   "nbconvert_exporter": "python",
   "pygments_lexer": "ipython3",
   "version": "3.7.3"
  }
 },
 "nbformat": 4,
 "nbformat_minor": 2
}
