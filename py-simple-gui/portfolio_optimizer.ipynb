{
 "cells": [
  {
   "cell_type": "code",
   "execution_count": 30,
   "metadata": {},
   "outputs": [],
   "source": [
    "from tkinter import *\n",
    "import random \n",
    "import time"
   ]
  },
  {
   "cell_type": "code",
   "execution_count": 43,
   "metadata": {},
   "outputs": [],
   "source": [
    "root = Tk()\n",
    "root.geometry(\"1600x800+0+0\")\n",
    "root.title('Portfolio Optimizer')\n",
    "\n",
    "text_Input = StringVar()\n",
    "\n",
    "Tops = Frame(root, width = 1600, height = 50, bg = 'powder blue', relief = SUNKEN)\n",
    "Tops.pack(side = TOP)\n",
    "\n",
    "f1 = Frame(root, width = 800, height = 700, bg = 'powder blue', relief = SUNKEN)\n",
    "f1.pack(side = LEFT)\n",
    "\n",
    "f2 = Frame(root, width = 300, height = 700, bg = 'powder blue', relief = SUNKEN)\n",
    "f2.pack(side = LEFT)\n",
    "\n",
    "# Time info\n",
    "local_time = time.asctime(time.localtime(time.time()))\n",
    "\n",
    "\n",
    "# Label info\n",
    "label_info = Label(Tops, font = ('arial', 50, 'bold'), text = 'PORTFOLIO OPTIMIZER', fg = 'Steel Blue', bd = 10, anchor = 'w')\n",
    "label_info.grid(row = 0, column = 0)\n",
    "\n",
    "label_info = Label(Tops, font = ('arial', 20, 'bold'), text = local_time, fg = 'Steel Blue', bd = 10, anchor = 'w')\n",
    "label_info.grid(row = 1, column = 0)\n",
    "\n",
    "\n",
    "def btnClick(numbers):\n",
    "    global operator\n",
    "    operator = operator + str(numbers)\n",
    "    text_Input.set(operator)\n",
    "\n",
    "\n",
    "# Text display\n",
    "txt_display = Entry(f2, font = ('arial', 20, 'bold'), textvariable = text_Input, bd = 30, insertwidth = 4,\n",
    "                    bg = 'powder blue', justify = 'right')\n",
    "txt_display.grid(columnspan = 4)\n",
    "\n",
    "\n",
    "# Initalize buttons\n",
    "btn7 = Button(f1, padx = 20, pady = 40, fg = 'black', font = ('arial', 20, 'bold'), \n",
    "              text = 'Investor Profile', bg = 'powder blue', command = lambda: btnClick(7)).grid(row = 2, column = 0)\n",
    "\n",
    "btn8 = Button(f2, padx = 16, pady = 16, fg = 'black', font = ('arial', 20, 'bold'), \n",
    "              text = '7', bg = 'powder blue', command = lambda: btnClick(7)).grid(row = 2, column = 1)\n",
    "\n",
    "btn9 = Button(f2, padx = 16, pady = 16, fg = 'black', font = ('arial', 20, 'bold'), \n",
    "              text = '7', bg = 'powder blue', command = lambda: btnClick(7)).grid(row = 2, column = 2)\n",
    "\n",
    "Addition = Button(f2, padx = 16, pady = 16, fg = 'black', font = ('arial', 20, 'bold'), \n",
    "              text = '7', bg = 'powder blue', command = lambda: btnClick('+')).grid(row = 2, column = 3)\n",
    "\n",
    "    "
   ]
  },
  {
   "cell_type": "code",
   "execution_count": 44,
   "metadata": {},
   "outputs": [],
   "source": [
    "root.mainloop()"
   ]
  },
  {
   "cell_type": "code",
   "execution_count": null,
   "metadata": {},
   "outputs": [],
   "source": []
  }
 ],
 "metadata": {
  "kernelspec": {
   "display_name": "Python 3",
   "language": "python",
   "name": "python3"
  },
  "language_info": {
   "codemirror_mode": {
    "name": "ipython",
    "version": 3
   },
   "file_extension": ".py",
   "mimetype": "text/x-python",
   "name": "python",
   "nbconvert_exporter": "python",
   "pygments_lexer": "ipython3",
   "version": "3.7.3"
  }
 },
 "nbformat": 4,
 "nbformat_minor": 2
}
