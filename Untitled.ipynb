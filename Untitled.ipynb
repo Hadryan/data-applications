{
 "cells": [
  {
   "cell_type": "code",
   "execution_count": 62,
   "metadata": {},
   "outputs": [],
   "source": [
    "import pandas_datareader as pdr\n",
    "import subprocess"
   ]
  },
  {
   "cell_type": "code",
   "execution_count": 46,
   "metadata": {},
   "outputs": [
    {
     "data": {
      "text/plain": [
       "Date\n",
       "2010-01-04    3.859\n",
       "2010-01-05    3.790\n",
       "2010-01-06    3.771\n",
       "2010-01-07    3.845\n",
       "2010-01-08    3.843\n",
       "Name: Open, dtype: float64"
      ]
     },
     "execution_count": 46,
     "metadata": {},
     "output_type": "execute_result"
    }
   ],
   "source": [
    "pdr.get_data_yahoo('^TNX')['Open'].head()"
   ]
  },
  {
   "cell_type": "code",
   "execution_count": 47,
   "metadata": {},
   "outputs": [
    {
     "data": {
      "text/html": [
       "<div>\n",
       "<style scoped>\n",
       "    .dataframe tbody tr th:only-of-type {\n",
       "        vertical-align: middle;\n",
       "    }\n",
       "\n",
       "    .dataframe tbody tr th {\n",
       "        vertical-align: top;\n",
       "    }\n",
       "\n",
       "    .dataframe thead th {\n",
       "        text-align: right;\n",
       "    }\n",
       "</style>\n",
       "<table border=\"1\" class=\"dataframe\">\n",
       "  <thead>\n",
       "    <tr style=\"text-align: right;\">\n",
       "      <th>Symbols</th>\n",
       "      <th>AAPL</th>\n",
       "      <th>GOOG</th>\n",
       "    </tr>\n",
       "    <tr>\n",
       "      <th>Date</th>\n",
       "      <th></th>\n",
       "      <th></th>\n",
       "    </tr>\n",
       "  </thead>\n",
       "  <tbody>\n",
       "    <tr>\n",
       "      <th>2010-01-04</th>\n",
       "      <td>30.490000</td>\n",
       "      <td>312.304413</td>\n",
       "    </tr>\n",
       "    <tr>\n",
       "      <th>2010-01-05</th>\n",
       "      <td>30.657143</td>\n",
       "      <td>312.418976</td>\n",
       "    </tr>\n",
       "    <tr>\n",
       "      <th>2010-01-06</th>\n",
       "      <td>30.625713</td>\n",
       "      <td>311.761444</td>\n",
       "    </tr>\n",
       "    <tr>\n",
       "      <th>2010-01-07</th>\n",
       "      <td>30.250000</td>\n",
       "      <td>303.562164</td>\n",
       "    </tr>\n",
       "    <tr>\n",
       "      <th>2010-01-08</th>\n",
       "      <td>30.042856</td>\n",
       "      <td>294.894653</td>\n",
       "    </tr>\n",
       "  </tbody>\n",
       "</table>\n",
       "</div>"
      ],
      "text/plain": [
       "Symbols          AAPL        GOOG\n",
       "Date                             \n",
       "2010-01-04  30.490000  312.304413\n",
       "2010-01-05  30.657143  312.418976\n",
       "2010-01-06  30.625713  311.761444\n",
       "2010-01-07  30.250000  303.562164\n",
       "2010-01-08  30.042856  294.894653"
      ]
     },
     "execution_count": 47,
     "metadata": {},
     "output_type": "execute_result"
    }
   ],
   "source": [
    "pdr.get_data_yahoo(['AAPL', 'GOOG'])['Open'].head()"
   ]
  },
  {
   "cell_type": "code",
   "execution_count": 48,
   "metadata": {},
   "outputs": [],
   "source": [
    "import pandas as pd\n",
    "import datetime\n",
    "\n",
    "ticker_symbols_list = ['AAPL', 'GOOG']\n",
    "main_df = pd.DataFrame()\n",
    "start_sp = datetime.datetime(1999, 10, 1)\n",
    "end_sp = datetime.datetime(2019, 10, 1)\n",
    "\n",
    "# for symbol in ticker_symbols_list:\n",
    "#     main_df[symbol] = pdr.get_data_yahoo(ticker_symbols_list, start_sp, end_sp)['Adj Close']\n",
    "\n",
    "ticker_symbols_list.extend(('SPY', '^TNX'))\n",
    "main_df = pdr.get_data_yahoo(ticker_symbols_list, start_sp, end_sp)['Adj Close']\n"
   ]
  },
  {
   "cell_type": "code",
   "execution_count": 49,
   "metadata": {},
   "outputs": [
    {
     "data": {
      "text/plain": [
       "Index(['AAPL', 'GOOG', 'SPY', '^TNX'], dtype='object', name='Symbols')"
      ]
     },
     "execution_count": 49,
     "metadata": {},
     "output_type": "execute_result"
    }
   ],
   "source": [
    "main_df.columns"
   ]
  },
  {
   "cell_type": "code",
   "execution_count": 50,
   "metadata": {},
   "outputs": [
    {
     "data": {
      "text/html": [
       "<div>\n",
       "<style scoped>\n",
       "    .dataframe tbody tr th:only-of-type {\n",
       "        vertical-align: middle;\n",
       "    }\n",
       "\n",
       "    .dataframe tbody tr th {\n",
       "        vertical-align: top;\n",
       "    }\n",
       "\n",
       "    .dataframe thead th {\n",
       "        text-align: right;\n",
       "    }\n",
       "</style>\n",
       "<table border=\"1\" class=\"dataframe\">\n",
       "  <thead>\n",
       "    <tr style=\"text-align: right;\">\n",
       "      <th>Symbols</th>\n",
       "      <th>AAPL</th>\n",
       "    </tr>\n",
       "    <tr>\n",
       "      <th>Date</th>\n",
       "      <th></th>\n",
       "    </tr>\n",
       "  </thead>\n",
       "  <tbody>\n",
       "    <tr>\n",
       "      <th>1999-10-01</th>\n",
       "      <td>1.923671</td>\n",
       "    </tr>\n",
       "    <tr>\n",
       "      <th>1999-10-04</th>\n",
       "      <td>2.012305</td>\n",
       "    </tr>\n",
       "    <tr>\n",
       "      <th>1999-10-05</th>\n",
       "      <td>2.117498</td>\n",
       "    </tr>\n",
       "    <tr>\n",
       "      <th>1999-10-06</th>\n",
       "      <td>2.094123</td>\n",
       "    </tr>\n",
       "    <tr>\n",
       "      <th>1999-10-07</th>\n",
       "      <td>2.068798</td>\n",
       "    </tr>\n",
       "  </tbody>\n",
       "</table>\n",
       "</div>"
      ],
      "text/plain": [
       "Symbols         AAPL\n",
       "Date                \n",
       "1999-10-01  1.923671\n",
       "1999-10-04  2.012305\n",
       "1999-10-05  2.117498\n",
       "1999-10-06  2.094123\n",
       "1999-10-07  2.068798"
      ]
     },
     "execution_count": 50,
     "metadata": {},
     "output_type": "execute_result"
    }
   ],
   "source": [
    "main_df[['AAPL']].head()"
   ]
  },
  {
   "cell_type": "code",
   "execution_count": 51,
   "metadata": {},
   "outputs": [
    {
     "data": {
      "text/html": [
       "<div>\n",
       "<style scoped>\n",
       "    .dataframe tbody tr th:only-of-type {\n",
       "        vertical-align: middle;\n",
       "    }\n",
       "\n",
       "    .dataframe tbody tr th {\n",
       "        vertical-align: top;\n",
       "    }\n",
       "\n",
       "    .dataframe thead th {\n",
       "        text-align: right;\n",
       "    }\n",
       "</style>\n",
       "<table border=\"1\" class=\"dataframe\">\n",
       "  <thead>\n",
       "    <tr style=\"text-align: right;\">\n",
       "      <th>Symbols</th>\n",
       "      <th>AAPL</th>\n",
       "      <th>GOOG</th>\n",
       "      <th>SPY</th>\n",
       "      <th>^TNX</th>\n",
       "    </tr>\n",
       "    <tr>\n",
       "      <th>Date</th>\n",
       "      <th></th>\n",
       "      <th></th>\n",
       "      <th></th>\n",
       "      <th></th>\n",
       "    </tr>\n",
       "  </thead>\n",
       "  <tbody>\n",
       "    <tr>\n",
       "      <th>1999-10-01</th>\n",
       "      <td>1.923671</td>\n",
       "      <td>NaN</td>\n",
       "      <td>88.530914</td>\n",
       "      <td>5.986</td>\n",
       "    </tr>\n",
       "    <tr>\n",
       "      <th>1999-10-04</th>\n",
       "      <td>2.012305</td>\n",
       "      <td>NaN</td>\n",
       "      <td>90.102982</td>\n",
       "      <td>5.935</td>\n",
       "    </tr>\n",
       "    <tr>\n",
       "      <th>1999-10-05</th>\n",
       "      <td>2.117498</td>\n",
       "      <td>NaN</td>\n",
       "      <td>90.016830</td>\n",
       "      <td>6.020</td>\n",
       "    </tr>\n",
       "    <tr>\n",
       "      <th>1999-10-06</th>\n",
       "      <td>2.094123</td>\n",
       "      <td>NaN</td>\n",
       "      <td>91.395126</td>\n",
       "      <td>6.033</td>\n",
       "    </tr>\n",
       "    <tr>\n",
       "      <th>1999-10-07</th>\n",
       "      <td>2.068798</td>\n",
       "      <td>NaN</td>\n",
       "      <td>90.878220</td>\n",
       "      <td>6.033</td>\n",
       "    </tr>\n",
       "  </tbody>\n",
       "</table>\n",
       "</div>"
      ],
      "text/plain": [
       "Symbols         AAPL  GOOG        SPY   ^TNX\n",
       "Date                                        \n",
       "1999-10-01  1.923671   NaN  88.530914  5.986\n",
       "1999-10-04  2.012305   NaN  90.102982  5.935\n",
       "1999-10-05  2.117498   NaN  90.016830  6.020\n",
       "1999-10-06  2.094123   NaN  91.395126  6.033\n",
       "1999-10-07  2.068798   NaN  90.878220  6.033"
      ]
     },
     "execution_count": 51,
     "metadata": {},
     "output_type": "execute_result"
    }
   ],
   "source": [
    "main_df.head()"
   ]
  },
  {
   "cell_type": "code",
   "execution_count": 52,
   "metadata": {},
   "outputs": [
    {
     "data": {
      "text/plain": [
       "Symbols\n",
       "AAPL     52.790223\n",
       "GOOG    476.600065\n",
       "SPY     132.530751\n",
       "^TNX      3.473510\n",
       "dtype: float64"
      ]
     },
     "execution_count": 52,
     "metadata": {},
     "output_type": "execute_result"
    }
   ],
   "source": [
    "main_df.mean()"
   ]
  },
  {
   "cell_type": "code",
   "execution_count": null,
   "metadata": {},
   "outputs": [],
   "source": [
    "aapl_mean = main['AAPL']\n",
    "goog_mean = main['GOOG']\n",
    "sp_mean = main['SPY']\n",
    "tnx_mean = \n",
    "\n",
    "\n"
   ]
  },
  {
   "cell_type": "code",
   "execution_count": 56,
   "metadata": {},
   "outputs": [],
   "source": [
    "main = main_df.mean().to_dict()"
   ]
  },
  {
   "cell_type": "code",
   "execution_count": 57,
   "metadata": {},
   "outputs": [
    {
     "data": {
      "text/plain": [
       "{'AAPL': 52.7902226552157,\n",
       " 'GOOG': 476.6000654292226,\n",
       " 'SPY': 132.53075053311474,\n",
       " '^TNX': 3.4735097474089858}"
      ]
     },
     "execution_count": 57,
     "metadata": {},
     "output_type": "execute_result"
    }
   ],
   "source": [
    "main"
   ]
  },
  {
   "cell_type": "code",
   "execution_count": 41,
   "metadata": {},
   "outputs": [
    {
     "data": {
      "text/plain": [
       "52.7902226552157"
      ]
     },
     "execution_count": 41,
     "metadata": {},
     "output_type": "execute_result"
    }
   ],
   "source": []
  },
  {
   "cell_type": "code",
   "execution_count": 58,
   "metadata": {},
   "outputs": [
    {
     "ename": "TypeError",
     "evalue": "unhashable type: 'slice'",
     "output_type": "error",
     "traceback": [
      "\u001b[1;31m---------------------------------------------------------------------------\u001b[0m",
      "\u001b[1;31mTypeError\u001b[0m                                 Traceback (most recent call last)",
      "\u001b[1;32m<ipython-input-58-a5c5b19fcd83>\u001b[0m in \u001b[0;36m<module>\u001b[1;34m\u001b[0m\n\u001b[0;32m      7\u001b[0m \u001b[1;33m\u001b[0m\u001b[0m\n\u001b[0;32m      8\u001b[0m \u001b[1;33m\u001b[0m\u001b[0m\n\u001b[1;32m----> 9\u001b[1;33m \u001b[0mtest\u001b[0m \u001b[1;33m=\u001b[0m \u001b[0mmain\u001b[0m\u001b[1;33m[\u001b[0m\u001b[1;33m-\u001b[0m\u001b[1;36m1\u001b[0m\u001b[1;33m:\u001b[0m\u001b[1;33m]\u001b[0m\u001b[1;33m\u001b[0m\u001b[1;33m\u001b[0m\u001b[0m\n\u001b[0m",
      "\u001b[1;31mTypeError\u001b[0m: unhashable type: 'slice'"
     ]
    }
   ],
   "source": [
    "# Set number of simulations and trading days\n",
    "# num_simulations = 1000\n",
    "# num_trading_days = 252 * 3\n",
    "\n",
    "# tsla_last_price = df['TSLA']['close'][-1]\n",
    "# sphd_last_price = df['SPHD']['close'][-1]\n",
    "\n",
    "\n",
    "test = main[-1:]\n"
   ]
  },
  {
   "cell_type": "code",
   "execution_count": 59,
   "metadata": {},
   "outputs": [
    {
     "data": {
      "text/plain": [
       "{'AAPL': 52.7902226552157,\n",
       " 'GOOG': 476.6000654292226,\n",
       " 'SPY': 132.53075053311474,\n",
       " '^TNX': 3.4735097474089858}"
      ]
     },
     "execution_count": 59,
     "metadata": {},
     "output_type": "execute_result"
    }
   ],
   "source": [
    "main"
   ]
  },
  {
   "cell_type": "code",
   "execution_count": 64,
   "metadata": {},
   "outputs": [],
   "source": [
    "def plot_data_table_again(final_df):\n",
    "    tabulated_table = tabulate(final_df, \n",
    "        #   headers = [\"Category\", \"Amount\"],\n",
    "          numalign=\"right\",\n",
    "          floatfmt=\".2f\",\n",
    "          tablefmt=\"pipe\")\n",
    "    return tabulated_table"
   ]
  },
  {
   "cell_type": "code",
   "execution_count": 66,
   "metadata": {},
   "outputs": [
    {
     "data": {
      "text/html": [
       "<div>\n",
       "<style scoped>\n",
       "    .dataframe tbody tr th:only-of-type {\n",
       "        vertical-align: middle;\n",
       "    }\n",
       "\n",
       "    .dataframe tbody tr th {\n",
       "        vertical-align: top;\n",
       "    }\n",
       "\n",
       "    .dataframe thead th {\n",
       "        text-align: right;\n",
       "    }\n",
       "</style>\n",
       "<table border=\"1\" class=\"dataframe\">\n",
       "  <thead>\n",
       "    <tr style=\"text-align: right;\">\n",
       "      <th>Symbols</th>\n",
       "      <th>AAPL</th>\n",
       "      <th>GOOG</th>\n",
       "      <th>SPY</th>\n",
       "      <th>^TNX</th>\n",
       "    </tr>\n",
       "    <tr>\n",
       "      <th>Date</th>\n",
       "      <th></th>\n",
       "      <th></th>\n",
       "      <th></th>\n",
       "      <th></th>\n",
       "    </tr>\n",
       "  </thead>\n",
       "  <tbody>\n",
       "    <tr>\n",
       "      <th>1999-10-01</th>\n",
       "      <td>1.923671</td>\n",
       "      <td>NaN</td>\n",
       "      <td>88.530914</td>\n",
       "      <td>5.986</td>\n",
       "    </tr>\n",
       "    <tr>\n",
       "      <th>1999-10-04</th>\n",
       "      <td>2.012305</td>\n",
       "      <td>NaN</td>\n",
       "      <td>90.102982</td>\n",
       "      <td>5.935</td>\n",
       "    </tr>\n",
       "    <tr>\n",
       "      <th>1999-10-05</th>\n",
       "      <td>2.117498</td>\n",
       "      <td>NaN</td>\n",
       "      <td>90.016830</td>\n",
       "      <td>6.020</td>\n",
       "    </tr>\n",
       "    <tr>\n",
       "      <th>1999-10-06</th>\n",
       "      <td>2.094123</td>\n",
       "      <td>NaN</td>\n",
       "      <td>91.395126</td>\n",
       "      <td>6.033</td>\n",
       "    </tr>\n",
       "    <tr>\n",
       "      <th>1999-10-07</th>\n",
       "      <td>2.068798</td>\n",
       "      <td>NaN</td>\n",
       "      <td>90.878220</td>\n",
       "      <td>6.033</td>\n",
       "    </tr>\n",
       "  </tbody>\n",
       "</table>\n",
       "</div>"
      ],
      "text/plain": [
       "Symbols         AAPL  GOOG        SPY   ^TNX\n",
       "Date                                        \n",
       "1999-10-01  1.923671   NaN  88.530914  5.986\n",
       "1999-10-04  2.012305   NaN  90.102982  5.935\n",
       "1999-10-05  2.117498   NaN  90.016830  6.020\n",
       "1999-10-06  2.094123   NaN  91.395126  6.033\n",
       "1999-10-07  2.068798   NaN  90.878220  6.033"
      ]
     },
     "execution_count": 66,
     "metadata": {},
     "output_type": "execute_result"
    }
   ],
   "source": [
    "main_df.head()"
   ]
  },
  {
   "cell_type": "code",
   "execution_count": 68,
   "metadata": {},
   "outputs": [],
   "source": [
    "returns = main_df.pct_change()"
   ]
  },
  {
   "cell_type": "code",
   "execution_count": 69,
   "metadata": {},
   "outputs": [
    {
     "data": {
      "text/html": [
       "<div>\n",
       "<style scoped>\n",
       "    .dataframe tbody tr th:only-of-type {\n",
       "        vertical-align: middle;\n",
       "    }\n",
       "\n",
       "    .dataframe tbody tr th {\n",
       "        vertical-align: top;\n",
       "    }\n",
       "\n",
       "    .dataframe thead th {\n",
       "        text-align: right;\n",
       "    }\n",
       "</style>\n",
       "<table border=\"1\" class=\"dataframe\">\n",
       "  <thead>\n",
       "    <tr style=\"text-align: right;\">\n",
       "      <th>Symbols</th>\n",
       "      <th>AAPL</th>\n",
       "      <th>GOOG</th>\n",
       "      <th>SPY</th>\n",
       "      <th>^TNX</th>\n",
       "    </tr>\n",
       "    <tr>\n",
       "      <th>Date</th>\n",
       "      <th></th>\n",
       "      <th></th>\n",
       "      <th></th>\n",
       "      <th></th>\n",
       "    </tr>\n",
       "  </thead>\n",
       "  <tbody>\n",
       "    <tr>\n",
       "      <th>1999-10-01</th>\n",
       "      <td>NaN</td>\n",
       "      <td>NaN</td>\n",
       "      <td>NaN</td>\n",
       "      <td>NaN</td>\n",
       "    </tr>\n",
       "    <tr>\n",
       "      <th>1999-10-04</th>\n",
       "      <td>0.046076</td>\n",
       "      <td>NaN</td>\n",
       "      <td>0.017757</td>\n",
       "      <td>-0.008520</td>\n",
       "    </tr>\n",
       "    <tr>\n",
       "      <th>1999-10-05</th>\n",
       "      <td>0.052275</td>\n",
       "      <td>NaN</td>\n",
       "      <td>-0.000956</td>\n",
       "      <td>0.014322</td>\n",
       "    </tr>\n",
       "    <tr>\n",
       "      <th>1999-10-06</th>\n",
       "      <td>-0.011039</td>\n",
       "      <td>NaN</td>\n",
       "      <td>0.015312</td>\n",
       "      <td>0.002159</td>\n",
       "    </tr>\n",
       "    <tr>\n",
       "      <th>1999-10-07</th>\n",
       "      <td>-0.012093</td>\n",
       "      <td>NaN</td>\n",
       "      <td>-0.005656</td>\n",
       "      <td>0.000000</td>\n",
       "    </tr>\n",
       "  </tbody>\n",
       "</table>\n",
       "</div>"
      ],
      "text/plain": [
       "Symbols         AAPL  GOOG       SPY      ^TNX\n",
       "Date                                          \n",
       "1999-10-01       NaN   NaN       NaN       NaN\n",
       "1999-10-04  0.046076   NaN  0.017757 -0.008520\n",
       "1999-10-05  0.052275   NaN -0.000956  0.014322\n",
       "1999-10-06 -0.011039   NaN  0.015312  0.002159\n",
       "1999-10-07 -0.012093   NaN -0.005656  0.000000"
      ]
     },
     "execution_count": 69,
     "metadata": {},
     "output_type": "execute_result"
    }
   ],
   "source": [
    "returns.head()"
   ]
  },
  {
   "cell_type": "code",
   "execution_count": 70,
   "metadata": {},
   "outputs": [],
   "source": [
    "mean = returns.mean()"
   ]
  },
  {
   "cell_type": "code",
   "execution_count": 72,
   "metadata": {},
   "outputs": [
    {
     "data": {
      "text/plain": [
       "pandas.core.series.Series"
      ]
     },
     "execution_count": 72,
     "metadata": {},
     "output_type": "execute_result"
    }
   ],
   "source": [
    "type(mean)"
   ]
  },
  {
   "cell_type": "code",
   "execution_count": 73,
   "metadata": {},
   "outputs": [],
   "source": [
    "mean_returns_series = mean.round(4)*1000"
   ]
  },
  {
   "cell_type": "code",
   "execution_count": 75,
   "metadata": {},
   "outputs": [
    {
     "data": {
      "text/plain": [
       "Symbols\n",
       "AAPL    1.3\n",
       "GOOG    1.0\n",
       "SPY     0.3\n",
       "^TNX   -0.1\n",
       "dtype: float64"
      ]
     },
     "execution_count": 75,
     "metadata": {},
     "output_type": "execute_result"
    }
   ],
   "source": [
    "mean_returns_series"
   ]
  },
  {
   "cell_type": "code",
   "execution_count": 76,
   "metadata": {},
   "outputs": [
    {
     "data": {
      "text/html": [
       "<div>\n",
       "<style scoped>\n",
       "    .dataframe tbody tr th:only-of-type {\n",
       "        vertical-align: middle;\n",
       "    }\n",
       "\n",
       "    .dataframe tbody tr th {\n",
       "        vertical-align: top;\n",
       "    }\n",
       "\n",
       "    .dataframe thead th {\n",
       "        text-align: right;\n",
       "    }\n",
       "</style>\n",
       "<table border=\"1\" class=\"dataframe\">\n",
       "  <thead>\n",
       "    <tr style=\"text-align: right;\">\n",
       "      <th>Symbols</th>\n",
       "      <th>AAPL</th>\n",
       "      <th>GOOG</th>\n",
       "      <th>SPY</th>\n",
       "      <th>^TNX</th>\n",
       "    </tr>\n",
       "    <tr>\n",
       "      <th>Symbols</th>\n",
       "      <th></th>\n",
       "      <th></th>\n",
       "      <th></th>\n",
       "      <th></th>\n",
       "    </tr>\n",
       "  </thead>\n",
       "  <tbody>\n",
       "    <tr>\n",
       "      <th>AAPL</th>\n",
       "      <td>3553.418468</td>\n",
       "      <td>18830.045011</td>\n",
       "      <td>3649.825681</td>\n",
       "      <td>-51.286642</td>\n",
       "    </tr>\n",
       "    <tr>\n",
       "      <th>GOOG</th>\n",
       "      <td>18830.045011</td>\n",
       "      <td>105891.559107</td>\n",
       "      <td>20540.990451</td>\n",
       "      <td>-171.583834</td>\n",
       "    </tr>\n",
       "    <tr>\n",
       "      <th>SPY</th>\n",
       "      <td>3649.825681</td>\n",
       "      <td>20540.990451</td>\n",
       "      <td>3980.298191</td>\n",
       "      <td>-45.676757</td>\n",
       "    </tr>\n",
       "    <tr>\n",
       "      <th>^TNX</th>\n",
       "      <td>-51.286642</td>\n",
       "      <td>-171.583834</td>\n",
       "      <td>-45.676757</td>\n",
       "      <td>1.584412</td>\n",
       "    </tr>\n",
       "  </tbody>\n",
       "</table>\n",
       "</div>"
      ],
      "text/plain": [
       "Symbols          AAPL           GOOG           SPY        ^TNX\n",
       "Symbols                                                       \n",
       "AAPL      3553.418468   18830.045011   3649.825681  -51.286642\n",
       "GOOG     18830.045011  105891.559107  20540.990451 -171.583834\n",
       "SPY       3649.825681   20540.990451   3980.298191  -45.676757\n",
       "^TNX       -51.286642    -171.583834    -45.676757    1.584412"
      ]
     },
     "execution_count": 76,
     "metadata": {},
     "output_type": "execute_result"
    }
   ],
   "source": [
    "main_df.cov()"
   ]
  },
  {
   "cell_type": "code",
   "execution_count": 77,
   "metadata": {},
   "outputs": [
    {
     "data": {
      "text/plain": [
       "Symbols\n",
       "AAPL      3553.418468\n",
       "GOOG    105891.559107\n",
       "SPY       3980.298191\n",
       "^TNX         1.584412\n",
       "dtype: float64"
      ]
     },
     "execution_count": 77,
     "metadata": {},
     "output_type": "execute_result"
    }
   ],
   "source": [
    "main_df.var()"
   ]
  },
  {
   "cell_type": "code",
   "execution_count": null,
   "metadata": {},
   "outputs": [],
   "source": []
  }
 ],
 "metadata": {
  "kernelspec": {
   "display_name": "Python 3",
   "language": "python",
   "name": "python3"
  },
  "language_info": {
   "codemirror_mode": {
    "name": "ipython",
    "version": 3
   },
   "file_extension": ".py",
   "mimetype": "text/x-python",
   "name": "python",
   "nbconvert_exporter": "python",
   "pygments_lexer": "ipython3",
   "version": "3.7.3"
  }
 },
 "nbformat": 4,
 "nbformat_minor": 2
}
